{
 "cells": [
  {
   "cell_type": "code",
   "execution_count": null,
   "metadata": {},
   "outputs": [],
   "source": [
    "# !pip install selenium"
   ]
  },
  {
   "cell_type": "code",
   "execution_count": 2,
   "metadata": {},
   "outputs": [],
   "source": [
    "import selenium\n",
    "import pandas as pd\n",
    "from selenium import webdriver"
   ]
  },
  {
   "cell_type": "code",
   "execution_count": 205,
   "metadata": {},
   "outputs": [],
   "source": [
    "driver = webdriver.Chrome(\"chromedriver.exe\")"
   ]
  },
  {
   "cell_type": "markdown",
   "metadata": {},
   "source": [
    "Q1."
   ]
  },
  {
   "cell_type": "code",
   "execution_count": 13,
   "metadata": {},
   "outputs": [],
   "source": [
    "url = \"https://www.naukri.com\"\n",
    "driver.get(url)"
   ]
  },
  {
   "cell_type": "code",
   "execution_count": 14,
   "metadata": {},
   "outputs": [
    {
     "data": {
      "text/plain": [
       "<selenium.webdriver.remote.webelement.WebElement (session=\"0245ed081313cbb4b462a4aeff70ff8d\", element=\"430578de-3b82-47c1-a658-2f57a6ed2344\")>"
      ]
     },
     "execution_count": 14,
     "metadata": {},
     "output_type": "execute_result"
    }
   ],
   "source": [
    "search_job=driver.find_element_by_id(\"qsb-keyword-sugg\")\n",
    "search_job"
   ]
  },
  {
   "cell_type": "code",
   "execution_count": 15,
   "metadata": {},
   "outputs": [],
   "source": [
    "search_job.send_keys(\"Data Analyst\")"
   ]
  },
  {
   "cell_type": "code",
   "execution_count": 16,
   "metadata": {},
   "outputs": [
    {
     "data": {
      "text/plain": [
       "<selenium.webdriver.remote.webelement.WebElement (session=\"0245ed081313cbb4b462a4aeff70ff8d\", element=\"58f4b880-741f-419c-bb97-499ec01f07b7\")>"
      ]
     },
     "execution_count": 16,
     "metadata": {},
     "output_type": "execute_result"
    }
   ],
   "source": [
    "search_loc = driver.find_element_by_id(\"qsb-location-sugg\")\n",
    "search_loc"
   ]
  },
  {
   "cell_type": "code",
   "execution_count": 17,
   "metadata": {},
   "outputs": [],
   "source": [
    "search_loc.send_keys(\"Banglore\")"
   ]
  },
  {
   "cell_type": "code",
   "execution_count": 18,
   "metadata": {},
   "outputs": [
    {
     "data": {
      "text/plain": [
       "<selenium.webdriver.remote.webelement.WebElement (session=\"0245ed081313cbb4b462a4aeff70ff8d\", element=\"1a2b169a-5fbc-4387-8929-1e555b54e7b1\")>"
      ]
     },
     "execution_count": 18,
     "metadata": {},
     "output_type": "execute_result"
    }
   ],
   "source": [
    "search_btn = driver.find_element_by_xpath(\"//button[@class='btn']\")\n",
    "search_btn"
   ]
  },
  {
   "cell_type": "code",
   "execution_count": 19,
   "metadata": {},
   "outputs": [],
   "source": [
    "search_btn.click()"
   ]
  },
  {
   "cell_type": "code",
   "execution_count": 21,
   "metadata": {},
   "outputs": [
    {
     "data": {
      "text/plain": [
       "[<selenium.webdriver.remote.webelement.WebElement (session=\"0245ed081313cbb4b462a4aeff70ff8d\", element=\"7fa61035-a5c5-44f5-8d5c-1ae580988ced\")>,\n",
       " <selenium.webdriver.remote.webelement.WebElement (session=\"0245ed081313cbb4b462a4aeff70ff8d\", element=\"fb73ecc4-20c2-4176-9df1-d0d0d50dcf30\")>,\n",
       " <selenium.webdriver.remote.webelement.WebElement (session=\"0245ed081313cbb4b462a4aeff70ff8d\", element=\"6b613bae-964a-47ab-91b7-9e14cbe762eb\")>,\n",
       " <selenium.webdriver.remote.webelement.WebElement (session=\"0245ed081313cbb4b462a4aeff70ff8d\", element=\"927e9af6-fee3-4e27-9b51-4da77bf7e9fa\")>,\n",
       " <selenium.webdriver.remote.webelement.WebElement (session=\"0245ed081313cbb4b462a4aeff70ff8d\", element=\"c0fdfeab-0f8d-4a0c-b1b6-ccc72e7ee453\")>,\n",
       " <selenium.webdriver.remote.webelement.WebElement (session=\"0245ed081313cbb4b462a4aeff70ff8d\", element=\"7b6bc469-c4f5-4b69-9d2e-0f8ffc99e741\")>,\n",
       " <selenium.webdriver.remote.webelement.WebElement (session=\"0245ed081313cbb4b462a4aeff70ff8d\", element=\"f130b872-268d-4df4-97e9-b9148fde0a84\")>,\n",
       " <selenium.webdriver.remote.webelement.WebElement (session=\"0245ed081313cbb4b462a4aeff70ff8d\", element=\"cc34f833-bfa2-43a5-a878-8da9b57a55e9\")>,\n",
       " <selenium.webdriver.remote.webelement.WebElement (session=\"0245ed081313cbb4b462a4aeff70ff8d\", element=\"21164509-4328-4d85-bb40-a09a531eec1b\")>,\n",
       " <selenium.webdriver.remote.webelement.WebElement (session=\"0245ed081313cbb4b462a4aeff70ff8d\", element=\"524a7bb3-eed2-4683-857f-b579863ebab7\")>,\n",
       " <selenium.webdriver.remote.webelement.WebElement (session=\"0245ed081313cbb4b462a4aeff70ff8d\", element=\"a9d7b091-c37b-4b7f-afc1-c98f5eb8c9c7\")>,\n",
       " <selenium.webdriver.remote.webelement.WebElement (session=\"0245ed081313cbb4b462a4aeff70ff8d\", element=\"83c9d10b-091e-4298-837a-e09b7919073e\")>,\n",
       " <selenium.webdriver.remote.webelement.WebElement (session=\"0245ed081313cbb4b462a4aeff70ff8d\", element=\"d7c9d9ab-25be-4600-95a8-3f17d6c31755\")>,\n",
       " <selenium.webdriver.remote.webelement.WebElement (session=\"0245ed081313cbb4b462a4aeff70ff8d\", element=\"d3e88f02-ac3f-48e1-8ced-59c58d647c91\")>,\n",
       " <selenium.webdriver.remote.webelement.WebElement (session=\"0245ed081313cbb4b462a4aeff70ff8d\", element=\"c9ca2a30-d6b1-4d74-ba07-3ff891cade66\")>,\n",
       " <selenium.webdriver.remote.webelement.WebElement (session=\"0245ed081313cbb4b462a4aeff70ff8d\", element=\"760f8e4a-5c56-430b-aa20-b291cdf833a7\")>,\n",
       " <selenium.webdriver.remote.webelement.WebElement (session=\"0245ed081313cbb4b462a4aeff70ff8d\", element=\"d6fcd5cf-dfbe-49d7-a1dd-57ae6d73d68f\")>,\n",
       " <selenium.webdriver.remote.webelement.WebElement (session=\"0245ed081313cbb4b462a4aeff70ff8d\", element=\"e46f6157-6f6f-4962-8dc7-50f7a23da717\")>,\n",
       " <selenium.webdriver.remote.webelement.WebElement (session=\"0245ed081313cbb4b462a4aeff70ff8d\", element=\"148e6429-009f-4a1f-ab79-ee8f833d5d39\")>,\n",
       " <selenium.webdriver.remote.webelement.WebElement (session=\"0245ed081313cbb4b462a4aeff70ff8d\", element=\"d79c95e4-35dd-41e8-9f11-139de3eabda1\")>]"
      ]
     },
     "execution_count": 21,
     "metadata": {},
     "output_type": "execute_result"
    }
   ],
   "source": [
    "titles_tags = driver.find_elements_by_xpath(\"//a[@class='title fw500 ellipsis']\")\n",
    "titles_tags"
   ]
  },
  {
   "cell_type": "code",
   "execution_count": 22,
   "metadata": {},
   "outputs": [
    {
     "data": {
      "text/plain": [
       "['Business Data Analyst',\n",
       " 'Business Data Analyst',\n",
       " 'Data Analyst/Business Analyst-Gurgaon/Bangalore/Mumbai (only Females)',\n",
       " 'Business Data Analyst II',\n",
       " 'Data Analyst',\n",
       " 'Data Analyst',\n",
       " 'Data Analyst',\n",
       " 'Data Analyst',\n",
       " 'Data Analyst',\n",
       " 'Senior Data Analyst',\n",
       " 'Senior Data Analyst - SQL/Tableau/Redshift',\n",
       " 'Data Analyst',\n",
       " 'Data Analyst _ 2-5 Years _ Bangalore',\n",
       " 'Data Analyst',\n",
       " 'Data Analyst',\n",
       " 'Data Annotator | Data Entry | Work From Home | Data analyst | Data QC',\n",
       " 'Systems and Data Analyst, Safety and Provisioning',\n",
       " 'Business Analyst - Big Data',\n",
       " 'Senior Data Analyst',\n",
       " 'ID&A - Data Analyst - Informatica MDM']"
      ]
     },
     "execution_count": 22,
     "metadata": {},
     "output_type": "execute_result"
    }
   ],
   "source": [
    "job_titles = []\n",
    "for i in titles_tags:\n",
    "    job_titles.append(i.text)\n",
    "job_titles"
   ]
  },
  {
   "cell_type": "code",
   "execution_count": 23,
   "metadata": {},
   "outputs": [
    {
     "data": {
      "text/plain": [
       "[<selenium.webdriver.remote.webelement.WebElement (session=\"0245ed081313cbb4b462a4aeff70ff8d\", element=\"a40dfb72-7ea3-4851-9d9f-7bbb282af8d2\")>,\n",
       " <selenium.webdriver.remote.webelement.WebElement (session=\"0245ed081313cbb4b462a4aeff70ff8d\", element=\"0da4313c-c459-40ab-b13f-1121dc0f50d4\")>,\n",
       " <selenium.webdriver.remote.webelement.WebElement (session=\"0245ed081313cbb4b462a4aeff70ff8d\", element=\"6f46ec3f-6c28-40c7-826c-e03a2aea9d39\")>,\n",
       " <selenium.webdriver.remote.webelement.WebElement (session=\"0245ed081313cbb4b462a4aeff70ff8d\", element=\"a294a76e-17b0-4a45-b052-6285b0744d07\")>,\n",
       " <selenium.webdriver.remote.webelement.WebElement (session=\"0245ed081313cbb4b462a4aeff70ff8d\", element=\"159205f7-a3e9-4282-88ae-3612007569ea\")>,\n",
       " <selenium.webdriver.remote.webelement.WebElement (session=\"0245ed081313cbb4b462a4aeff70ff8d\", element=\"da45b535-5c32-406b-8be1-a0fe66361672\")>,\n",
       " <selenium.webdriver.remote.webelement.WebElement (session=\"0245ed081313cbb4b462a4aeff70ff8d\", element=\"78fa9d35-519b-47d2-ab76-c8a597f958a5\")>,\n",
       " <selenium.webdriver.remote.webelement.WebElement (session=\"0245ed081313cbb4b462a4aeff70ff8d\", element=\"e6abea7d-917b-4ae9-a4ba-22b819e0b92d\")>,\n",
       " <selenium.webdriver.remote.webelement.WebElement (session=\"0245ed081313cbb4b462a4aeff70ff8d\", element=\"34863d1f-778e-4935-b673-5f8a3b134fa4\")>,\n",
       " <selenium.webdriver.remote.webelement.WebElement (session=\"0245ed081313cbb4b462a4aeff70ff8d\", element=\"2d2ecc6f-ff46-4788-b0df-f56bb40e4e4d\")>,\n",
       " <selenium.webdriver.remote.webelement.WebElement (session=\"0245ed081313cbb4b462a4aeff70ff8d\", element=\"363a5226-a472-4cd3-88a3-3f386e4d0f58\")>,\n",
       " <selenium.webdriver.remote.webelement.WebElement (session=\"0245ed081313cbb4b462a4aeff70ff8d\", element=\"97f9dfc7-919b-4b8c-911b-695880b6e5ce\")>,\n",
       " <selenium.webdriver.remote.webelement.WebElement (session=\"0245ed081313cbb4b462a4aeff70ff8d\", element=\"c9cb9524-88b6-49a4-913a-9cb8616126e1\")>,\n",
       " <selenium.webdriver.remote.webelement.WebElement (session=\"0245ed081313cbb4b462a4aeff70ff8d\", element=\"55cbcf41-3115-4522-8b0e-20f1c78e3810\")>,\n",
       " <selenium.webdriver.remote.webelement.WebElement (session=\"0245ed081313cbb4b462a4aeff70ff8d\", element=\"02dda3de-944d-4113-94cb-a51e92b81cef\")>,\n",
       " <selenium.webdriver.remote.webelement.WebElement (session=\"0245ed081313cbb4b462a4aeff70ff8d\", element=\"11f8ec9c-c898-4f4c-9a6f-aedf5f2f26e8\")>,\n",
       " <selenium.webdriver.remote.webelement.WebElement (session=\"0245ed081313cbb4b462a4aeff70ff8d\", element=\"0f12465e-b5cb-4c0c-9460-1443f942a606\")>,\n",
       " <selenium.webdriver.remote.webelement.WebElement (session=\"0245ed081313cbb4b462a4aeff70ff8d\", element=\"3705271d-ea3c-4c02-a263-6fbabe4f5b9b\")>,\n",
       " <selenium.webdriver.remote.webelement.WebElement (session=\"0245ed081313cbb4b462a4aeff70ff8d\", element=\"57dc836f-d954-4460-959b-3747634db02d\")>,\n",
       " <selenium.webdriver.remote.webelement.WebElement (session=\"0245ed081313cbb4b462a4aeff70ff8d\", element=\"29fc0a76-4480-4af6-bb11-4df2e6b5d221\")>]"
      ]
     },
     "execution_count": 23,
     "metadata": {},
     "output_type": "execute_result"
    }
   ],
   "source": [
    "companies_tags = driver.find_elements_by_xpath(\"//a[@class='subTitle ellipsis fleft']\")\n",
    "companies_tags"
   ]
  },
  {
   "cell_type": "code",
   "execution_count": 24,
   "metadata": {},
   "outputs": [
    {
     "data": {
      "text/plain": [
       "['Trigent Software',\n",
       " 'Trigent Software',\n",
       " 'India Medtronic Pvt. Ltd,.',\n",
       " 'Infobahn Softworld Inc.',\n",
       " 'WEIWO Communication Pvt. Ltd.',\n",
       " 'GCC SERVICES INDIA PRIVATE LIMITED',\n",
       " 'Allegis Services India Pvt. Ltd.',\n",
       " 'Allegis Services India Pvt. Ltd.',\n",
       " 'Enzen Global Solutions Pvt. Ltd',\n",
       " 'Liventus, Inc.',\n",
       " 'Pronto Consulting Services',\n",
       " 'Infobahn Softworld Inc.',\n",
       " 'Teamware Solutions ( A division of Quantum Leap Co nsulting Private LTD).',\n",
       " 'vLogix Technologies Pvt. Ltd.,',\n",
       " 'Rubixe (A brand under Think Ahead Innovations Pvt Ltd)',\n",
       " 'saarthi.ai',\n",
       " 'AECOM India Private Limited',\n",
       " 'Brillio',\n",
       " 'Publicis Groupe',\n",
       " 'Shell India Markets Private Limited']"
      ]
     },
     "execution_count": 24,
     "metadata": {},
     "output_type": "execute_result"
    }
   ],
   "source": [
    "company_names = []\n",
    "for i in companies_tags:\n",
    "    company_names.append(i.text)\n",
    "company_names"
   ]
  },
  {
   "cell_type": "code",
   "execution_count": 25,
   "metadata": {},
   "outputs": [
    {
     "data": {
      "text/plain": [
       "[<selenium.webdriver.remote.webelement.WebElement (session=\"0245ed081313cbb4b462a4aeff70ff8d\", element=\"29526404-779c-4bc0-a6fc-7e55f0980aad\")>,\n",
       " <selenium.webdriver.remote.webelement.WebElement (session=\"0245ed081313cbb4b462a4aeff70ff8d\", element=\"4c1b8ab0-e936-4540-989e-afff5240e92f\")>,\n",
       " <selenium.webdriver.remote.webelement.WebElement (session=\"0245ed081313cbb4b462a4aeff70ff8d\", element=\"138fe855-e838-43ce-95b8-eb5d137b9404\")>,\n",
       " <selenium.webdriver.remote.webelement.WebElement (session=\"0245ed081313cbb4b462a4aeff70ff8d\", element=\"65d50337-0136-4700-8303-a757634eec88\")>,\n",
       " <selenium.webdriver.remote.webelement.WebElement (session=\"0245ed081313cbb4b462a4aeff70ff8d\", element=\"f184ea87-8fa6-4da0-a1d1-d7fafb079c66\")>,\n",
       " <selenium.webdriver.remote.webelement.WebElement (session=\"0245ed081313cbb4b462a4aeff70ff8d\", element=\"c7910c26-8bc6-47af-be73-a693424407f6\")>,\n",
       " <selenium.webdriver.remote.webelement.WebElement (session=\"0245ed081313cbb4b462a4aeff70ff8d\", element=\"bdfe18f7-daaf-4064-b30c-52b353675f3a\")>,\n",
       " <selenium.webdriver.remote.webelement.WebElement (session=\"0245ed081313cbb4b462a4aeff70ff8d\", element=\"18261fc7-154c-4962-94f3-9420cf48e514\")>,\n",
       " <selenium.webdriver.remote.webelement.WebElement (session=\"0245ed081313cbb4b462a4aeff70ff8d\", element=\"25efb5b8-600c-4e94-863a-22ec8a0c737e\")>,\n",
       " <selenium.webdriver.remote.webelement.WebElement (session=\"0245ed081313cbb4b462a4aeff70ff8d\", element=\"74c18cc9-223f-4c42-a011-362b5d939660\")>,\n",
       " <selenium.webdriver.remote.webelement.WebElement (session=\"0245ed081313cbb4b462a4aeff70ff8d\", element=\"1b6114c8-e068-47a1-ac1f-6cd4a5df1e3b\")>,\n",
       " <selenium.webdriver.remote.webelement.WebElement (session=\"0245ed081313cbb4b462a4aeff70ff8d\", element=\"19e42e30-e75e-4e7e-b4fd-42e130141b19\")>,\n",
       " <selenium.webdriver.remote.webelement.WebElement (session=\"0245ed081313cbb4b462a4aeff70ff8d\", element=\"c3496004-cff9-48e2-8ed5-480290518db8\")>,\n",
       " <selenium.webdriver.remote.webelement.WebElement (session=\"0245ed081313cbb4b462a4aeff70ff8d\", element=\"28bd974d-cc31-48c6-ad73-f1176bd7fd93\")>,\n",
       " <selenium.webdriver.remote.webelement.WebElement (session=\"0245ed081313cbb4b462a4aeff70ff8d\", element=\"c73625bf-258a-425c-b490-85f7bc3d974f\")>,\n",
       " <selenium.webdriver.remote.webelement.WebElement (session=\"0245ed081313cbb4b462a4aeff70ff8d\", element=\"06ff66a5-9651-4819-a626-24decd4402b2\")>,\n",
       " <selenium.webdriver.remote.webelement.WebElement (session=\"0245ed081313cbb4b462a4aeff70ff8d\", element=\"0b644860-8d41-4dec-998c-04ba2ad72719\")>,\n",
       " <selenium.webdriver.remote.webelement.WebElement (session=\"0245ed081313cbb4b462a4aeff70ff8d\", element=\"497cc575-4a03-4d68-bff2-ba9a20ee98fe\")>,\n",
       " <selenium.webdriver.remote.webelement.WebElement (session=\"0245ed081313cbb4b462a4aeff70ff8d\", element=\"3571fde8-15ed-45e1-95cc-a641babd3066\")>,\n",
       " <selenium.webdriver.remote.webelement.WebElement (session=\"0245ed081313cbb4b462a4aeff70ff8d\", element=\"af90f0f5-5929-4b4c-810f-fbeda4ffb5ea\")>]"
      ]
     },
     "execution_count": 25,
     "metadata": {},
     "output_type": "execute_result"
    }
   ],
   "source": [
    "experience_tags = driver.find_elements_by_xpath(\"//li[@class='fleft grey-text br2 placeHolderLi experience']//span\")\n",
    "experience_tags"
   ]
  },
  {
   "cell_type": "code",
   "execution_count": 26,
   "metadata": {},
   "outputs": [
    {
     "data": {
      "text/plain": [
       "['3-5 Yrs',\n",
       " '3-5 Yrs',\n",
       " '1-4 Yrs',\n",
       " '5-8 Yrs',\n",
       " '4-8 Yrs',\n",
       " '5-9 Yrs',\n",
       " '2-5 Yrs',\n",
       " '3-5 Yrs',\n",
       " '6-8 Yrs',\n",
       " '5-8 Yrs',\n",
       " '6-10 Yrs',\n",
       " '3-9 Yrs',\n",
       " '2-5 Yrs',\n",
       " '8-12 Yrs',\n",
       " '2-6 Yrs',\n",
       " '0-2 Yrs',\n",
       " '3-5 Yrs',\n",
       " '2-5 Yrs',\n",
       " '1-3 Yrs',\n",
       " '6-9 Yrs']"
      ]
     },
     "execution_count": 26,
     "metadata": {},
     "output_type": "execute_result"
    }
   ],
   "source": [
    "experience_list = []\n",
    "for i in experience_tags:\n",
    "    experience_list.append(i.text)\n",
    "experience_list"
   ]
  },
  {
   "cell_type": "code",
   "execution_count": 27,
   "metadata": {},
   "outputs": [
    {
     "data": {
      "text/plain": [
       "[<selenium.webdriver.remote.webelement.WebElement (session=\"0245ed081313cbb4b462a4aeff70ff8d\", element=\"15516ea9-7278-44ad-a01f-a6ddb7530e86\")>,\n",
       " <selenium.webdriver.remote.webelement.WebElement (session=\"0245ed081313cbb4b462a4aeff70ff8d\", element=\"bf132803-25ff-4680-8452-70b8293e12c9\")>,\n",
       " <selenium.webdriver.remote.webelement.WebElement (session=\"0245ed081313cbb4b462a4aeff70ff8d\", element=\"e6cdd005-3354-4d85-9a8e-f75eb7f9ba9a\")>,\n",
       " <selenium.webdriver.remote.webelement.WebElement (session=\"0245ed081313cbb4b462a4aeff70ff8d\", element=\"4b2649c9-edad-4814-a7e6-366239b91214\")>,\n",
       " <selenium.webdriver.remote.webelement.WebElement (session=\"0245ed081313cbb4b462a4aeff70ff8d\", element=\"7e26aac6-1c7f-44e4-a64d-01a9438e0808\")>,\n",
       " <selenium.webdriver.remote.webelement.WebElement (session=\"0245ed081313cbb4b462a4aeff70ff8d\", element=\"94b11d63-58f7-4807-a554-e8bd87d6d9f9\")>,\n",
       " <selenium.webdriver.remote.webelement.WebElement (session=\"0245ed081313cbb4b462a4aeff70ff8d\", element=\"467c582f-7bdb-4bcc-aeae-b6fc77c1bde9\")>,\n",
       " <selenium.webdriver.remote.webelement.WebElement (session=\"0245ed081313cbb4b462a4aeff70ff8d\", element=\"ff43d5bb-f42d-4850-ba17-308c6cc76be2\")>,\n",
       " <selenium.webdriver.remote.webelement.WebElement (session=\"0245ed081313cbb4b462a4aeff70ff8d\", element=\"f40b6bc1-511c-46b1-ad3a-e637b299dc13\")>,\n",
       " <selenium.webdriver.remote.webelement.WebElement (session=\"0245ed081313cbb4b462a4aeff70ff8d\", element=\"3a3375b5-81c6-4eac-bae1-7d6deb556b91\")>,\n",
       " <selenium.webdriver.remote.webelement.WebElement (session=\"0245ed081313cbb4b462a4aeff70ff8d\", element=\"1210cf27-5d53-4c29-b480-c91578c081a2\")>,\n",
       " <selenium.webdriver.remote.webelement.WebElement (session=\"0245ed081313cbb4b462a4aeff70ff8d\", element=\"6d12bc38-50d4-4a75-ab96-1b807eb40e8e\")>,\n",
       " <selenium.webdriver.remote.webelement.WebElement (session=\"0245ed081313cbb4b462a4aeff70ff8d\", element=\"9b09c594-0074-4141-a07f-128246e12d3c\")>,\n",
       " <selenium.webdriver.remote.webelement.WebElement (session=\"0245ed081313cbb4b462a4aeff70ff8d\", element=\"df9a131f-cce1-4c32-a269-50410376ffeb\")>,\n",
       " <selenium.webdriver.remote.webelement.WebElement (session=\"0245ed081313cbb4b462a4aeff70ff8d\", element=\"f1686351-dc99-4ae1-8d76-418b8d934fcc\")>,\n",
       " <selenium.webdriver.remote.webelement.WebElement (session=\"0245ed081313cbb4b462a4aeff70ff8d\", element=\"8ddceb7a-562b-4f12-8d62-4715b9fc705e\")>,\n",
       " <selenium.webdriver.remote.webelement.WebElement (session=\"0245ed081313cbb4b462a4aeff70ff8d\", element=\"fa3caeea-c468-403b-9bf4-97903e8c2235\")>,\n",
       " <selenium.webdriver.remote.webelement.WebElement (session=\"0245ed081313cbb4b462a4aeff70ff8d\", element=\"9fa006ec-c713-4fdd-bf97-1ce3037962cf\")>,\n",
       " <selenium.webdriver.remote.webelement.WebElement (session=\"0245ed081313cbb4b462a4aeff70ff8d\", element=\"4badd6f6-246a-4340-9444-175a55ebd910\")>,\n",
       " <selenium.webdriver.remote.webelement.WebElement (session=\"0245ed081313cbb4b462a4aeff70ff8d\", element=\"8c59eba5-b1fe-477e-bc36-f6fe4d000021\")>]"
      ]
     },
     "execution_count": 27,
     "metadata": {},
     "output_type": "execute_result"
    }
   ],
   "source": [
    "locations_tags = driver.find_elements_by_xpath(\"//li[@class='fleft grey-text br2 placeHolderLi location']//span[1]\")\n",
    "locations_tags"
   ]
  },
  {
   "cell_type": "code",
   "execution_count": 28,
   "metadata": {},
   "outputs": [
    {
     "data": {
      "text/plain": [
       "['Bangalore/Bengaluru',\n",
       " 'Bangalore/Bengaluru',\n",
       " 'Gurgaon/Gurugram, Bangalore/Bengaluru, Mumbai (All Areas)',\n",
       " 'Bangalore/Bengaluru',\n",
       " 'Bangalore/Bengaluru(Ulsoor)',\n",
       " 'Bangalore/Bengaluru',\n",
       " 'Bangalore/Bengaluru',\n",
       " 'Bangalore/Bengaluru',\n",
       " 'Bangalore/Bengaluru',\n",
       " 'Bangalore/Bengaluru(2nd Phase JP Nagar)',\n",
       " 'Noida, Mumbai, Indore, Hyderabad/Secunderabad, Pune, Chennai, Bangalore/Bengaluru',\n",
       " 'Bangalore/Bengaluru',\n",
       " 'Bangalore/Bengaluru',\n",
       " 'Chennai, Bangalore/Bengaluru',\n",
       " 'Bangalore/Bengaluru',\n",
       " 'Bangalore/Bengaluru',\n",
       " 'Bangalore/Bengaluru',\n",
       " 'Bangalore/Bengaluru',\n",
       " 'Bangalore/Bengaluru',\n",
       " 'Bangalore/Bengaluru']"
      ]
     },
     "execution_count": 28,
     "metadata": {},
     "output_type": "execute_result"
    }
   ],
   "source": [
    "location_list = []\n",
    "for i in locations_tags:\n",
    "    location_list.append(i.text)\n",
    "location_list"
   ]
  },
  {
   "cell_type": "code",
   "execution_count": 31,
   "metadata": {},
   "outputs": [
    {
     "name": "stdout",
     "output_type": "stream",
     "text": [
      "10 10 10 10\n"
     ]
    }
   ],
   "source": [
    "print(len(job_titles[:10]),len(company_names[:10]),len(experience_list[:10]),len(location_list[:10]))"
   ]
  },
  {
   "cell_type": "code",
   "execution_count": 32,
   "metadata": {},
   "outputs": [],
   "source": [
    "jobs = pd.DataFrame({})\n",
    "jobs['Job Title'] = job_titles\n",
    "jobs['Company Name'] = company_names\n",
    "jobs['Experience Required'] = experience_list\n",
    "jobs['Job locations'] = location_list"
   ]
  },
  {
   "cell_type": "code",
   "execution_count": 34,
   "metadata": {},
   "outputs": [
    {
     "data": {
      "text/html": [
       "<div>\n",
       "<style scoped>\n",
       "    .dataframe tbody tr th:only-of-type {\n",
       "        vertical-align: middle;\n",
       "    }\n",
       "\n",
       "    .dataframe tbody tr th {\n",
       "        vertical-align: top;\n",
       "    }\n",
       "\n",
       "    .dataframe thead th {\n",
       "        text-align: right;\n",
       "    }\n",
       "</style>\n",
       "<table border=\"1\" class=\"dataframe\">\n",
       "  <thead>\n",
       "    <tr style=\"text-align: right;\">\n",
       "      <th></th>\n",
       "      <th>Job Title</th>\n",
       "      <th>Company Name</th>\n",
       "      <th>Experience Required</th>\n",
       "      <th>Job locations</th>\n",
       "    </tr>\n",
       "  </thead>\n",
       "  <tbody>\n",
       "    <tr>\n",
       "      <th>0</th>\n",
       "      <td>Business Data Analyst</td>\n",
       "      <td>Trigent Software</td>\n",
       "      <td>3-5 Yrs</td>\n",
       "      <td>Bangalore/Bengaluru</td>\n",
       "    </tr>\n",
       "    <tr>\n",
       "      <th>1</th>\n",
       "      <td>Business Data Analyst</td>\n",
       "      <td>Trigent Software</td>\n",
       "      <td>3-5 Yrs</td>\n",
       "      <td>Bangalore/Bengaluru</td>\n",
       "    </tr>\n",
       "    <tr>\n",
       "      <th>2</th>\n",
       "      <td>Data Analyst/Business Analyst-Gurgaon/Bangalor...</td>\n",
       "      <td>India Medtronic Pvt. Ltd,.</td>\n",
       "      <td>1-4 Yrs</td>\n",
       "      <td>Gurgaon/Gurugram, Bangalore/Bengaluru, Mumbai ...</td>\n",
       "    </tr>\n",
       "    <tr>\n",
       "      <th>3</th>\n",
       "      <td>Business Data Analyst II</td>\n",
       "      <td>Infobahn Softworld Inc.</td>\n",
       "      <td>5-8 Yrs</td>\n",
       "      <td>Bangalore/Bengaluru</td>\n",
       "    </tr>\n",
       "    <tr>\n",
       "      <th>4</th>\n",
       "      <td>Data Analyst</td>\n",
       "      <td>WEIWO Communication Pvt. Ltd.</td>\n",
       "      <td>4-8 Yrs</td>\n",
       "      <td>Bangalore/Bengaluru(Ulsoor)</td>\n",
       "    </tr>\n",
       "    <tr>\n",
       "      <th>5</th>\n",
       "      <td>Data Analyst</td>\n",
       "      <td>GCC SERVICES INDIA PRIVATE LIMITED</td>\n",
       "      <td>5-9 Yrs</td>\n",
       "      <td>Bangalore/Bengaluru</td>\n",
       "    </tr>\n",
       "    <tr>\n",
       "      <th>6</th>\n",
       "      <td>Data Analyst</td>\n",
       "      <td>Allegis Services India Pvt. Ltd.</td>\n",
       "      <td>2-5 Yrs</td>\n",
       "      <td>Bangalore/Bengaluru</td>\n",
       "    </tr>\n",
       "    <tr>\n",
       "      <th>7</th>\n",
       "      <td>Data Analyst</td>\n",
       "      <td>Allegis Services India Pvt. Ltd.</td>\n",
       "      <td>3-5 Yrs</td>\n",
       "      <td>Bangalore/Bengaluru</td>\n",
       "    </tr>\n",
       "    <tr>\n",
       "      <th>8</th>\n",
       "      <td>Data Analyst</td>\n",
       "      <td>Enzen Global Solutions Pvt. Ltd</td>\n",
       "      <td>6-8 Yrs</td>\n",
       "      <td>Bangalore/Bengaluru</td>\n",
       "    </tr>\n",
       "    <tr>\n",
       "      <th>9</th>\n",
       "      <td>Senior Data Analyst</td>\n",
       "      <td>Liventus, Inc.</td>\n",
       "      <td>5-8 Yrs</td>\n",
       "      <td>Bangalore/Bengaluru(2nd Phase JP Nagar)</td>\n",
       "    </tr>\n",
       "  </tbody>\n",
       "</table>\n",
       "</div>"
      ],
      "text/plain": [
       "                                           Job Title  \\\n",
       "0                              Business Data Analyst   \n",
       "1                              Business Data Analyst   \n",
       "2  Data Analyst/Business Analyst-Gurgaon/Bangalor...   \n",
       "3                           Business Data Analyst II   \n",
       "4                                       Data Analyst   \n",
       "5                                       Data Analyst   \n",
       "6                                       Data Analyst   \n",
       "7                                       Data Analyst   \n",
       "8                                       Data Analyst   \n",
       "9                                Senior Data Analyst   \n",
       "\n",
       "                         Company Name Experience Required  \\\n",
       "0                    Trigent Software             3-5 Yrs   \n",
       "1                    Trigent Software             3-5 Yrs   \n",
       "2          India Medtronic Pvt. Ltd,.             1-4 Yrs   \n",
       "3             Infobahn Softworld Inc.             5-8 Yrs   \n",
       "4       WEIWO Communication Pvt. Ltd.             4-8 Yrs   \n",
       "5  GCC SERVICES INDIA PRIVATE LIMITED             5-9 Yrs   \n",
       "6    Allegis Services India Pvt. Ltd.             2-5 Yrs   \n",
       "7    Allegis Services India Pvt. Ltd.             3-5 Yrs   \n",
       "8     Enzen Global Solutions Pvt. Ltd             6-8 Yrs   \n",
       "9                      Liventus, Inc.             5-8 Yrs   \n",
       "\n",
       "                                       Job locations  \n",
       "0                                Bangalore/Bengaluru  \n",
       "1                                Bangalore/Bengaluru  \n",
       "2  Gurgaon/Gurugram, Bangalore/Bengaluru, Mumbai ...  \n",
       "3                                Bangalore/Bengaluru  \n",
       "4                        Bangalore/Bengaluru(Ulsoor)  \n",
       "5                                Bangalore/Bengaluru  \n",
       "6                                Bangalore/Bengaluru  \n",
       "7                                Bangalore/Bengaluru  \n",
       "8                                Bangalore/Bengaluru  \n",
       "9            Bangalore/Bengaluru(2nd Phase JP Nagar)  "
      ]
     },
     "execution_count": 34,
     "metadata": {},
     "output_type": "execute_result"
    }
   ],
   "source": [
    "jobs[:10]"
   ]
  },
  {
   "cell_type": "code",
   "execution_count": null,
   "metadata": {},
   "outputs": [],
   "source": [
    "Q2."
   ]
  },
  {
   "cell_type": "code",
   "execution_count": 38,
   "metadata": {},
   "outputs": [],
   "source": [
    "url = \"https://www.naukri.com\"\n",
    "driver.get(url)"
   ]
  },
  {
   "cell_type": "code",
   "execution_count": 39,
   "metadata": {},
   "outputs": [
    {
     "data": {
      "text/plain": [
       "<selenium.webdriver.remote.webelement.WebElement (session=\"2d04463a31bb12a4925e7649251b6bd0\", element=\"a43be5da-ced6-4cd0-b3b2-9b537ea984f6\")>"
      ]
     },
     "execution_count": 39,
     "metadata": {},
     "output_type": "execute_result"
    }
   ],
   "source": [
    "search_job=driver.find_element_by_id(\"qsb-keyword-sugg\")\n",
    "search_job"
   ]
  },
  {
   "cell_type": "code",
   "execution_count": 40,
   "metadata": {},
   "outputs": [],
   "source": [
    "search_job.send_keys(\"Data Scientist\")"
   ]
  },
  {
   "cell_type": "code",
   "execution_count": 41,
   "metadata": {},
   "outputs": [],
   "source": [
    "search_loc = driver.find_element_by_id(\"qsb-location-sugg\")\n",
    "search_loc\n",
    "\n",
    "search_loc.send_keys(\"Banglore\")"
   ]
  },
  {
   "cell_type": "code",
   "execution_count": 42,
   "metadata": {},
   "outputs": [
    {
     "data": {
      "text/plain": [
       "<selenium.webdriver.remote.webelement.WebElement (session=\"2d04463a31bb12a4925e7649251b6bd0\", element=\"510dc2db-6e92-4ee1-9223-29334ff902b8\")>"
      ]
     },
     "execution_count": 42,
     "metadata": {},
     "output_type": "execute_result"
    }
   ],
   "source": [
    "search_btn = driver.find_element_by_xpath(\"//button[@class='btn']\")\n",
    "search_btn"
   ]
  },
  {
   "cell_type": "code",
   "execution_count": 43,
   "metadata": {},
   "outputs": [],
   "source": [
    "search_btn.click()"
   ]
  },
  {
   "cell_type": "code",
   "execution_count": 44,
   "metadata": {},
   "outputs": [
    {
     "data": {
      "text/plain": [
       "[<selenium.webdriver.remote.webelement.WebElement (session=\"2d04463a31bb12a4925e7649251b6bd0\", element=\"5b318bb2-2ce1-4615-9a37-12eb256bd321\")>,\n",
       " <selenium.webdriver.remote.webelement.WebElement (session=\"2d04463a31bb12a4925e7649251b6bd0\", element=\"c0cd9267-4e3c-4348-8480-a9307b9b18ab\")>,\n",
       " <selenium.webdriver.remote.webelement.WebElement (session=\"2d04463a31bb12a4925e7649251b6bd0\", element=\"f3baefc8-ec2a-448f-94ff-d3f0d7bf125a\")>,\n",
       " <selenium.webdriver.remote.webelement.WebElement (session=\"2d04463a31bb12a4925e7649251b6bd0\", element=\"fa7f6c50-b09b-4db8-a6b3-f0d431faf52d\")>,\n",
       " <selenium.webdriver.remote.webelement.WebElement (session=\"2d04463a31bb12a4925e7649251b6bd0\", element=\"0894e852-8553-4393-b2e4-26d21ba395c4\")>,\n",
       " <selenium.webdriver.remote.webelement.WebElement (session=\"2d04463a31bb12a4925e7649251b6bd0\", element=\"bc73f227-41ec-41a8-9e3d-04a99dd84bfe\")>,\n",
       " <selenium.webdriver.remote.webelement.WebElement (session=\"2d04463a31bb12a4925e7649251b6bd0\", element=\"5d908952-fcd8-470b-97b4-825265641909\")>,\n",
       " <selenium.webdriver.remote.webelement.WebElement (session=\"2d04463a31bb12a4925e7649251b6bd0\", element=\"cca794dc-a6ee-4432-8aa6-e2baba5d3cdf\")>,\n",
       " <selenium.webdriver.remote.webelement.WebElement (session=\"2d04463a31bb12a4925e7649251b6bd0\", element=\"3ed5e85e-8788-4dd3-b23e-9391d34dfd85\")>,\n",
       " <selenium.webdriver.remote.webelement.WebElement (session=\"2d04463a31bb12a4925e7649251b6bd0\", element=\"9edd4c33-7ad6-4a03-b28f-1b87d1faec93\")>,\n",
       " <selenium.webdriver.remote.webelement.WebElement (session=\"2d04463a31bb12a4925e7649251b6bd0\", element=\"0d91fa71-d7b8-411c-9beb-a5e41a9663e8\")>,\n",
       " <selenium.webdriver.remote.webelement.WebElement (session=\"2d04463a31bb12a4925e7649251b6bd0\", element=\"27ca50dc-86f4-4cd9-b1a1-3c567801f1bc\")>,\n",
       " <selenium.webdriver.remote.webelement.WebElement (session=\"2d04463a31bb12a4925e7649251b6bd0\", element=\"1c9ac112-1de8-44c9-8ef2-a49fbf6a61cc\")>,\n",
       " <selenium.webdriver.remote.webelement.WebElement (session=\"2d04463a31bb12a4925e7649251b6bd0\", element=\"32a7396e-dedd-45ab-8603-30a1834d7ae4\")>,\n",
       " <selenium.webdriver.remote.webelement.WebElement (session=\"2d04463a31bb12a4925e7649251b6bd0\", element=\"ef368570-ab05-49d0-ae89-4e45bb0f2faa\")>,\n",
       " <selenium.webdriver.remote.webelement.WebElement (session=\"2d04463a31bb12a4925e7649251b6bd0\", element=\"145936ea-b062-48a1-8d11-38bb59e9ffb2\")>,\n",
       " <selenium.webdriver.remote.webelement.WebElement (session=\"2d04463a31bb12a4925e7649251b6bd0\", element=\"076fd6d5-07b3-43fb-85d2-381385036381\")>,\n",
       " <selenium.webdriver.remote.webelement.WebElement (session=\"2d04463a31bb12a4925e7649251b6bd0\", element=\"b494ac93-7a32-457e-aa62-1685f025a9be\")>,\n",
       " <selenium.webdriver.remote.webelement.WebElement (session=\"2d04463a31bb12a4925e7649251b6bd0\", element=\"cfe1153d-3135-4264-be47-bb67630ab2f7\")>,\n",
       " <selenium.webdriver.remote.webelement.WebElement (session=\"2d04463a31bb12a4925e7649251b6bd0\", element=\"e27d0415-deb3-4cbc-8149-0448e5e50dd0\")>]"
      ]
     },
     "execution_count": 44,
     "metadata": {},
     "output_type": "execute_result"
    }
   ],
   "source": [
    "titles_tags = driver.find_elements_by_xpath(\"//a[@class='title fw500 ellipsis']\")\n",
    "titles_tags"
   ]
  },
  {
   "cell_type": "code",
   "execution_count": 45,
   "metadata": {},
   "outputs": [
    {
     "data": {
      "text/plain": [
       "['Senior Data Scientist',\n",
       " 'Senior Data Scientist',\n",
       " 'DATA SCIENTIST',\n",
       " 'Data Engineers , Data Scientist and SAP',\n",
       " 'Python - Data Scientist',\n",
       " 'Software Developer - Data Scientist / NLP / Machine Learning & Dot Net',\n",
       " 'Data scientist',\n",
       " 'Senior Associate - Data Scientist',\n",
       " 'Senior Data Scientist',\n",
       " 'Sr Data Scientist',\n",
       " 'Senior Data Scientist',\n",
       " 'Senior Data Scientist',\n",
       " 'Senior Data Scientist',\n",
       " 'Data Scientist - Permanent Role',\n",
       " 'Data Scientist - Time Series / NLP/ Artificial Intelligence',\n",
       " 'Senior Data Scientist',\n",
       " 'Senior Data Scientist',\n",
       " 'Sr. Data Scientist / Tech Lead - Data Science',\n",
       " 'Senior Data Scientist',\n",
       " 'Lead Data Scientist - Tensorflow/Machine Learning']"
      ]
     },
     "execution_count": 45,
     "metadata": {},
     "output_type": "execute_result"
    }
   ],
   "source": [
    "job_titles = []\n",
    "for i in titles_tags:\n",
    "    job_titles.append(i.text)\n",
    "job_titles"
   ]
  },
  {
   "cell_type": "code",
   "execution_count": 46,
   "metadata": {},
   "outputs": [
    {
     "data": {
      "text/plain": [
       "[<selenium.webdriver.remote.webelement.WebElement (session=\"2d04463a31bb12a4925e7649251b6bd0\", element=\"d222c825-f0fb-4e3a-aff8-36e2922d8bc0\")>,\n",
       " <selenium.webdriver.remote.webelement.WebElement (session=\"2d04463a31bb12a4925e7649251b6bd0\", element=\"775c8264-f24d-4ef8-83a9-a8d9baeced7b\")>,\n",
       " <selenium.webdriver.remote.webelement.WebElement (session=\"2d04463a31bb12a4925e7649251b6bd0\", element=\"1a5aa5b3-52f9-481e-bcf7-ff10ebdacb40\")>,\n",
       " <selenium.webdriver.remote.webelement.WebElement (session=\"2d04463a31bb12a4925e7649251b6bd0\", element=\"625cfd25-b290-4746-90b4-5bb376bc74b8\")>,\n",
       " <selenium.webdriver.remote.webelement.WebElement (session=\"2d04463a31bb12a4925e7649251b6bd0\", element=\"7a1bd1c7-37b0-4fa1-a581-2c923f669a6e\")>,\n",
       " <selenium.webdriver.remote.webelement.WebElement (session=\"2d04463a31bb12a4925e7649251b6bd0\", element=\"96e665f6-f245-4532-910f-791ae4d0c92f\")>,\n",
       " <selenium.webdriver.remote.webelement.WebElement (session=\"2d04463a31bb12a4925e7649251b6bd0\", element=\"dcd1fa41-8088-48a9-9340-a3a801a1d685\")>,\n",
       " <selenium.webdriver.remote.webelement.WebElement (session=\"2d04463a31bb12a4925e7649251b6bd0\", element=\"5edfbedd-b2a7-4382-bd04-60141985a56b\")>,\n",
       " <selenium.webdriver.remote.webelement.WebElement (session=\"2d04463a31bb12a4925e7649251b6bd0\", element=\"789d05ce-80a9-4bb9-81cd-92b8727ee5f4\")>,\n",
       " <selenium.webdriver.remote.webelement.WebElement (session=\"2d04463a31bb12a4925e7649251b6bd0\", element=\"311081bf-f01d-4756-887e-259431b33b4f\")>,\n",
       " <selenium.webdriver.remote.webelement.WebElement (session=\"2d04463a31bb12a4925e7649251b6bd0\", element=\"0bae7804-135f-4638-b36f-7feb43209850\")>,\n",
       " <selenium.webdriver.remote.webelement.WebElement (session=\"2d04463a31bb12a4925e7649251b6bd0\", element=\"96398a50-7379-4009-af84-db6d3e03dbc3\")>,\n",
       " <selenium.webdriver.remote.webelement.WebElement (session=\"2d04463a31bb12a4925e7649251b6bd0\", element=\"c4bcafa2-c24b-4bbb-a83e-7c1a3ba3caf6\")>,\n",
       " <selenium.webdriver.remote.webelement.WebElement (session=\"2d04463a31bb12a4925e7649251b6bd0\", element=\"828258c9-035b-496e-b90b-825239f11961\")>,\n",
       " <selenium.webdriver.remote.webelement.WebElement (session=\"2d04463a31bb12a4925e7649251b6bd0\", element=\"2615ecd1-d939-41cc-95e8-d13891df7d44\")>,\n",
       " <selenium.webdriver.remote.webelement.WebElement (session=\"2d04463a31bb12a4925e7649251b6bd0\", element=\"80048ff8-cc8e-41f6-90e8-b59775f6b4ae\")>,\n",
       " <selenium.webdriver.remote.webelement.WebElement (session=\"2d04463a31bb12a4925e7649251b6bd0\", element=\"3df93193-eeee-47a3-b7e2-0efa16ef892d\")>,\n",
       " <selenium.webdriver.remote.webelement.WebElement (session=\"2d04463a31bb12a4925e7649251b6bd0\", element=\"6516896b-b9e0-4f96-a686-f0a3c06c9424\")>,\n",
       " <selenium.webdriver.remote.webelement.WebElement (session=\"2d04463a31bb12a4925e7649251b6bd0\", element=\"036264d4-4037-44a8-a20f-3446a5d1da3d\")>,\n",
       " <selenium.webdriver.remote.webelement.WebElement (session=\"2d04463a31bb12a4925e7649251b6bd0\", element=\"c5cc61ba-773e-4d50-ae59-aba95e9820a4\")>]"
      ]
     },
     "execution_count": 46,
     "metadata": {},
     "output_type": "execute_result"
    }
   ],
   "source": [
    "companies_tags = driver.find_elements_by_xpath(\"//a[@class='subTitle ellipsis fleft']\")\n",
    "companies_tags"
   ]
  },
  {
   "cell_type": "code",
   "execution_count": 47,
   "metadata": {},
   "outputs": [
    {
     "data": {
      "text/plain": [
       "['Datamatics Global Services Ltd',\n",
       " 'SYMBIOSIS International W.L.L',\n",
       " 'McAfee Software (India) Pvt. Ltd',\n",
       " 'Teamware Solutions',\n",
       " 'Mindtree Limited',\n",
       " 'Cunesoft India Private Limited',\n",
       " 'Uber',\n",
       " 'Novotree Minds Consulting Pvt Limited',\n",
       " 'IBM India Pvt. Limited',\n",
       " 'IBM India Pvt. Limited',\n",
       " 'Publicis Groupe',\n",
       " 'Bidgely Technologies Private Limited',\n",
       " 'Goals 101 Data Solutions Pvt. Ltd.',\n",
       " 'Onward Technologies Limited',\n",
       " 'Societe Generale',\n",
       " 'RANDSTAD INDIA PVT LTD',\n",
       " 'Red Hat India Pvt Ltd',\n",
       " 'Confidential',\n",
       " 'L A Consultancy',\n",
       " 'Getinz Techno Services']"
      ]
     },
     "execution_count": 47,
     "metadata": {},
     "output_type": "execute_result"
    }
   ],
   "source": [
    "company_names = []\n",
    "for i in companies_tags:\n",
    "    company_names.append(i.text)\n",
    "company_names"
   ]
  },
  {
   "cell_type": "code",
   "execution_count": 48,
   "metadata": {},
   "outputs": [
    {
     "data": {
      "text/plain": [
       "[<selenium.webdriver.remote.webelement.WebElement (session=\"2d04463a31bb12a4925e7649251b6bd0\", element=\"ae59b8dc-1c18-4066-b14b-dfab216a3f82\")>,\n",
       " <selenium.webdriver.remote.webelement.WebElement (session=\"2d04463a31bb12a4925e7649251b6bd0\", element=\"b88abf0d-b49e-4afd-88b8-f1995af57437\")>,\n",
       " <selenium.webdriver.remote.webelement.WebElement (session=\"2d04463a31bb12a4925e7649251b6bd0\", element=\"34d87655-681a-4fd4-bee7-429bb583b6b4\")>,\n",
       " <selenium.webdriver.remote.webelement.WebElement (session=\"2d04463a31bb12a4925e7649251b6bd0\", element=\"36499d73-8f99-4a79-ad26-8a0304ac4905\")>,\n",
       " <selenium.webdriver.remote.webelement.WebElement (session=\"2d04463a31bb12a4925e7649251b6bd0\", element=\"b21c75c4-1ce9-43e2-9b9a-bcb742edf77d\")>,\n",
       " <selenium.webdriver.remote.webelement.WebElement (session=\"2d04463a31bb12a4925e7649251b6bd0\", element=\"a8ee3ea7-a3a3-46c1-ba0c-f096f696c269\")>,\n",
       " <selenium.webdriver.remote.webelement.WebElement (session=\"2d04463a31bb12a4925e7649251b6bd0\", element=\"10e4ddf1-bfb8-4d4f-869c-ba62288dbdbb\")>,\n",
       " <selenium.webdriver.remote.webelement.WebElement (session=\"2d04463a31bb12a4925e7649251b6bd0\", element=\"bca840b9-8ef1-422e-a437-3d0a5964050f\")>,\n",
       " <selenium.webdriver.remote.webelement.WebElement (session=\"2d04463a31bb12a4925e7649251b6bd0\", element=\"cc9d4cc5-fa02-4234-ba52-666f1c615afe\")>,\n",
       " <selenium.webdriver.remote.webelement.WebElement (session=\"2d04463a31bb12a4925e7649251b6bd0\", element=\"3258e94f-13ff-4b48-8c35-397825d75913\")>,\n",
       " <selenium.webdriver.remote.webelement.WebElement (session=\"2d04463a31bb12a4925e7649251b6bd0\", element=\"c55cca6d-cf1e-4028-a8ab-eb00882b69e5\")>,\n",
       " <selenium.webdriver.remote.webelement.WebElement (session=\"2d04463a31bb12a4925e7649251b6bd0\", element=\"62fa6021-d94f-49a2-93e6-477468f886e6\")>,\n",
       " <selenium.webdriver.remote.webelement.WebElement (session=\"2d04463a31bb12a4925e7649251b6bd0\", element=\"fb480b40-eccd-42e3-bf13-9fb12097c486\")>,\n",
       " <selenium.webdriver.remote.webelement.WebElement (session=\"2d04463a31bb12a4925e7649251b6bd0\", element=\"f81b5ca7-599c-48b7-9332-1190bdf1619f\")>,\n",
       " <selenium.webdriver.remote.webelement.WebElement (session=\"2d04463a31bb12a4925e7649251b6bd0\", element=\"777119f9-25e5-46a9-aa64-2a44861b351c\")>,\n",
       " <selenium.webdriver.remote.webelement.WebElement (session=\"2d04463a31bb12a4925e7649251b6bd0\", element=\"9e5bb150-6030-4b09-8613-3184d9dc0554\")>,\n",
       " <selenium.webdriver.remote.webelement.WebElement (session=\"2d04463a31bb12a4925e7649251b6bd0\", element=\"bdf0c9a7-51a9-4fec-9bb6-39f3662a92b1\")>,\n",
       " <selenium.webdriver.remote.webelement.WebElement (session=\"2d04463a31bb12a4925e7649251b6bd0\", element=\"e56e89d7-48fc-4312-ad42-e430a8cf9430\")>,\n",
       " <selenium.webdriver.remote.webelement.WebElement (session=\"2d04463a31bb12a4925e7649251b6bd0\", element=\"b42f786e-5ec5-40ff-8120-ada15095f851\")>,\n",
       " <selenium.webdriver.remote.webelement.WebElement (session=\"2d04463a31bb12a4925e7649251b6bd0\", element=\"906dcaa4-4cfd-4bd4-888e-b3c827b756aa\")>]"
      ]
     },
     "execution_count": 48,
     "metadata": {},
     "output_type": "execute_result"
    }
   ],
   "source": [
    "experience_tags = driver.find_elements_by_xpath(\"//li[@class='fleft grey-text br2 placeHolderLi experience']//span\")\n",
    "experience_tags"
   ]
  },
  {
   "cell_type": "code",
   "execution_count": 49,
   "metadata": {},
   "outputs": [
    {
     "data": {
      "text/plain": [
       "['8-13 Yrs',\n",
       " '10-15 Yrs',\n",
       " '4-8 Yrs',\n",
       " '7-10 Yrs',\n",
       " '3-5 Yrs',\n",
       " '3-8 Yrs',\n",
       " '6-8 Yrs',\n",
       " '4-7 Yrs',\n",
       " '5-10 Yrs',\n",
       " '8-12 Yrs',\n",
       " '2-5 Yrs',\n",
       " '4-6 Yrs',\n",
       " '4-8 Yrs',\n",
       " '6-11 Yrs',\n",
       " '3-8 Yrs',\n",
       " '4-9 Yrs',\n",
       " '8-13 Yrs',\n",
       " '6-9 Yrs',\n",
       " '5-9 Yrs',\n",
       " '7-10 Yrs']"
      ]
     },
     "execution_count": 49,
     "metadata": {},
     "output_type": "execute_result"
    }
   ],
   "source": [
    "experience_list = []\n",
    "for i in experience_tags:\n",
    "    experience_list.append(i.text)\n",
    "experience_list"
   ]
  },
  {
   "cell_type": "code",
   "execution_count": 50,
   "metadata": {},
   "outputs": [
    {
     "data": {
      "text/plain": [
       "[<selenium.webdriver.remote.webelement.WebElement (session=\"2d04463a31bb12a4925e7649251b6bd0\", element=\"e4a8b03c-1785-4e33-940f-756305f6b113\")>,\n",
       " <selenium.webdriver.remote.webelement.WebElement (session=\"2d04463a31bb12a4925e7649251b6bd0\", element=\"9839cd04-d0e3-42a5-a132-e43903bf897b\")>,\n",
       " <selenium.webdriver.remote.webelement.WebElement (session=\"2d04463a31bb12a4925e7649251b6bd0\", element=\"1b6763da-df19-49d5-bb24-167e8350f100\")>,\n",
       " <selenium.webdriver.remote.webelement.WebElement (session=\"2d04463a31bb12a4925e7649251b6bd0\", element=\"11785f07-7275-4f5f-864c-c8409caba67d\")>,\n",
       " <selenium.webdriver.remote.webelement.WebElement (session=\"2d04463a31bb12a4925e7649251b6bd0\", element=\"061e04d4-ebcc-4cd6-880e-0046edbda538\")>,\n",
       " <selenium.webdriver.remote.webelement.WebElement (session=\"2d04463a31bb12a4925e7649251b6bd0\", element=\"d32393e8-b439-4bc3-b3f2-cf72721caca6\")>,\n",
       " <selenium.webdriver.remote.webelement.WebElement (session=\"2d04463a31bb12a4925e7649251b6bd0\", element=\"e718b9ff-9d0e-4d5b-81b7-5eea3b1054f0\")>,\n",
       " <selenium.webdriver.remote.webelement.WebElement (session=\"2d04463a31bb12a4925e7649251b6bd0\", element=\"f3100e1e-0bf3-4099-a85c-c5b162e8481b\")>,\n",
       " <selenium.webdriver.remote.webelement.WebElement (session=\"2d04463a31bb12a4925e7649251b6bd0\", element=\"0f90d386-a77b-48c9-a878-ccbd68867a81\")>,\n",
       " <selenium.webdriver.remote.webelement.WebElement (session=\"2d04463a31bb12a4925e7649251b6bd0\", element=\"6702540c-1c5c-4e9c-8586-c04f4a870b66\")>,\n",
       " <selenium.webdriver.remote.webelement.WebElement (session=\"2d04463a31bb12a4925e7649251b6bd0\", element=\"4b05c105-0239-4e2e-9a49-e7a84ef2caa0\")>,\n",
       " <selenium.webdriver.remote.webelement.WebElement (session=\"2d04463a31bb12a4925e7649251b6bd0\", element=\"97e89294-bf59-49b8-9a92-51732692f831\")>,\n",
       " <selenium.webdriver.remote.webelement.WebElement (session=\"2d04463a31bb12a4925e7649251b6bd0\", element=\"5e744a36-2a02-4d1e-9cf5-e224922e3e09\")>,\n",
       " <selenium.webdriver.remote.webelement.WebElement (session=\"2d04463a31bb12a4925e7649251b6bd0\", element=\"8de62d27-e9e4-471e-8ec6-ba692bb52d32\")>,\n",
       " <selenium.webdriver.remote.webelement.WebElement (session=\"2d04463a31bb12a4925e7649251b6bd0\", element=\"6f74ef6c-e608-409e-abd1-25070ce9e979\")>,\n",
       " <selenium.webdriver.remote.webelement.WebElement (session=\"2d04463a31bb12a4925e7649251b6bd0\", element=\"4c2c70dd-0d88-4691-969d-7af61d3b4842\")>,\n",
       " <selenium.webdriver.remote.webelement.WebElement (session=\"2d04463a31bb12a4925e7649251b6bd0\", element=\"edbed41e-1607-498d-b9ce-2fbbc63f10d8\")>,\n",
       " <selenium.webdriver.remote.webelement.WebElement (session=\"2d04463a31bb12a4925e7649251b6bd0\", element=\"597ebb8b-2525-4069-9a8c-e109d75d2462\")>,\n",
       " <selenium.webdriver.remote.webelement.WebElement (session=\"2d04463a31bb12a4925e7649251b6bd0\", element=\"4e433c94-4983-4bbc-8caf-2000197800de\")>,\n",
       " <selenium.webdriver.remote.webelement.WebElement (session=\"2d04463a31bb12a4925e7649251b6bd0\", element=\"b1b9d1f6-e37c-407d-8aba-837787f1f618\")>]"
      ]
     },
     "execution_count": 50,
     "metadata": {},
     "output_type": "execute_result"
    }
   ],
   "source": [
    "locations_tags = driver.find_elements_by_xpath(\"//li[@class='fleft grey-text br2 placeHolderLi location']//span[1]\")\n",
    "locations_tags"
   ]
  },
  {
   "cell_type": "code",
   "execution_count": 51,
   "metadata": {},
   "outputs": [
    {
     "data": {
      "text/plain": [
       "['Bangalore/Bengaluru',\n",
       " 'Bangalore/Bengaluru',\n",
       " 'Bangalore/Bengaluru',\n",
       " 'Bangalore/Bengaluru',\n",
       " 'Bangalore/Bengaluru',\n",
       " 'Bangalore/Bengaluru',\n",
       " 'Bangalore/Bengaluru',\n",
       " 'Bangalore/Bengaluru',\n",
       " 'Bangalore/Bengaluru',\n",
       " 'Bangalore/Bengaluru',\n",
       " 'Bangalore/Bengaluru',\n",
       " 'Bangalore/Bengaluru',\n",
       " 'New Delhi, Bangalore/Bengaluru, Delhi / NCR',\n",
       " 'Hyderabad/Secunderabad, Chennai, Bangalore/Bengaluru',\n",
       " 'Bangalore/Bengaluru',\n",
       " 'Bangalore/Bengaluru',\n",
       " 'Bangalore/Bengaluru',\n",
       " 'Bangalore/Bengaluru',\n",
       " 'Kochi/Cochin, Hyderabad/Secunderabad, Pune, Chennai, Delhi / NCR, Bangalore/Bengaluru',\n",
       " 'Mumbai, Hyderabad/Secunderabad, Chennai, Bangalore/Bengaluru']"
      ]
     },
     "execution_count": 51,
     "metadata": {},
     "output_type": "execute_result"
    }
   ],
   "source": [
    "location_list = []\n",
    "for i in locations_tags:\n",
    "    location_list.append(i.text)\n",
    "location_list"
   ]
  },
  {
   "cell_type": "code",
   "execution_count": 52,
   "metadata": {},
   "outputs": [
    {
     "name": "stdout",
     "output_type": "stream",
     "text": [
      "10 10 10 10\n"
     ]
    }
   ],
   "source": [
    "print(len(job_titles[:10]),len(company_names[:10]),len(experience_list[:10]),len(location_list[:10]))"
   ]
  },
  {
   "cell_type": "code",
   "execution_count": 53,
   "metadata": {},
   "outputs": [
    {
     "data": {
      "text/html": [
       "<div>\n",
       "<style scoped>\n",
       "    .dataframe tbody tr th:only-of-type {\n",
       "        vertical-align: middle;\n",
       "    }\n",
       "\n",
       "    .dataframe tbody tr th {\n",
       "        vertical-align: top;\n",
       "    }\n",
       "\n",
       "    .dataframe thead th {\n",
       "        text-align: right;\n",
       "    }\n",
       "</style>\n",
       "<table border=\"1\" class=\"dataframe\">\n",
       "  <thead>\n",
       "    <tr style=\"text-align: right;\">\n",
       "      <th></th>\n",
       "      <th>Job Title</th>\n",
       "      <th>Company Name</th>\n",
       "      <th>Experience Required</th>\n",
       "      <th>Job locations</th>\n",
       "    </tr>\n",
       "  </thead>\n",
       "  <tbody>\n",
       "    <tr>\n",
       "      <th>0</th>\n",
       "      <td>Senior Data Scientist</td>\n",
       "      <td>Datamatics Global Services Ltd</td>\n",
       "      <td>8-13 Yrs</td>\n",
       "      <td>Bangalore/Bengaluru</td>\n",
       "    </tr>\n",
       "    <tr>\n",
       "      <th>1</th>\n",
       "      <td>Senior Data Scientist</td>\n",
       "      <td>SYMBIOSIS International W.L.L</td>\n",
       "      <td>10-15 Yrs</td>\n",
       "      <td>Bangalore/Bengaluru</td>\n",
       "    </tr>\n",
       "    <tr>\n",
       "      <th>2</th>\n",
       "      <td>DATA SCIENTIST</td>\n",
       "      <td>McAfee Software (India) Pvt. Ltd</td>\n",
       "      <td>4-8 Yrs</td>\n",
       "      <td>Bangalore/Bengaluru</td>\n",
       "    </tr>\n",
       "    <tr>\n",
       "      <th>3</th>\n",
       "      <td>Data Engineers , Data Scientist and SAP</td>\n",
       "      <td>Teamware Solutions</td>\n",
       "      <td>7-10 Yrs</td>\n",
       "      <td>Bangalore/Bengaluru</td>\n",
       "    </tr>\n",
       "    <tr>\n",
       "      <th>4</th>\n",
       "      <td>Python - Data Scientist</td>\n",
       "      <td>Mindtree Limited</td>\n",
       "      <td>3-5 Yrs</td>\n",
       "      <td>Bangalore/Bengaluru</td>\n",
       "    </tr>\n",
       "    <tr>\n",
       "      <th>5</th>\n",
       "      <td>Software Developer - Data Scientist / NLP / Ma...</td>\n",
       "      <td>Cunesoft India Private Limited</td>\n",
       "      <td>3-8 Yrs</td>\n",
       "      <td>Bangalore/Bengaluru</td>\n",
       "    </tr>\n",
       "    <tr>\n",
       "      <th>6</th>\n",
       "      <td>Data scientist</td>\n",
       "      <td>Uber</td>\n",
       "      <td>6-8 Yrs</td>\n",
       "      <td>Bangalore/Bengaluru</td>\n",
       "    </tr>\n",
       "    <tr>\n",
       "      <th>7</th>\n",
       "      <td>Senior Associate - Data Scientist</td>\n",
       "      <td>Novotree Minds Consulting Pvt Limited</td>\n",
       "      <td>4-7 Yrs</td>\n",
       "      <td>Bangalore/Bengaluru</td>\n",
       "    </tr>\n",
       "    <tr>\n",
       "      <th>8</th>\n",
       "      <td>Senior Data Scientist</td>\n",
       "      <td>IBM India Pvt. Limited</td>\n",
       "      <td>5-10 Yrs</td>\n",
       "      <td>Bangalore/Bengaluru</td>\n",
       "    </tr>\n",
       "    <tr>\n",
       "      <th>9</th>\n",
       "      <td>Sr Data Scientist</td>\n",
       "      <td>IBM India Pvt. Limited</td>\n",
       "      <td>8-12 Yrs</td>\n",
       "      <td>Bangalore/Bengaluru</td>\n",
       "    </tr>\n",
       "  </tbody>\n",
       "</table>\n",
       "</div>"
      ],
      "text/plain": [
       "                                           Job Title  \\\n",
       "0                              Senior Data Scientist   \n",
       "1                              Senior Data Scientist   \n",
       "2                                     DATA SCIENTIST   \n",
       "3            Data Engineers , Data Scientist and SAP   \n",
       "4                            Python - Data Scientist   \n",
       "5  Software Developer - Data Scientist / NLP / Ma...   \n",
       "6                                     Data scientist   \n",
       "7                  Senior Associate - Data Scientist   \n",
       "8                              Senior Data Scientist   \n",
       "9                                  Sr Data Scientist   \n",
       "\n",
       "                            Company Name Experience Required  \\\n",
       "0         Datamatics Global Services Ltd            8-13 Yrs   \n",
       "1          SYMBIOSIS International W.L.L           10-15 Yrs   \n",
       "2       McAfee Software (India) Pvt. Ltd             4-8 Yrs   \n",
       "3                     Teamware Solutions            7-10 Yrs   \n",
       "4                       Mindtree Limited             3-5 Yrs   \n",
       "5         Cunesoft India Private Limited             3-8 Yrs   \n",
       "6                                   Uber             6-8 Yrs   \n",
       "7  Novotree Minds Consulting Pvt Limited             4-7 Yrs   \n",
       "8                 IBM India Pvt. Limited            5-10 Yrs   \n",
       "9                 IBM India Pvt. Limited            8-12 Yrs   \n",
       "\n",
       "         Job locations  \n",
       "0  Bangalore/Bengaluru  \n",
       "1  Bangalore/Bengaluru  \n",
       "2  Bangalore/Bengaluru  \n",
       "3  Bangalore/Bengaluru  \n",
       "4  Bangalore/Bengaluru  \n",
       "5  Bangalore/Bengaluru  \n",
       "6  Bangalore/Bengaluru  \n",
       "7  Bangalore/Bengaluru  \n",
       "8  Bangalore/Bengaluru  \n",
       "9  Bangalore/Bengaluru  "
      ]
     },
     "execution_count": 53,
     "metadata": {},
     "output_type": "execute_result"
    }
   ],
   "source": [
    "jobs = pd.DataFrame({})\n",
    "jobs['Job Title'] = job_titles\n",
    "jobs['Company Name'] = company_names\n",
    "jobs['Experience Required'] = experience_list\n",
    "jobs['Job locations'] = location_list\n",
    "\n",
    "jobs[:10]"
   ]
  },
  {
   "cell_type": "markdown",
   "metadata": {},
   "source": [
    "Q3."
   ]
  },
  {
   "cell_type": "code",
   "execution_count": 190,
   "metadata": {},
   "outputs": [],
   "source": [
    "url = \"https://www.naukri.com\"\n",
    "driver.get(url)"
   ]
  },
  {
   "cell_type": "code",
   "execution_count": 192,
   "metadata": {},
   "outputs": [],
   "source": [
    "search_job=driver.find_element_by_id(\"qsb-keyword-sugg\")\n",
    "search_job\n",
    "\n",
    "search_job.send_keys(\"Data Scientist\")"
   ]
  },
  {
   "cell_type": "code",
   "execution_count": 193,
   "metadata": {},
   "outputs": [],
   "source": [
    "search_btn = driver.find_element_by_xpath(\"//button[@class='btn']\")\n",
    "search_btn.click()"
   ]
  },
  {
   "cell_type": "code",
   "execution_count": 194,
   "metadata": {},
   "outputs": [
    {
     "data": {
      "text/plain": [
       "[<selenium.webdriver.remote.webelement.WebElement (session=\"09b5524f1d1213bdc8c800bc44d327cf\", element=\"e113508d-4055-49ca-9899-0c8b79c62606\")>,\n",
       " <selenium.webdriver.remote.webelement.WebElement (session=\"09b5524f1d1213bdc8c800bc44d327cf\", element=\"29e6e90e-2632-4048-a326-36758a4c15cb\")>,\n",
       " <selenium.webdriver.remote.webelement.WebElement (session=\"09b5524f1d1213bdc8c800bc44d327cf\", element=\"003d215f-0392-40a4-b17f-123d4b36ba79\")>,\n",
       " <selenium.webdriver.remote.webelement.WebElement (session=\"09b5524f1d1213bdc8c800bc44d327cf\", element=\"767c4821-6fd7-44e8-8c29-1ecd4abd2cee\")>,\n",
       " <selenium.webdriver.remote.webelement.WebElement (session=\"09b5524f1d1213bdc8c800bc44d327cf\", element=\"ed22a4f3-f83c-4e41-9414-2082cd802bd5\")>,\n",
       " <selenium.webdriver.remote.webelement.WebElement (session=\"09b5524f1d1213bdc8c800bc44d327cf\", element=\"29e448b4-5484-4df9-92c8-71f5e2bc2966\")>,\n",
       " <selenium.webdriver.remote.webelement.WebElement (session=\"09b5524f1d1213bdc8c800bc44d327cf\", element=\"d753cbc4-1524-4e1c-a4ed-1255267f0de7\")>,\n",
       " <selenium.webdriver.remote.webelement.WebElement (session=\"09b5524f1d1213bdc8c800bc44d327cf\", element=\"38889cab-f72a-43ed-8bda-b6b59340ce97\")>,\n",
       " <selenium.webdriver.remote.webelement.WebElement (session=\"09b5524f1d1213bdc8c800bc44d327cf\", element=\"274eeff4-57d2-4260-9fb9-65c39ad78bf8\")>,\n",
       " <selenium.webdriver.remote.webelement.WebElement (session=\"09b5524f1d1213bdc8c800bc44d327cf\", element=\"f516cf36-9392-4c96-9120-80ef63c14584\")>,\n",
       " <selenium.webdriver.remote.webelement.WebElement (session=\"09b5524f1d1213bdc8c800bc44d327cf\", element=\"33f8bd86-69c9-4450-b30c-9f80d511cf9b\")>,\n",
       " <selenium.webdriver.remote.webelement.WebElement (session=\"09b5524f1d1213bdc8c800bc44d327cf\", element=\"e2065aad-0988-4bbd-993a-1872122cc5dc\")>,\n",
       " <selenium.webdriver.remote.webelement.WebElement (session=\"09b5524f1d1213bdc8c800bc44d327cf\", element=\"707ffca2-08c8-4b1e-8c99-2d2311424a3c\")>,\n",
       " <selenium.webdriver.remote.webelement.WebElement (session=\"09b5524f1d1213bdc8c800bc44d327cf\", element=\"fbda92e0-2346-4e76-8f81-e0d704169963\")>,\n",
       " <selenium.webdriver.remote.webelement.WebElement (session=\"09b5524f1d1213bdc8c800bc44d327cf\", element=\"7607072b-11cb-4d73-b141-0f65868834f6\")>,\n",
       " <selenium.webdriver.remote.webelement.WebElement (session=\"09b5524f1d1213bdc8c800bc44d327cf\", element=\"8374a8ee-6aec-4e4c-9c43-47b563512c59\")>,\n",
       " <selenium.webdriver.remote.webelement.WebElement (session=\"09b5524f1d1213bdc8c800bc44d327cf\", element=\"936fce61-20e1-4bcd-b4ff-7bca4cd58ba2\")>,\n",
       " <selenium.webdriver.remote.webelement.WebElement (session=\"09b5524f1d1213bdc8c800bc44d327cf\", element=\"bcf19e49-e244-4ff3-a011-d6eb56b1cbf1\")>,\n",
       " <selenium.webdriver.remote.webelement.WebElement (session=\"09b5524f1d1213bdc8c800bc44d327cf\", element=\"cb550dba-c311-4991-9ed3-fe9d2f9fadc1\")>,\n",
       " <selenium.webdriver.remote.webelement.WebElement (session=\"09b5524f1d1213bdc8c800bc44d327cf\", element=\"d0391a2a-1ea7-41f1-8353-9ba4d48420bf\")>]"
      ]
     },
     "execution_count": 194,
     "metadata": {},
     "output_type": "execute_result"
    }
   ],
   "source": [
    "urls = driver.find_elements_by_xpath(\"//a[@class='title fw500 ellipsis']\")\n",
    "urls"
   ]
  },
  {
   "cell_type": "code",
   "execution_count": 196,
   "metadata": {},
   "outputs": [
    {
     "data": {
      "text/plain": [
       "['https://www.naukri.com/job-listings-data-scientist-circulant-software-pvt-ltd-jaipur-2-to-7-years-060821004421?src=jobsearchDesk&sid=16282560384436954&xp=1&px=1',\n",
       " 'https://www.naukri.com/job-listings-hiring-for-data-scientist-data-analytics-nutanxt-technologies-india-llp-pune-3-to-8-years-060821002882?src=jobsearchDesk&sid=16282560384436954&xp=2&px=1',\n",
       " 'https://www.naukri.com/job-listings-senior-data-scientist-innovaccer-noida-4-to-9-years-050821501400?src=jobsearchDesk&sid=16282560384436954&xp=3&px=1',\n",
       " 'https://www.naukri.com/job-listings-lead-data-scientist-innovaccer-noida-6-to-11-years-050821501399?src=jobsearchDesk&sid=16282560384436954&xp=4&px=1',\n",
       " 'https://www.naukri.com/job-listings-data-scientist-mcafee-software-india-pvt-ltd-bangalore-bengaluru-4-to-8-years-050821501145?src=jobsearchDesk&sid=16282560384436954&xp=5&px=1',\n",
       " 'https://www.naukri.com/job-listings-data-applied-scientist-microsoft-india-r-and-d-pvt-ltd-hyderabad-secunderabad-3-to-6-years-050821501096?src=jobsearchDesk&sid=16282560384436954&xp=6&px=1',\n",
       " 'https://www.naukri.com/job-listings-data-scientist-pitney-bowes-india-pvt-ltd-pune-8-to-13-years-050821500289?src=jobsearchDesk&sid=16282560384436954&xp=7&px=1',\n",
       " 'https://www.naukri.com/job-listings-senior-data-scientist-symbiosis-international-w-l-l-bangalore-bengaluru-10-to-15-years-050821004331?src=jobsearchDesk&sid=16282560384436954&xp=8&px=1',\n",
       " 'https://www.naukri.com/job-listings-data-scientist-digilyticsai-gurgaon-gurugram-3-to-6-years-050821002929?src=jobsearchDesk&sid=16282560384436954&xp=9&px=1',\n",
       " 'https://www.naukri.com/job-listings-lead-data-scientist-megma-services-mumbai-4-to-8-years-040821903810?src=jobsearchDesk&sid=16282560384436954&xp=10&px=1']"
      ]
     },
     "execution_count": 196,
     "metadata": {},
     "output_type": "execute_result"
    }
   ],
   "source": [
    "job_description_urls = []\n",
    "for i in urls:\n",
    "    job_description_urls.append(i.get_attribute('href'))\n",
    "job_description = job_description_urls[:10]\n",
    "job_description\n",
    "#job_info1 = driver.find_element_by_xpath(\"/html/body/div[1]/div[3]/div[2]/section[2]/div[2]/article[1]/div[1]/div/a\")\n",
    "#job_info1.click()"
   ]
  },
  {
   "cell_type": "code",
   "execution_count": 198,
   "metadata": {},
   "outputs": [
    {
     "data": {
      "text/plain": [
       "['Job description\\nHi,\\n\\nWe are hiring for immediately start looking or early joiners for Junior Data Science role.\\n\\nBelow is the JD for the same:\\n\\nRole: Jr. Data Scientist\\nYears: 3-5yrs( relevant in DS)\\n\\nSkills:\\nKnowledge of NLP is must\\nMachine learning techniques: Clustering, Classification, Natural Language Processing, Association Analysis, Anomaly detection\\nLanguages and platforms: Python, R, MATLAB, SQL, Spark, React, D3\\nLibraries: Pandas, Numpy, SciPy, Matplotlib, Seaborn, Scikit Learn, matplotlib, ggplot, TensorFlow, Keras, PyTorch.\\n\\nRoles and Responsibilities :\\nDesign and scale data science solution for Customer data Landscape. Understand and analyze transactions data in the system.\\nPerform data acquisition, data preprocessing, outlier detection and correlation analysis.\\nScale and test model for different inputs, derive insights from analysis.\\nBuilt machine learning framework to automate Business and Operations process\\ncontribution to data science projects development for clients advance analytics department.\\nPerformed exploratory data analysis and preprocessed using Python-Pandas, Numpy etc\\nDelivered business recommendations, visualization, and presentation.\\n\\nPerks and Benefits :\\nEquity Stock Option\\nMediclaim Insurance ICICI Lombard\\nPaid Time Off\\nPerformance Bonus (Quarterly/Yearly)\\nPaid Maternity & Paternity Leaves\\nEmployee Training\\n5 days working\\nRemote Working\\nPersonal Growth Development\\nCasual Dress Codes\\nFlexible Schedule \\nReward & Recognition. \\nWork Hard & Party Harder.\\n\\n\\nRoleDatabase Architect/Designer\\nIndustry TypeIT Services & Consulting\\nFunctional AreaIT Software - Application Programming, Maintenance\\nEmployment TypeFull Time, Permanent\\nRole CategoryProgramming & Design\\nEducation\\nUG :BCA in Any Specialization, B.Tech/B.E. in Any Specialization\\nKey Skills\\nTensorflowMatplotlibNatural Language Processing\\nScipyScikit LearnMachine LearningsqlPytorchData ScienceAnomaly DetectionNLPKerasPython\\nSkills highlighted with ‘‘ are preferred keyskills',\n",
       " 'Job description\\nJD for Data Scientist\\n\\nNutaNXT is a next-gen software product engineering services provider with a singular focus on building innovative products using AI/ML, Data Analytics, and Cloud technologies. Our mission is to help clients leverage our specialized product engineering capabilities, IP/platforms, software tools, and automation frameworks to build best-in-class products and stay ahead of the curve.\\nYou will get a chance to work on multiple projects critical to NutaNXT needs with opportunities to switch teams and projects as you and our fast-paced business grow and evolve.\\nJob Description:\\nAs a Data Scientist, you will help healthcare run efficiently through AI models that improve the distribution and manufacturing of healthcare products. You will understand key problems faced by business partners across the business, and ask good questions. You will brainstorm possible statistical solutions with help from Senior Data Scientists. You will own AI experiments, failing fast and pivot to the right solution. Finally, you will operationalize models with help from Senior Machine Learning Engineers. If you are passionate about AI, ambitious in your career, and practical in your approach to solving real world problems, we are looking for you.\\n\\nResponsibilities:\\nExtract data from multiple data sources like Microsoft SQL Server, Oracle, Azure Blob and Azure SQL using SQL or Python\\nInterpret data well and study patterns using Python libraries like Pandas, Seaborn and Matplotlib\\nPresent findings in clean analysis and visualization to stakeholders\\nPresent findings in Tableau in a way that compels and enables decision makers.\\nConduct machine learning experiments using libraries like scikitlearn, tensorflow or spark mllib\\nPackage models to be consumed in enterprise setting through APIs\\nTest and troubleshoot production models as needed\\nHelp with production release, migration testing, etc. as needed\\nRequired skills:\\nSelf-starter with good communication skills\\nProficient in Python - Pandas, Seaborn and Matplotlib\\nSkilled in Tableau Visualization\\nExcellent knowledge of SQL ( Handling Nulls, Joins, Unions, Case, Date Time Manipulation, String Formatting)\\nGood knowledge in Excel based data analysis (Graphs, Charts, Pivots, Lookups and Statistical Functions)\\nKnowledge of Scikitlearn, Tensor flow, or Spark mllib\\nMust be able to demonstrate skills through any public channel like GitHub , own website/blog, or Tableau Public\\nAdditional criteria:\\nOver 3-10 years of experience as Data Scientist\\nOver 3-6 years of experience as BI/Data Analyst\\nOver 2-8 years of experience with Python, SQL and Tableau\\nAdditional Information- NutaNXT Technologies offers a compelling and rewarding work environment. We offer market competitive salaries, bonus, equity, benefits, meaningful growth, and development opportunities and a casual yet technically challenging work environment. Join our dynamic, entrepreneurial team and become part of our continuing success.\\n\\n\\nRoleData Analytics\\nIndustry TypeIT Services & Consulting\\nFunctional AreaArtifcial Intelliegence\\nEmployment TypeFull Time, Permanent\\nRole CategoryNot mentioned\\nEducation\\nUG :B.Tech/B.E. in Any Specialization\\nKey Skills\\nMatplotlibArtificial IntelligenceMS SQL ServerData VisualizationSeabornTableauData AnalyticsMachine LearningPython',\n",
       " 'Job description\\nYour Role\\nThe technology that once promised to simplify patient care has brought more issues than anyone ever anticipated. At Innovaccer, we defeat this beast by making full use of all the data Healthcare has worked so hard to collect, and replacing long-standing problems with ideal solutions Data is our bread and butter for innovation. We are looking for a Senior Data Scientist who understands healthcare data and can leverage the data to build algorithms to personalize treatments based on the clinical and behavioral history of patients. We are looking for a superstar who will define and build the next generation of predictive analytics tools in healthcare.\\nA Day in the Life\\nDesign and lead the development of various artificial intelligence initiatives to help improve health and wellness of patients\\nWork with the business leaders and customers to understand their pain-points and build large-scale solutions for them.\\nDefine technical architecture to productize Innovaccer s machine-learning algorithms and take them to market with partnerships with different organizations\\nWork with our data platform and applications team to help them successfully integrate the data science capability or algorithms in their product/workflows.\\nWork with customers and BI experts to build out reports and dashboards that are most useful to customers\\nWork with development teams to build tools for repeatable data tasks that will accelerate and automate development cycle.\\nDefine and execute on the roadmap\\nWhat You Need\\nMasters in Computer Science, Computer Engineering or other relevant fields (PhD Preferred)\\n4 years of experience in Data Science (healthcare experience will be a plus)\\nStrong written and spoken communication skills\\nStrong hands-on experience in Python\\nExperience in Deep Learning Frameworks like Keras, TensorFlow\\nExperience with Sequence Models\\nExperience in NLP libraries like spaCy, NLTK, StanfordNLP\\nExperience in developing and deploying production ready models\\nPossess a customer-focused attitude through conversations and documentation\\nCoordinate management activities with others on the team\\nHands-on ability to set up reporting tools and build reports and ad hoc functionality\\nRoleSoftware Developer\\nIndustry TypeBPO / Call Centre\\nFunctional AreaIT Software - Application Programming, Maintenance\\nEmployment TypeFull Time, Permanent\\nRole CategoryProgramming & Design\\nEducation\\nUG :B.Tech/B.E. in Computers\\nPG :Post Graduation Not Required\\nKey Skills\\nComputer scienceSANPDFArtificial IntelligenceMachine learningHealthcareLife sciencesOperationsReporting toolsPython',\n",
       " 'Job description\\nYour Role\\nThe technology that once promised to simplify patient care has brought more issues than anyone ever anticipated. At Innovaccer, we defeat this beast by making full use of all the data Healthcare has worked so hard to collect, and replacing long-standing problems with ideal solutions Data is our bread and butter for innovation. We are looking for a Lead Data Scientist who understands healthcare data and can leverage the data to build algorithms to personalize treatments based on the clinical and behavioural history of patients. We are looking for a superstar who will define and build the next generation of predictive analytics tools in healthcare.\\nA Day in the Life\\nDesign and lead the development of various artificial intelligence initiatives to help improve health and wellness of patients\\nWork with the business leaders and customers to understand their pain-points and build large-scale solutions for them\\nDefine technical architecture to productize Innovaccer s machine-learning algorithms and take them to market with partnerships with different organizations\\nWork with our data platform and applications team to help them successfully integrate the data science capability or algorithms in their product/workflows\\nWork with customers and BI experts to build out reports and dashboards that are most useful to customers\\nWork with development teams to build tools for repeatable data tasks that will accelerate and automate development cycle.\\nDefine and execute on the roadmap\\nWhat You Need\\nMasters in Computer Science, Computer Engineering or other relevant fields (PhD Preferred)\\n6 years of experience in Data Science (healthcare experience will be a plus)\\nStrong written and spoken communication skills\\nStrong hands-on experience in Python\\nExperience in Deep Learning Frameworks like Keras, TensorFlow\\nExperience with Sequence Models\\nExperience in NLP libraries like spaCy, NLTK, StanfordNLP\\nExperience in developing and deploying production ready models\\nPossess a customer-focused attitude through conversations and documentation\\nCoordinate management activities with others on the team\\nHands-on ability to set up reporting tools and build reports and ad hoc functionality\\nRoleTeam Lead/Technical Lead\\nIndustry TypeBPO / Call Centre\\nFunctional AreaIT Software - Application Programming, Maintenance\\nEmployment TypeFull Time, Permanent\\nRole CategoryProgramming & Design\\nEducation\\nUG :B.Tech/B.E. in Computers\\nPG :Post Graduation Not Required\\nKey Skills\\nComputer scienceSANPDFArtificial IntelligenceMachine learningHealthcareLife sciencesOperationsReporting toolsPython',\n",
       " 'Job description\\nData Scientist Primary Location India, Bangalore Date posted 08/01/2021\\nApply Now Save Job ID: JR0024575\\n\\n\\nJob Title:\\nData Scientist\\n\\n\\nRole Overview:\\nData scientist will be doing research on innovative projects in platform engineering group at McAfee. Platform Engineering Group is the is one of the core groups responsible for collecting data from millions of sensors from various products of Enterprises, using the data to protect the customers, provide insights and necessary actions to be taken for security gap.\\n\\nThis position is an integral part of the McAfee Enterprise business segment which was acquired by Symphony Technology Group (STG) in July 2021. McAfee Enterprise and its team members remain committed to keeping governments and enterprises safe. This position is dedicated to and part of the McAfee Enterprise business.\\n\\n\\n\\nCompany Overview\\nMcAfee is a leader in personal security for consumers. Focused on protecting people, not just devices, McAfee consumer solutions adapt to users needs in an always online world, empowering them to live securely through integrated, intuitive solutions that protects their families and communities with the right security at the right moment.\\nAbout the Role:\\nDevelop Machine learning models to analyze and obtain practical insights from large volume of data that requires expertise at data exploration, analysis and feature engineering\\nExperiment and Develop POCs of innovative ideas to come up with new solutions for addressing security gaps\\nCreate machine learning pipelines to automate generation of efficient and better models\\nCommunicate and work with engineering teams to productionize the solutions\\nTaking ownership and responsibility of the solutions and driving to closure\\nParticipate in data and product analytics to develop customer insights and product features\\nImplement newer machine learning algorithms and models to improve the efficacy of the existing solutions\\nPublish research papers on the experiments and machine learning solutions\\nAbout you :\\n5+ years of experience in the field of Data Science\\n5+ years of programming experience in at least one of Python or Java\\n3+ years of working experience on large datasets using ML and experience with ML model life cycle\\nPhD degree in Computer Science, Data Science, Statistics, Mathematics or other related fields is preferred\\nDeep knowledge in Natural Language processing, Deep learning, statistics, predictive modeling and time series analysis.\\nPassionate about Cybersecurity and want to apply machine learning solutions in this space to solve security problems.\\nExperience working on Big data problems\\nExperience working on problems relevant to detecting risk, fraud and trust is an added advantage\\nExperience in working in AWS cloud environment is an added advantage\\nExperience with Publishing research papers\\n\\n\\nRoleResearch Scientist\\nIndustry TypeIT Services & Consulting\\nFunctional AreaMedical, Healthcare, R&D, Pharmaceuticals, Biotechnology\\nEmployment TypeFull Time, Permanent\\nRole CategoryR&D\\nEducation\\nUG :Any Graduate\\nPG :Post Graduation Not Required\\nKey Skills\\nComputer sciencePublishingdata scienceMachine learningPredictive modelingNatural language processingSensorsResearchAnalyticsPython',\n",
       " 'Job description\\nResponsibilities\\nOur work is highly varied and offers a chance to focus on many different data science techniques and aspects of the Devices Operations businesses and beyond. As a Data Scientist, you will need a mix of deep data science and broad consultative skills.\\nYou will work with stakeholders to formulate approaches to solve problems using algorithms and data sources in context of customer, engineering, and business needs.\\nYou will use data exploration techniques to discover new opportunities within your problem area.\\nYou will interpret the results of analyses, validate approaches, and learn to monitor, analyze, and iterate to continuously improve.\\nYou will engage with stakeholders to produce clear, compelling, and actionable insights that influence product and service improvements that will impact millions of customers.\\nYou will also engage in the peer review process and act on feedback while learning innovative methods, algorithms, and tools to increase the impact and applicability of your results.\\n\\n\\nQualifications\\nBachelor s degree required\\n3-6 years experience as a data engineer, BI developer, or data analyst, in an engineering or technology operations environment\\n3-6 years experience in building BI solutions, Excel, PowerBI, and SQL required\\nExperience with complex data stores and big data platforms required\\nExcellent project management skills, including issue tracking, research, cross-group collaboration, and communication\\nStrong problem resolution, judgment and decision-making skills required\\nPrior experience and knowledge of MS systems tools such as MS Sales, SAP, Azure Insights preferred\\nPrior experience programming in SQL, R, Python preferred\\nRoleClinical Research Associate/Scientist\\nIndustry TypeIT Services & Consulting\\nFunctional AreaMedical, Healthcare, R&D, Pharmaceuticals, Biotechnology\\nEmployment TypeFull Time, Permanent\\nRole CategoryR&D\\nEducation\\nUG :Any Graduate\\nPG :Post Graduation Not Required\\nKey Skills\\nSupply chainSAPSalesProject managementCustomer supportmicrosoftbig dataTechnology operationsSQLPython',\n",
       " 'Job description\\nAs a Data Scientist , you will be part of our Data Science team that works on solving business problems using data science and statistical techniques. You will be working closely with the business stake holders in US who will share the business knowledge required to creates these reports .\\nThe Job\\nWork closely with business partners to analyze and understand business requirements and define the data science problem.\\nD ata exploration and feature engineering .\\nThrough Research to design innovative data science solutions.\\nWork with platform team for model deployment, monitoring and automated training.\\nGood communication skills.\\nRequired Qualifications Skills\\nThis role requires a talented self-directed individual with a strong work ethic and the following skills:\\nMust to have\\nStrong knowledge and experience with advance Machine learning algorithms like XGBoost , GBM and ad v ance deep net architectures (like CNN, RNN, GAN) .\\nWell versed with feature engineering and data exploration techniques.\\nShould be able to apply statistical inference tools (like hypothesis testing, CLT, Z-Test, t-test) in real business problem settings.\\nStr o ng programming background in Python\\nGood communication skills.\\nGood to have\\nGood exposure to logistics and shipping domain .\\nQ ualification work experience\\nMaster s Degree (Mathematics/ Statistics/ Computer Science / Simulation )\\nRoleClinical Research Associate/Scientist\\nIndustry TypeIT Services & Consulting\\nFunctional AreaMedical, Healthcare, R&D, Pharmaceuticals, Biotechnology\\nEmployment TypeFull Time, Permanent\\nRole CategoryR&D\\nEducation\\nUG :Any Graduate\\nPG :Any Postgraduate\\nKey Skills\\nData ScienceCommunication SkillsAlgorithmsData ScientistComputer ScienceMachine LearningStatisticsPython',\n",
       " \"Job description\\nRequired Candidate profile\\nWe are looking for a Senior Data Scientist with a min of 10 years experience in Banking Financial Domain (especially Compliance related) and a solid background in Cloudera.\\nAs a Cloudera Specialist, you must be adept in Cloudera tools like CDH, CEPH, CM, CMA, Data node EDH, HVE, JAS, NameNode, Nodemanager, QJM, QJN, RM and ZK.\\nThis will be a two years assignment to one of the Leading Class A banks in Abu Dhabi.\\nCandidate should have finished two or three full implementations of Data Analytics in Compliance in large Enterprise Banks.\\nShould be having thorough knowledge in R, Python, Scala on demand and Jupyter Notebooks.\\nShould be having hands experience in CCA Spark and Hadoop developer.\\nShould be having a Financial Compliance Background with a good knowledge and hands on expertise on Compliance related domains.\\nShould be a Machine Learning expert and create new models and use various library in that area. You should have proven skills in this area.\\nShould be having a thorough theoretical and practical idea on the following systems (From a Data Scientist Perspective)\\nHDFS\\nYarn\\nMapReduce\\nHive\\nPig\\nApache Ambari\\nHBase / Apache Impala\\nStorm\\nOozie\\nRanger\\nZookeeper\\nVarious data ingestion tools like Sqoop, flume, Kafka\\nVarious reporting tools like Drill, Phoenix, Zeppelin\\nWill be an added advantage if you have exposure to GPU processing, Tensor Flow and Data Lakes.\\nShould be able to produce high Quality Business documentation, Project Management, Agile Framework practices as needed.\\nShould inspect the current Cloudera Architecture and suggest enhancements or improve it.\\nShould be able to communicate with Senior Business Management ideas, concepts and deliverables.\\nIf you have certifications on Cloudera (Cloudera Data Engineer, Spark and Hadoop Developer), it will be an added advantage.\\nData Scientist - Compliance\\nResponsibilities:\\nUse advanced analytics methods to extract value from business data\\nPerform large-scale experimentation and build data-driven models to answer business questions\\nConduct research on cutting-edge techniques and tools in machine learning/deep learning/artificial intelligence\\nDetermine requirements that will be used to train and evolve deep learning models and algorithms\\nArticulate a vision and roadmap for the exploitation of data as a valued corporate asset\\nInfluence product teams through presentation of data-based recommendations\\nEvangelize best practices to analytics and products teams\\nAssemble large, complex data sets that meet functional / non-functional business requirements.\\nIdentify, design, and implement internal process improvements: automating manual processes, optimizing analytics delivery, re-designing infrastructure for greater scalability, etc.\\nBuild analytics tools that utilize the data to provide actionable insights into customer acquisition, operational efficiency and other key business performance metrics.\\nWork with stakeholders including the Executive, Product, Data and Design teams to assist with analytics related technical issues and support their data infrastructure needs.\\nWork with data and analytics experts to strive for greater functionality data systems\\nTypical skills and background:\\nSKILLS:\\nCan work with data to identify patterns.\\nUse judgement to form conclusions that may challenge conventional wisdom and focus on the crux of issues to identify high-leverage intervention points and strategies.\\nRapidly acquire new knowledge and learn new skills\\nSeek to understand business needs and get results that have a clear, positive, and direct impact on business performance\\nApply different strategies to convince others to change their opinions or plans and ensure that proposals or arguments are supported by strong logic and a compelling business case, addressing all relevant factors.\\nConsider the relative costs and benefits of potential actions to choose the most appropriate one\\nCommunication and storytelling\\nTeamwork and collaboration\\nBanking domain business knowledge\\nAdvanced analytics modelling and orchestration\\nSolid development skills in Java, Scala and SQL\\nSound knowledge of using data science tools and languages like Cloudera Data Science Workbench (CDSW), Jupyter Notebook, Python etc.\\nClear hands-on mastery in big datab systems - Hadoop ecosystem, Cloud technologies (AWS, Azure, Google), in-memory database systems (HANA, Hazel cast, etc) and other database systems - traditional RDBMS (Terradata, SQL Server, Oracle), and NoSQL databases (Cassandra, MongoDB, DynamoDB)\\nComfortable in dashboard development (Tableau, Powerbi, Qlik, etc) and in developing data analytics models (R, Python, Spark)\\nEXPERIENCE AND QUALIFICATION:\\nMasters degree from top-tier college/university in Computer Science, Statistics, Economics, or other closely-related field\\nMinimum of 6 years' hands-on experience with a strong data background\\nExtensive experience working with Big Data tools and building data solutions for advanced analytics\\nExperience with statistical software, scripting languages, and packages (e.g. R, MATLAB, SAS, and Python)\\nConsiderable experience in solving business problems with advanced analytical solutions\\nProven experience in conducting statistical analysis and building models with advanced scripting language such as R, SPSS, or other analytic tools.\\nExperience building and deploying predictive models, web scraping, and scalable data pipelines.\\nStrong understanding of statistical methods and skills such as Bayesian Networks Inference, linear and non-linear regression, hierarchical, mixed models/multi-level modeling\\nPractical knowledge across data extraction and transformation tools - traditional ETL tools (Informatica, Altryx) as well as more recent big data tools\\nFinancial Renumeration will be based on your skills and expertise.\\nNotice Period of 30 to 45 days preferred\\nPrevious working experience in Middle East and Gulf regions preferred Roles and Responsibilities\\n\\n\\nDesired Candidate Profile\\n\\n\\nPerks and Benefits\\n\\n\\nRoleData Analyst\\nIndustry TypeBanking\\nFunctional AreaAnalytics & Business Intelligence\\nEmployment TypeFull Time, Temporary/Contractual\\nRole CategoryAnalytics & BI\\nEducation\\nUG :Any Graduate\\nKey Skills\\nData ScienceBig Data AnalyticsHiveSqoopHdfs\",\n",
       " \"Job description\\nAbout the role\\nDigilytics is pioneering the development of intelligent mortgage solutions in International and Indian markets. We are looking for Sr. Data Scientist who has strong NLP and computer vision expertise.\\n\\nWe are looking for experienced data scientists, who have the aspirations and appetite for working in a start-up environment, and with relevant industry experience to make a significant contribution to our DigilyticsTM platform and solutions. Primary focus would be to apply machine learning techniques for data extraction from documents from variety of formats including scans and handwritten documents.\\n\\n\\nResponsibilities\\nDevelop a learning model for high accuracy extraction and validation of documents, e.g. in the mortgage industry\\nWork with state-of-the-art language modelling approaches such as BERT combining all three AI streams NLP, computer vision, and machine learning\\nUnderstand the DigilyticsTM vision and help in creating and maintaining a development roadmap\\nInteract with clients and other team members to understand client-specific requirements of the platform\\nContribute to the platform development team and deliver platform releases in a timely manner\\nLiaise with multiple stakeholders and coordinate with our onshore and offshore entities\\nEvaluate and compile the required training datasets from internal and public sources and contribute to the data pre-processing phase.\\n\\n\\nExpected and Desired Skills\\nEither of the following Deep learning frameworks PyTorch (preferred) or Tensorflow\\nAbility to evaluate competing Neural Network architectures such as Graph Neural Networks, Transformer Networks, etc\\nPython used for analytics applications including data pre-processing, EDA, statistical analysis, machine learning model performance evaluation and benchmarking\\nGood scripting and programming skills to integrate with other external applications\\nGood interpersonal skills and the ability to communicate and explain models\\nAbility to work in unfamiliar business areas and to use your skills to create solutions\\nAbility to both work in and lead a team and to deliver and accept peer review\\nFlexible approach to working environment and hours\\n\\n\\nExperience\\nBetween 4-6 years of relevant experience\\nHands-on experience with\\nPython and/or R\\nMachine Learning\\nDeep Learning (desirable)\\nEnd to End development of a Deep Learning-based model covering model selection, data preparation, training, hyper-parameter optimization, evaluation, and performance reporting.\\nProven experience working in both smaller and larger organizations having multicultural exposure\\nDomain and industry experience by serving customers in one or more of these industries - Financial Services, Professional Services, other Consumer Industries\\n\\n\\nEducation Background\\nA Bachelors degree in the fields of study such as Computer Science, Mathematics, Statistics, and Data Science with strong programming content from a leading institute\\nAn advanced degree such as a Master's or PhD is an advantage\\nRoleData Scientist\\nIndustry TypeSoftware Product\\nFunctional AreaIT Software - Application Programming, Maintenance\\nEmployment TypeFull Time, Permanent\\nRole CategoryNot mentioned\\nEducation\\nUG :B.Tech/B.E. in Computers\\nPG :MCA in Any Specialization\\nKey Skills\\nNLPMachine LearningDeep Learning\\nPytorchTensorflowData ScienceRArtificial IntelligenceNeural NetworksComputer Vision\\nSkills highlighted with ‘‘ are preferred keyskills\",\n",
       " 'Job description\\nGlobal MNC based IT/ Software company Requires Lead Data Scientist- WFH ( Mumbai)\\n\\nKey Responsibilities:\\n• Lead (end-to-end) deliveries of advanced analytics initiatives\\n• Support the drive for adoption of advanced analytics proposition across APAC\\n• Contribute to roadmap of innovative items within advanced analytics space\\n• Identify valuable consumer behaviour patterns and insights that may hide potential opportunities for commercial decisions\\n• Map consumer needs to existing data proposition products and features and help sell/implement them\\n• Proactively identify opportunities for upsell of advanced analytics to existing clients\\n• Research and develop latest advanced analytics concepts; enhance existing solutions\\n• Write scope of work document for new projects and control scope throughout implementation\\nExample Day to Day Activities include\\n• Working on all stages of projects (planning, development, quality control, production)\\n• Design, build and ongoing maintenance of our strategic platform and tooling\\n• Converting proof-of-concept projects to enterprise solutions\\n• Exploring customer, transactional, pricing, text-based data\\n• Producing machine learning models including supervised and unsupervised methods\\n• Producing reports and presentations to communicate findings to stakeholders\\n• Prototyping proof-of-concept idea\\n• Assisting with managing our infrastructure in AWS\\n• Architecting and executing solutions\\n\\nKnowledge, skills and experience:\\nKnowledge\\n• Knowledge of common data science techniques including data preparation, exploration and visualisation\\n• Knowledge of data mining techniques in one or more areas of statistical modelling methods, time series, text mining, optimisation and information retrieval\\n• Ability to produce workflows using classification, clustering, regression, and dimensionality reduction\\n• Ability to prototype statistical analysis and modelling algorithms and apply these algorithms for data driven solutions to problems in new domains\\n\\nCore Skills\\n• Advanced Python and Pyspark\\n• Data science background\\n• Building both supervised and unsupervised machine learning models for advanced analytics products eg. customer segmentation/clustering, product or content recommendation engines, single customer view (Graph network), Churn analysis and fraud detection etc.\\n\\n• Translating facts and figures from machine learning models into insightful data storytelling with use of Powerpoint and visualisation tool such as Tableau or Plotly\\n• Presenting complex concept in an easy-to-understand ways to both tech and non-tech audiences; outstanding written and spoken English\\n• Hands-on exposure to conducting and documenting exploratory data analysis and feature engineering in a simple and structured way\\n• Understanding of the data technology landscape, how to apply this to business problems and identify the limitations\\n• SQL skills for deriving insights (MS SQL and Postgresql with case, count, group by, join etc.)\\n• Excellent data preparation skills, manipulation of large data sets, analysis and visualisation of results\\n• Data modelling skills; awareness of the appropriate application of de-normalisation, aggregation, warehousing and data lakes\\n\\nDesirable Technical Skills\\n• AWS: EC2, RDS, EMR, Kinesis, S3\\n• Cloud Providers: AWS (primary), GCP or Azure\\n• Visualization & UI: Tableau, Plotly, Python Flask, Zeppelin\\n• Apache : Atlas, Ranger, Knox, Nifi\\n\\nExperience\\n• At least 4 years commercial advanced analytics experience across at least one of the following disciplines: retail (shopping mall brands), financial services (neo banks or e- commerce), consumer loyalty, travel & hospitality\\n• Strong working knowledge on the mechanics of the underlying Machine Learning algorithms and ability to convey its characteristics to non-tech audience\\n• Experience working with cloud platforms\\n• Experience building and deploying API\\n• Experience working with external vendors, remote teams in different time zones and agencies providing services for projects\\n• BSc degree (preferably Data Science or Computer Science)\\n\\nPerson Specification\\n• Passionate about analysing, deriving insights and presenting them back to people\\n• A creative, innovative person that likes getting stuck in and is keen to learn and grow\\n• With strong character and presence - capable of handling and challenging tough and demanding clients and stakeholders in a respectful and productive manor\\n• Able to work at pace while working through frequently changing priorities and challenges in a collegiate way\\n• Always challenging ambiguity\\n• Always challenging status quo\\n• Collaborative and a strong team player with can-do attitude\\n• Able to operate independently in a proactive manner to generate ideas and draw them out of others\\n• Nimble, open-minded thinking, process advocate but committed to impact\\n• Thorough and attentive to detail\\n• Well planned and organized\\n\\nIf the position interests you kindly share your cv or contact 9548238406\\n\\nKindly confirm\\n- Your current ctc & notice period\\n- Expected ctc\\nRoleAnalytics Manager\\nIndustry TypeFinTech / Payments\\nFunctional AreaAnalytics & Business Intelligence\\nEmployment TypeFull Time, Permanent\\nRole CategoryAnalytics & BI\\nEducation\\nUG :B.Sc in Computers\\nPG :Any Postgraduate\\nDoctorate :Doctorate Not Required\\nKey Skills\\nData ScienceMS SQLExploratory Data Analysis Data ScientistStatistical ModelingTime SeriesData MiningText MiningInformation Retrieval Data AnalystMachine LearningPython']"
      ]
     },
     "execution_count": 198,
     "metadata": {},
     "output_type": "execute_result"
    }
   ],
   "source": [
    "job_des = []\n",
    "for i in job_description:\n",
    "    driver.get(i)\n",
    "    try:\n",
    "        job_desp = driver.find_element_by_xpath(\"//section[@class='job-desc']\")\n",
    "        job_des.append(job_desp.text)\n",
    "    except:\n",
    "        job_des.append(\"--------\")\n",
    "job_des"
   ]
  },
  {
   "cell_type": "markdown",
   "metadata": {},
   "source": [
    "Q4."
   ]
  },
  {
   "cell_type": "code",
   "execution_count": 108,
   "metadata": {},
   "outputs": [],
   "source": [
    "url = \"https://www.naukri.com\"\n",
    "driver.get(url)"
   ]
  },
  {
   "cell_type": "code",
   "execution_count": 109,
   "metadata": {},
   "outputs": [],
   "source": [
    "search_job=driver.find_element_by_id(\"qsb-keyword-sugg\")\n",
    "search_job\n",
    "\n",
    "search_job.send_keys(\"Data Scientist\")"
   ]
  },
  {
   "cell_type": "code",
   "execution_count": 110,
   "metadata": {},
   "outputs": [],
   "source": [
    "search_btn = driver.find_element_by_xpath(\"//button[@class='btn']\")\n",
    "search_btn.click()"
   ]
  },
  {
   "cell_type": "code",
   "execution_count": 113,
   "metadata": {},
   "outputs": [],
   "source": [
    "location_filter= driver.find_element_by_xpath(\"/html/body/div[1]/div[3]/div[2]/section[1]/div[2]/div[4]/div[2]/div[3]/label/i\")\n",
    "location_filter.click()"
   ]
  },
  {
   "cell_type": "code",
   "execution_count": 114,
   "metadata": {},
   "outputs": [],
   "source": [
    "salary_filter= driver.find_element_by_xpath(\"/html/body/div[1]/div[3]/div[2]/section[1]/div[2]/div[1]/div[2]/div[2]/label/i\")\n",
    "salary_filter.click()"
   ]
  },
  {
   "cell_type": "code",
   "execution_count": 115,
   "metadata": {},
   "outputs": [
    {
     "data": {
      "text/plain": [
       "[<selenium.webdriver.remote.webelement.WebElement (session=\"ba454e3aa9aa1f4ae5458dae4179831e\", element=\"3e2001e6-658a-4dc8-ade4-034e20a3ebaa\")>,\n",
       " <selenium.webdriver.remote.webelement.WebElement (session=\"ba454e3aa9aa1f4ae5458dae4179831e\", element=\"abb35d46-7f20-4212-a609-b7488f4a1915\")>,\n",
       " <selenium.webdriver.remote.webelement.WebElement (session=\"ba454e3aa9aa1f4ae5458dae4179831e\", element=\"3c1871af-3df6-46d8-9b57-13d11de43ad7\")>,\n",
       " <selenium.webdriver.remote.webelement.WebElement (session=\"ba454e3aa9aa1f4ae5458dae4179831e\", element=\"6ad057de-6b66-4586-86c3-2ece6b160fca\")>,\n",
       " <selenium.webdriver.remote.webelement.WebElement (session=\"ba454e3aa9aa1f4ae5458dae4179831e\", element=\"5ea813c9-7f5f-4e6e-84c4-3ef60fcbcbda\")>,\n",
       " <selenium.webdriver.remote.webelement.WebElement (session=\"ba454e3aa9aa1f4ae5458dae4179831e\", element=\"105154d2-e015-4b19-8bd7-9bd1e1124967\")>,\n",
       " <selenium.webdriver.remote.webelement.WebElement (session=\"ba454e3aa9aa1f4ae5458dae4179831e\", element=\"c80da81e-d95e-4d2d-9cba-16b1f187c2e8\")>,\n",
       " <selenium.webdriver.remote.webelement.WebElement (session=\"ba454e3aa9aa1f4ae5458dae4179831e\", element=\"86c620b0-16a5-4480-b969-d0ba69eb5c8a\")>,\n",
       " <selenium.webdriver.remote.webelement.WebElement (session=\"ba454e3aa9aa1f4ae5458dae4179831e\", element=\"6920f83f-1975-4bbc-8d48-5278c8b709ff\")>,\n",
       " <selenium.webdriver.remote.webelement.WebElement (session=\"ba454e3aa9aa1f4ae5458dae4179831e\", element=\"8c709951-ed91-4d58-9182-0779a0289d01\")>,\n",
       " <selenium.webdriver.remote.webelement.WebElement (session=\"ba454e3aa9aa1f4ae5458dae4179831e\", element=\"0506aad2-7347-4c5f-8624-9cdcc5c76de0\")>,\n",
       " <selenium.webdriver.remote.webelement.WebElement (session=\"ba454e3aa9aa1f4ae5458dae4179831e\", element=\"5cf8d1da-0f60-4dfd-9f00-e867e8c029a0\")>,\n",
       " <selenium.webdriver.remote.webelement.WebElement (session=\"ba454e3aa9aa1f4ae5458dae4179831e\", element=\"7f79079b-40d5-4970-84f5-d6f43c8c9a6e\")>,\n",
       " <selenium.webdriver.remote.webelement.WebElement (session=\"ba454e3aa9aa1f4ae5458dae4179831e\", element=\"f99fcc6e-df8d-4f70-9af3-1087f0ce4f12\")>,\n",
       " <selenium.webdriver.remote.webelement.WebElement (session=\"ba454e3aa9aa1f4ae5458dae4179831e\", element=\"4f942c74-593a-40c8-864f-6e8cfe09cf7f\")>,\n",
       " <selenium.webdriver.remote.webelement.WebElement (session=\"ba454e3aa9aa1f4ae5458dae4179831e\", element=\"96d13361-f246-4316-8ee2-80c66e53037d\")>,\n",
       " <selenium.webdriver.remote.webelement.WebElement (session=\"ba454e3aa9aa1f4ae5458dae4179831e\", element=\"ef44871a-d2b3-460e-86bf-ce4d67f8ece5\")>,\n",
       " <selenium.webdriver.remote.webelement.WebElement (session=\"ba454e3aa9aa1f4ae5458dae4179831e\", element=\"1c99c0b1-f802-4323-aef9-f6319419d785\")>,\n",
       " <selenium.webdriver.remote.webelement.WebElement (session=\"ba454e3aa9aa1f4ae5458dae4179831e\", element=\"1e0043ae-2936-4f2e-ade3-f284fde44e0e\")>,\n",
       " <selenium.webdriver.remote.webelement.WebElement (session=\"ba454e3aa9aa1f4ae5458dae4179831e\", element=\"4275f066-d526-4219-bd13-212b6c03ee4f\")>]"
      ]
     },
     "execution_count": 115,
     "metadata": {},
     "output_type": "execute_result"
    }
   ],
   "source": [
    "title_tags = driver.find_elements_by_xpath(\"//a[@class='title fw500 ellipsis']\")\n",
    "title_tags"
   ]
  },
  {
   "cell_type": "code",
   "execution_count": 123,
   "metadata": {},
   "outputs": [
    {
     "data": {
      "text/plain": [
       "['Data Scientist / Sr. Data Scientist',\n",
       " 'Only Fresher / Data Scientist / Data Analyst / Analytics - MNC Jobs',\n",
       " 'Senior Data Scientist - Noida',\n",
       " 'Data Scientist / Data Analyst',\n",
       " 'Immediate Openings For DATA Scientist with 6 To 7 yrs of Experience',\n",
       " 'Data Scientist',\n",
       " 'Senior Data Scientist',\n",
       " 'Data Scientist',\n",
       " 'Data Scientist - Machine Learning/NLP',\n",
       " 'Data Scientist - Machine Learning/NLP']"
      ]
     },
     "execution_count": 123,
     "metadata": {},
     "output_type": "execute_result"
    }
   ],
   "source": [
    "job_titles=[]\n",
    "for i in title_tags:\n",
    "    job_titles.append(i.text)\n",
    "job_titles_final = job_titles[:10]\n",
    "job_titles_final"
   ]
  },
  {
   "cell_type": "code",
   "execution_count": 117,
   "metadata": {},
   "outputs": [
    {
     "data": {
      "text/plain": [
       "[<selenium.webdriver.remote.webelement.WebElement (session=\"ba454e3aa9aa1f4ae5458dae4179831e\", element=\"5c7b4e72-6b2d-40f1-83b0-c0617eba8c01\")>,\n",
       " <selenium.webdriver.remote.webelement.WebElement (session=\"ba454e3aa9aa1f4ae5458dae4179831e\", element=\"2ca50d50-3fb7-4bda-92d7-0cfccf0016d2\")>,\n",
       " <selenium.webdriver.remote.webelement.WebElement (session=\"ba454e3aa9aa1f4ae5458dae4179831e\", element=\"c1c0508d-4e23-4434-ac5a-b4a006bfcfd0\")>,\n",
       " <selenium.webdriver.remote.webelement.WebElement (session=\"ba454e3aa9aa1f4ae5458dae4179831e\", element=\"da00b377-a3df-4138-8c1c-1d6ae46bac76\")>,\n",
       " <selenium.webdriver.remote.webelement.WebElement (session=\"ba454e3aa9aa1f4ae5458dae4179831e\", element=\"60f6612b-2c15-455f-9893-2ce41e2d333c\")>,\n",
       " <selenium.webdriver.remote.webelement.WebElement (session=\"ba454e3aa9aa1f4ae5458dae4179831e\", element=\"14ca3ac8-40fe-4a9d-ada4-6fa231f6519f\")>,\n",
       " <selenium.webdriver.remote.webelement.WebElement (session=\"ba454e3aa9aa1f4ae5458dae4179831e\", element=\"3f90dcbb-a459-41b7-9741-ed17e790cfd9\")>,\n",
       " <selenium.webdriver.remote.webelement.WebElement (session=\"ba454e3aa9aa1f4ae5458dae4179831e\", element=\"277e20e1-d370-4082-8bef-44656a689508\")>,\n",
       " <selenium.webdriver.remote.webelement.WebElement (session=\"ba454e3aa9aa1f4ae5458dae4179831e\", element=\"c9abd66b-3e99-43c6-9ac9-7a75676f32b3\")>,\n",
       " <selenium.webdriver.remote.webelement.WebElement (session=\"ba454e3aa9aa1f4ae5458dae4179831e\", element=\"c62d20de-4bd4-4fb3-9dca-b66d6b2f094c\")>,\n",
       " <selenium.webdriver.remote.webelement.WebElement (session=\"ba454e3aa9aa1f4ae5458dae4179831e\", element=\"43880bfc-d436-44bb-96a3-b43ba73eda9a\")>,\n",
       " <selenium.webdriver.remote.webelement.WebElement (session=\"ba454e3aa9aa1f4ae5458dae4179831e\", element=\"a22a37be-1901-49e1-be45-e32d1b69981e\")>,\n",
       " <selenium.webdriver.remote.webelement.WebElement (session=\"ba454e3aa9aa1f4ae5458dae4179831e\", element=\"8dc7107e-cf6c-41e6-93f4-641ba13f0f46\")>,\n",
       " <selenium.webdriver.remote.webelement.WebElement (session=\"ba454e3aa9aa1f4ae5458dae4179831e\", element=\"c3b295e9-67b4-40ec-b3a6-f439cac21da3\")>,\n",
       " <selenium.webdriver.remote.webelement.WebElement (session=\"ba454e3aa9aa1f4ae5458dae4179831e\", element=\"93c9def3-d968-4f75-b345-39e759455e96\")>,\n",
       " <selenium.webdriver.remote.webelement.WebElement (session=\"ba454e3aa9aa1f4ae5458dae4179831e\", element=\"3b046ff9-e3a6-4ef8-8bf0-1d082d0bf652\")>,\n",
       " <selenium.webdriver.remote.webelement.WebElement (session=\"ba454e3aa9aa1f4ae5458dae4179831e\", element=\"cb4bd917-b064-4997-b52a-481d0faa1e61\")>,\n",
       " <selenium.webdriver.remote.webelement.WebElement (session=\"ba454e3aa9aa1f4ae5458dae4179831e\", element=\"f3488467-3c38-43b7-97da-f3da4c48601e\")>,\n",
       " <selenium.webdriver.remote.webelement.WebElement (session=\"ba454e3aa9aa1f4ae5458dae4179831e\", element=\"9d054daf-6711-4b80-9c32-20a5c386af86\")>,\n",
       " <selenium.webdriver.remote.webelement.WebElement (session=\"ba454e3aa9aa1f4ae5458dae4179831e\", element=\"952ffa08-9fe2-4478-98bd-bf6adbeebdce\")>]"
      ]
     },
     "execution_count": 117,
     "metadata": {},
     "output_type": "execute_result"
    }
   ],
   "source": [
    "companies_tags = driver.find_elements_by_xpath(\"//a[@class='subTitle ellipsis fleft']\")\n",
    "companies_tags"
   ]
  },
  {
   "cell_type": "code",
   "execution_count": 122,
   "metadata": {},
   "outputs": [
    {
     "data": {
      "text/plain": [
       "['WEGARNER SOLUTIONS PRIVATE LIMITED',\n",
       " 'GABA Consultancy services',\n",
       " 'Optum Global Solutions (India) Private Limited',\n",
       " 'CARS24',\n",
       " 'Entune IT Consulting Private Limited',\n",
       " 'Decimal Technologies Pvt Ltd.',\n",
       " 'inVentiv International Pharma Services Pvt. Ltd.',\n",
       " 'R Systems International Ltd.',\n",
       " 'TalPro',\n",
       " 'TalPro']"
      ]
     },
     "execution_count": 122,
     "metadata": {},
     "output_type": "execute_result"
    }
   ],
   "source": [
    "company_names = []\n",
    "for i in companies_tags:\n",
    "    company_names.append(i.text)\n",
    "company_names_final = company_names[:10]\n",
    "company_names_final"
   ]
  },
  {
   "cell_type": "code",
   "execution_count": 124,
   "metadata": {},
   "outputs": [
    {
     "data": {
      "text/plain": [
       "[<selenium.webdriver.remote.webelement.WebElement (session=\"ba454e3aa9aa1f4ae5458dae4179831e\", element=\"971e922a-8b5a-4f21-abe8-25515403055d\")>,\n",
       " <selenium.webdriver.remote.webelement.WebElement (session=\"ba454e3aa9aa1f4ae5458dae4179831e\", element=\"3009677c-b3bd-476e-8299-44b8a45dafd0\")>,\n",
       " <selenium.webdriver.remote.webelement.WebElement (session=\"ba454e3aa9aa1f4ae5458dae4179831e\", element=\"70160d72-0415-4e61-99e5-e1b8422dc81c\")>,\n",
       " <selenium.webdriver.remote.webelement.WebElement (session=\"ba454e3aa9aa1f4ae5458dae4179831e\", element=\"940f099c-bac3-4daa-a25c-5a1845436420\")>,\n",
       " <selenium.webdriver.remote.webelement.WebElement (session=\"ba454e3aa9aa1f4ae5458dae4179831e\", element=\"32c1161c-50d8-44fe-b44d-eab36641da1e\")>,\n",
       " <selenium.webdriver.remote.webelement.WebElement (session=\"ba454e3aa9aa1f4ae5458dae4179831e\", element=\"e8fdb738-fcd2-406c-8c8b-c0a04c68b8ac\")>,\n",
       " <selenium.webdriver.remote.webelement.WebElement (session=\"ba454e3aa9aa1f4ae5458dae4179831e\", element=\"a2d86d6b-6bdf-4c31-8719-47386d872302\")>,\n",
       " <selenium.webdriver.remote.webelement.WebElement (session=\"ba454e3aa9aa1f4ae5458dae4179831e\", element=\"3c16cbe5-4f33-4007-b36a-be87a2a45905\")>,\n",
       " <selenium.webdriver.remote.webelement.WebElement (session=\"ba454e3aa9aa1f4ae5458dae4179831e\", element=\"fd5ac54a-0a4e-4874-8b2b-9e8c1979e299\")>,\n",
       " <selenium.webdriver.remote.webelement.WebElement (session=\"ba454e3aa9aa1f4ae5458dae4179831e\", element=\"107174c4-c75b-4def-80e2-4547828aa3a5\")>,\n",
       " <selenium.webdriver.remote.webelement.WebElement (session=\"ba454e3aa9aa1f4ae5458dae4179831e\", element=\"e74706d5-2187-4a24-9a4e-7302c91a5c1f\")>,\n",
       " <selenium.webdriver.remote.webelement.WebElement (session=\"ba454e3aa9aa1f4ae5458dae4179831e\", element=\"0744eec1-41b2-4e29-8148-af9ae7ac60d9\")>,\n",
       " <selenium.webdriver.remote.webelement.WebElement (session=\"ba454e3aa9aa1f4ae5458dae4179831e\", element=\"2ca0030b-4722-4862-ae45-66446aaf93b8\")>,\n",
       " <selenium.webdriver.remote.webelement.WebElement (session=\"ba454e3aa9aa1f4ae5458dae4179831e\", element=\"9a90676c-515e-4a38-afff-cd95ea7c9b0a\")>,\n",
       " <selenium.webdriver.remote.webelement.WebElement (session=\"ba454e3aa9aa1f4ae5458dae4179831e\", element=\"e33a7f47-b742-4322-bf9a-74587e81b36f\")>,\n",
       " <selenium.webdriver.remote.webelement.WebElement (session=\"ba454e3aa9aa1f4ae5458dae4179831e\", element=\"ece3af43-3ad6-4959-99fc-6a28cba9c247\")>,\n",
       " <selenium.webdriver.remote.webelement.WebElement (session=\"ba454e3aa9aa1f4ae5458dae4179831e\", element=\"92b0dfb9-8ed1-45e5-8aa3-762dbb2e553e\")>,\n",
       " <selenium.webdriver.remote.webelement.WebElement (session=\"ba454e3aa9aa1f4ae5458dae4179831e\", element=\"959f8fd1-537d-4f11-9621-f94fdbe89de2\")>,\n",
       " <selenium.webdriver.remote.webelement.WebElement (session=\"ba454e3aa9aa1f4ae5458dae4179831e\", element=\"594ca63a-ae64-4b30-ab0f-b3aa9dc2bbe8\")>,\n",
       " <selenium.webdriver.remote.webelement.WebElement (session=\"ba454e3aa9aa1f4ae5458dae4179831e\", element=\"ef99ecaf-b4b6-4787-ae33-215ef53ad657\")>]"
      ]
     },
     "execution_count": 124,
     "metadata": {},
     "output_type": "execute_result"
    }
   ],
   "source": [
    "locations_tags = driver.find_elements_by_xpath(\"//li[@class='fleft grey-text br2 placeHolderLi location']//span[1]\")\n",
    "locations_tags"
   ]
  },
  {
   "cell_type": "code",
   "execution_count": 125,
   "metadata": {},
   "outputs": [
    {
     "data": {
      "text/plain": [
       "['Noida, Pune, Mumbai (All Areas)',\n",
       " 'Noida, Gurgaon/Gurugram, Delhi / NCR',\n",
       " 'Noida',\n",
       " 'Gurgaon/Gurugram',\n",
       " 'Kolkata, Hyderabad/Secunderabad, Pune, Ahmedabad, Chennai, Bangalore/Bengaluru, Delhi / NCR, Mumbai (All Areas)',\n",
       " 'Gurgaon/Gurugram',\n",
       " 'Hyderabad/Secunderabad, Gurgaon/Gurugram, Bangalore/Bengaluru',\n",
       " 'Noida(Sector-59 Noida)',\n",
       " 'Gurgaon/Gurugram',\n",
       " 'Gurgaon/Gurugram']"
      ]
     },
     "execution_count": 125,
     "metadata": {},
     "output_type": "execute_result"
    }
   ],
   "source": [
    "location_list = []\n",
    "for i in locations_tags:\n",
    "    location_list.append(i.text)\n",
    "location_list_final = location_list[:10]\n",
    "location_list_final"
   ]
  },
  {
   "cell_type": "code",
   "execution_count": 126,
   "metadata": {},
   "outputs": [
    {
     "data": {
      "text/plain": [
       "[<selenium.webdriver.remote.webelement.WebElement (session=\"ba454e3aa9aa1f4ae5458dae4179831e\", element=\"39fa530d-02df-46e9-9d1e-d97f8552e1c3\")>,\n",
       " <selenium.webdriver.remote.webelement.WebElement (session=\"ba454e3aa9aa1f4ae5458dae4179831e\", element=\"c254fb08-45c6-44a4-b304-ecd1afefdd29\")>,\n",
       " <selenium.webdriver.remote.webelement.WebElement (session=\"ba454e3aa9aa1f4ae5458dae4179831e\", element=\"7aecbe37-2599-43c3-bbc2-a0dd33e12247\")>,\n",
       " <selenium.webdriver.remote.webelement.WebElement (session=\"ba454e3aa9aa1f4ae5458dae4179831e\", element=\"0d748d53-bc73-4c03-95bf-8e612d567df0\")>,\n",
       " <selenium.webdriver.remote.webelement.WebElement (session=\"ba454e3aa9aa1f4ae5458dae4179831e\", element=\"92d564d7-4d41-4e59-b582-17237ed33c86\")>,\n",
       " <selenium.webdriver.remote.webelement.WebElement (session=\"ba454e3aa9aa1f4ae5458dae4179831e\", element=\"93831cbc-3a33-42f3-9016-a445c9c4a80b\")>,\n",
       " <selenium.webdriver.remote.webelement.WebElement (session=\"ba454e3aa9aa1f4ae5458dae4179831e\", element=\"377c3e44-dae2-4893-a1f9-b69e551df85d\")>,\n",
       " <selenium.webdriver.remote.webelement.WebElement (session=\"ba454e3aa9aa1f4ae5458dae4179831e\", element=\"00c67bef-4492-4b2d-b4e8-72fa94fc8010\")>,\n",
       " <selenium.webdriver.remote.webelement.WebElement (session=\"ba454e3aa9aa1f4ae5458dae4179831e\", element=\"2be755d1-8bb9-4992-9186-ecac810ba627\")>,\n",
       " <selenium.webdriver.remote.webelement.WebElement (session=\"ba454e3aa9aa1f4ae5458dae4179831e\", element=\"294d9987-7922-4687-8349-f8b25adb2e1c\")>,\n",
       " <selenium.webdriver.remote.webelement.WebElement (session=\"ba454e3aa9aa1f4ae5458dae4179831e\", element=\"e89ad3c0-2946-4bfd-a74d-8bb190253db4\")>,\n",
       " <selenium.webdriver.remote.webelement.WebElement (session=\"ba454e3aa9aa1f4ae5458dae4179831e\", element=\"de2cbc0f-60b5-4d66-a8c2-113e30acc95e\")>,\n",
       " <selenium.webdriver.remote.webelement.WebElement (session=\"ba454e3aa9aa1f4ae5458dae4179831e\", element=\"f12506d7-8f9b-45cf-8b9b-e0b748dea005\")>,\n",
       " <selenium.webdriver.remote.webelement.WebElement (session=\"ba454e3aa9aa1f4ae5458dae4179831e\", element=\"a0595457-7c3a-4f7c-aa68-2fc03eac80e8\")>,\n",
       " <selenium.webdriver.remote.webelement.WebElement (session=\"ba454e3aa9aa1f4ae5458dae4179831e\", element=\"ffa58138-dcfb-47b1-a2da-618bf7bd605f\")>,\n",
       " <selenium.webdriver.remote.webelement.WebElement (session=\"ba454e3aa9aa1f4ae5458dae4179831e\", element=\"df0cd16e-cc5d-4c33-947d-fae0cfbd2188\")>,\n",
       " <selenium.webdriver.remote.webelement.WebElement (session=\"ba454e3aa9aa1f4ae5458dae4179831e\", element=\"a6f9e124-724b-42d7-bdfe-a7ae8bbe8cdf\")>,\n",
       " <selenium.webdriver.remote.webelement.WebElement (session=\"ba454e3aa9aa1f4ae5458dae4179831e\", element=\"9b1efeff-fdb5-4a15-a24c-470d2d1e7323\")>,\n",
       " <selenium.webdriver.remote.webelement.WebElement (session=\"ba454e3aa9aa1f4ae5458dae4179831e\", element=\"84b2ac43-ea63-41c6-a48f-9d9e5cb9b930\")>,\n",
       " <selenium.webdriver.remote.webelement.WebElement (session=\"ba454e3aa9aa1f4ae5458dae4179831e\", element=\"dcf9fabf-6378-424d-86de-496eefbcb0ae\")>]"
      ]
     },
     "execution_count": 126,
     "metadata": {},
     "output_type": "execute_result"
    }
   ],
   "source": [
    "experience_tags = driver.find_elements_by_xpath(\"//li[@class='fleft grey-text br2 placeHolderLi experience']//span\")\n",
    "experience_tags"
   ]
  },
  {
   "cell_type": "code",
   "execution_count": 128,
   "metadata": {},
   "outputs": [
    {
     "data": {
      "text/plain": [
       "['0-5 Yrs',\n",
       " '0-0 Yrs',\n",
       " '2-6 Yrs',\n",
       " '1-5 Yrs',\n",
       " '5-8 Yrs',\n",
       " '1-3 Yrs',\n",
       " '3-6 Yrs',\n",
       " '5-10 Yrs',\n",
       " '2-6 Yrs',\n",
       " '2-4 Yrs']"
      ]
     },
     "execution_count": 128,
     "metadata": {},
     "output_type": "execute_result"
    }
   ],
   "source": [
    "experience_list = []\n",
    "for i in experience_tags:\n",
    "    experience_list.append(i.text)\n",
    "experience_list_final = experience_list[:10]\n",
    "experience_list_final"
   ]
  },
  {
   "cell_type": "code",
   "execution_count": 129,
   "metadata": {},
   "outputs": [
    {
     "name": "stdout",
     "output_type": "stream",
     "text": [
      "10 10 10 10\n"
     ]
    }
   ],
   "source": [
    "print(len(job_titles_final),len(company_names_final),len(location_list_final),len(experience_list_final))"
   ]
  },
  {
   "cell_type": "code",
   "execution_count": 132,
   "metadata": {},
   "outputs": [
    {
     "data": {
      "text/html": [
       "<div>\n",
       "<style scoped>\n",
       "    .dataframe tbody tr th:only-of-type {\n",
       "        vertical-align: middle;\n",
       "    }\n",
       "\n",
       "    .dataframe tbody tr th {\n",
       "        vertical-align: top;\n",
       "    }\n",
       "\n",
       "    .dataframe thead th {\n",
       "        text-align: right;\n",
       "    }\n",
       "</style>\n",
       "<table border=\"1\" class=\"dataframe\">\n",
       "  <thead>\n",
       "    <tr style=\"text-align: right;\">\n",
       "      <th></th>\n",
       "      <th>Job Title</th>\n",
       "      <th>Company Name</th>\n",
       "      <th>Experience Required</th>\n",
       "      <th>Job locations</th>\n",
       "    </tr>\n",
       "  </thead>\n",
       "  <tbody>\n",
       "    <tr>\n",
       "      <th>0</th>\n",
       "      <td>Data Scientist / Sr. Data Scientist</td>\n",
       "      <td>WEGARNER SOLUTIONS PRIVATE LIMITED</td>\n",
       "      <td>0-5 Yrs</td>\n",
       "      <td>Noida, Pune, Mumbai (All Areas)</td>\n",
       "    </tr>\n",
       "    <tr>\n",
       "      <th>1</th>\n",
       "      <td>Only Fresher / Data Scientist / Data Analyst /...</td>\n",
       "      <td>GABA Consultancy services</td>\n",
       "      <td>0-0 Yrs</td>\n",
       "      <td>Noida, Gurgaon/Gurugram, Delhi / NCR</td>\n",
       "    </tr>\n",
       "    <tr>\n",
       "      <th>2</th>\n",
       "      <td>Senior Data Scientist - Noida</td>\n",
       "      <td>Optum Global Solutions (India) Private Limited</td>\n",
       "      <td>2-6 Yrs</td>\n",
       "      <td>Noida</td>\n",
       "    </tr>\n",
       "    <tr>\n",
       "      <th>3</th>\n",
       "      <td>Data Scientist / Data Analyst</td>\n",
       "      <td>CARS24</td>\n",
       "      <td>1-5 Yrs</td>\n",
       "      <td>Gurgaon/Gurugram</td>\n",
       "    </tr>\n",
       "    <tr>\n",
       "      <th>4</th>\n",
       "      <td>Immediate Openings For DATA Scientist with 6 T...</td>\n",
       "      <td>Entune IT Consulting Private Limited</td>\n",
       "      <td>5-8 Yrs</td>\n",
       "      <td>Kolkata, Hyderabad/Secunderabad, Pune, Ahmedab...</td>\n",
       "    </tr>\n",
       "    <tr>\n",
       "      <th>5</th>\n",
       "      <td>Data Scientist</td>\n",
       "      <td>Decimal Technologies Pvt Ltd.</td>\n",
       "      <td>1-3 Yrs</td>\n",
       "      <td>Gurgaon/Gurugram</td>\n",
       "    </tr>\n",
       "    <tr>\n",
       "      <th>6</th>\n",
       "      <td>Senior Data Scientist</td>\n",
       "      <td>inVentiv International Pharma Services Pvt. Ltd.</td>\n",
       "      <td>3-6 Yrs</td>\n",
       "      <td>Hyderabad/Secunderabad, Gurgaon/Gurugram, Bang...</td>\n",
       "    </tr>\n",
       "    <tr>\n",
       "      <th>7</th>\n",
       "      <td>Data Scientist</td>\n",
       "      <td>R Systems International Ltd.</td>\n",
       "      <td>5-10 Yrs</td>\n",
       "      <td>Noida(Sector-59 Noida)</td>\n",
       "    </tr>\n",
       "    <tr>\n",
       "      <th>8</th>\n",
       "      <td>Data Scientist - Machine Learning/NLP</td>\n",
       "      <td>TalPro</td>\n",
       "      <td>2-6 Yrs</td>\n",
       "      <td>Gurgaon/Gurugram</td>\n",
       "    </tr>\n",
       "    <tr>\n",
       "      <th>9</th>\n",
       "      <td>Data Scientist - Machine Learning/NLP</td>\n",
       "      <td>TalPro</td>\n",
       "      <td>2-4 Yrs</td>\n",
       "      <td>Gurgaon/Gurugram</td>\n",
       "    </tr>\n",
       "  </tbody>\n",
       "</table>\n",
       "</div>"
      ],
      "text/plain": [
       "                                           Job Title  \\\n",
       "0                Data Scientist / Sr. Data Scientist   \n",
       "1  Only Fresher / Data Scientist / Data Analyst /...   \n",
       "2                      Senior Data Scientist - Noida   \n",
       "3                      Data Scientist / Data Analyst   \n",
       "4  Immediate Openings For DATA Scientist with 6 T...   \n",
       "5                                     Data Scientist   \n",
       "6                              Senior Data Scientist   \n",
       "7                                     Data Scientist   \n",
       "8              Data Scientist - Machine Learning/NLP   \n",
       "9              Data Scientist - Machine Learning/NLP   \n",
       "\n",
       "                                       Company Name Experience Required  \\\n",
       "0                WEGARNER SOLUTIONS PRIVATE LIMITED             0-5 Yrs   \n",
       "1                         GABA Consultancy services             0-0 Yrs   \n",
       "2    Optum Global Solutions (India) Private Limited             2-6 Yrs   \n",
       "3                                            CARS24             1-5 Yrs   \n",
       "4              Entune IT Consulting Private Limited             5-8 Yrs   \n",
       "5                     Decimal Technologies Pvt Ltd.             1-3 Yrs   \n",
       "6  inVentiv International Pharma Services Pvt. Ltd.             3-6 Yrs   \n",
       "7                      R Systems International Ltd.            5-10 Yrs   \n",
       "8                                            TalPro             2-6 Yrs   \n",
       "9                                            TalPro             2-4 Yrs   \n",
       "\n",
       "                                       Job locations  \n",
       "0                    Noida, Pune, Mumbai (All Areas)  \n",
       "1               Noida, Gurgaon/Gurugram, Delhi / NCR  \n",
       "2                                              Noida  \n",
       "3                                   Gurgaon/Gurugram  \n",
       "4  Kolkata, Hyderabad/Secunderabad, Pune, Ahmedab...  \n",
       "5                                   Gurgaon/Gurugram  \n",
       "6  Hyderabad/Secunderabad, Gurgaon/Gurugram, Bang...  \n",
       "7                             Noida(Sector-59 Noida)  \n",
       "8                                   Gurgaon/Gurugram  \n",
       "9                                   Gurgaon/Gurugram  "
      ]
     },
     "execution_count": 132,
     "metadata": {},
     "output_type": "execute_result"
    }
   ],
   "source": [
    "jobs = pd.DataFrame({})\n",
    "jobs['Job Title'] = job_titles_final\n",
    "jobs['Company Name'] = company_names_final\n",
    "jobs['Experience Required'] = experience_list_final\n",
    "jobs['Job locations'] = location_list_final\n",
    "\n",
    "jobs"
   ]
  },
  {
   "cell_type": "markdown",
   "metadata": {},
   "source": [
    "Q5."
   ]
  },
  {
   "cell_type": "code",
   "execution_count": 133,
   "metadata": {},
   "outputs": [],
   "source": [
    "url = \"https://www.glassdoor.co.in/index.htm\"\n",
    "driver.get(url)"
   ]
  },
  {
   "cell_type": "markdown",
   "metadata": {},
   "source": [
    "It is asking for sign in and after trying to sign in it saying browser not secured try from another one."
   ]
  },
  {
   "cell_type": "markdown",
   "metadata": {},
   "source": [
    "Q6."
   ]
  },
  {
   "cell_type": "code",
   "execution_count": 251,
   "metadata": {},
   "outputs": [],
   "source": [
    "url = \"https://www.flipkart.com/\"\n",
    "driver.get(url)"
   ]
  },
  {
   "cell_type": "code",
   "execution_count": 252,
   "metadata": {},
   "outputs": [
    {
     "data": {
      "text/plain": [
       "<selenium.webdriver.remote.webelement.WebElement (session=\"ff668bbbc3047ef59ee41fb6294c9f7c\", element=\"0ddf75c0-82be-44e6-afc2-032e55ca3b30\")>"
      ]
     },
     "execution_count": 252,
     "metadata": {},
     "output_type": "execute_result"
    }
   ],
   "source": [
    "search_product = driver.find_element_by_xpath(\"/html/body/div[1]/div/div[1]/div[1]/div[2]/div[2]/form/div/div/input\")\n",
    "search_product"
   ]
  },
  {
   "cell_type": "code",
   "execution_count": 253,
   "metadata": {},
   "outputs": [],
   "source": [
    "search_product.send_keys(\"sunglasses\")"
   ]
  },
  {
   "cell_type": "code",
   "execution_count": 254,
   "metadata": {},
   "outputs": [],
   "source": [
    "search_btn = driver.find_element_by_xpath(\"//button[@class='L0Z3Pu']\")\n",
    "search_btn.click()"
   ]
  },
  {
   "cell_type": "code",
   "execution_count": 255,
   "metadata": {},
   "outputs": [
    {
     "data": {
      "text/plain": [
       "['https://www.flipkart.com/search?q=sunglasses&otracker=search&otracker1=search&marketplace=FLIPKART&as-show=on&as=off&page=1',\n",
       " 'https://www.flipkart.com/search?q=sunglasses&otracker=search&otracker1=search&marketplace=FLIPKART&as-show=on&as=off&page=2',\n",
       " 'https://www.flipkart.com/search?q=sunglasses&otracker=search&otracker1=search&marketplace=FLIPKART&as-show=on&as=off&page=3',\n",
       " 'https://www.flipkart.com/search?q=sunglasses&otracker=search&otracker1=search&marketplace=FLIPKART&as-show=on&as=off&page=4',\n",
       " 'https://www.flipkart.com/search?q=sunglasses&otracker=search&otracker1=search&marketplace=FLIPKART&as-show=on&as=off&page=5',\n",
       " 'https://www.flipkart.com/search?q=sunglasses&otracker=search&otracker1=search&marketplace=FLIPKART&as-show=on&as=off&page=6',\n",
       " 'https://www.flipkart.com/search?q=sunglasses&otracker=search&otracker1=search&marketplace=FLIPKART&as-show=on&as=off&page=7',\n",
       " 'https://www.flipkart.com/search?q=sunglasses&otracker=search&otracker1=search&marketplace=FLIPKART&as-show=on&as=off&page=8',\n",
       " 'https://www.flipkart.com/search?q=sunglasses&otracker=search&otracker1=search&marketplace=FLIPKART&as-show=on&as=off&page=9',\n",
       " 'https://www.flipkart.com/search?q=sunglasses&otracker=search&otracker1=search&marketplace=FLIPKART&as-show=on&as=off&page=10',\n",
       " 'https://www.flipkart.com/search?q=sunglasses&otracker=search&otracker1=search&marketplace=FLIPKART&as-show=on&as=off&page=2']"
      ]
     },
     "execution_count": 255,
     "metadata": {},
     "output_type": "execute_result"
    }
   ],
   "source": [
    "page_url = []\n",
    "url = driver.find_elements_by_xpath(\"//nav[@class='yFHi8N']//a\")\n",
    "\n",
    "for i in url:\n",
    "    page_url.append(i.get_attribute(\"href\"))\n",
    "page_url"
   ]
  },
  {
   "cell_type": "code",
   "execution_count": 256,
   "metadata": {},
   "outputs": [
    {
     "data": {
      "text/plain": [
       "['Fastrack',\n",
       " 'Elligator',\n",
       " 'PHENOMENAL',\n",
       " 'Wrogn',\n",
       " 'ROZZETTA CRAFT',\n",
       " 'Singco',\n",
       " 'DEIXELS',\n",
       " 'ROYAL SON',\n",
       " 'Fastrack',\n",
       " 'NuVew',\n",
       " 'Elligator',\n",
       " 'VINCENT CHASE',\n",
       " 'Fravy',\n",
       " 'ROYAL SON',\n",
       " 'ROZZETTA CRAFT',\n",
       " 'ROYAL SON',\n",
       " 'Singco India',\n",
       " 'PIRASO',\n",
       " 'Fastrack',\n",
       " 'PIRASO',\n",
       " 'AISLIN',\n",
       " 'GANSTA',\n",
       " 'SUNBEE',\n",
       " 'hipe',\n",
       " 'kingsunglasses',\n",
       " 'NuVew',\n",
       " 'Fastrack',\n",
       " 'PIRASO',\n",
       " 'hipe',\n",
       " 'hipe',\n",
       " 'kingsunglasses',\n",
       " 'Wrogn',\n",
       " 'kingsunglasses',\n",
       " 'NuVew',\n",
       " 'ROYAL SON',\n",
       " 'ROYAL SON',\n",
       " 'Fastrack',\n",
       " 'Fastrack',\n",
       " 'elegante',\n",
       " 'PIRASO',\n",
       " 'ROYAL SON',\n",
       " 'PIRASO',\n",
       " 'kingsunglasses',\n",
       " 'Wrogn',\n",
       " 'kingsunglasses',\n",
       " 'Crackers',\n",
       " 'Flizz',\n",
       " 'ROYAL SON',\n",
       " 'NuVew',\n",
       " 'ROYAL SON',\n",
       " 'PIRASO',\n",
       " 'VINCENT CHASE',\n",
       " 'Fastrack',\n",
       " 'Silver Kartz',\n",
       " 'Fastrack',\n",
       " 'ROYAL SON',\n",
       " 'ROZZETTA CRAFT',\n",
       " 'GANSTA',\n",
       " 'ROYAL SON',\n",
       " 'PIRASO',\n",
       " 'Villain',\n",
       " 'ROYAL SON',\n",
       " 'Fastrack',\n",
       " 'hipe',\n",
       " 'Elligator',\n",
       " 'AISLIN',\n",
       " 'NuVew',\n",
       " 'Wrogn',\n",
       " 'hipe',\n",
       " 'ROYAL SON',\n",
       " 'Fastrack',\n",
       " 'ROYAL SON',\n",
       " 'ROYAL SON',\n",
       " 'hipe',\n",
       " 'kingsunglasses',\n",
       " 'PIRASO',\n",
       " 'hipe',\n",
       " 'ROZZETTA CRAFT',\n",
       " 'Fastrack',\n",
       " 'ROYAL SON',\n",
       " 'Singco India',\n",
       " 'Elligator',\n",
       " 'PHENOMENAL',\n",
       " 'KHALEEFA',\n",
       " 'AISLIN',\n",
       " 'PHENOMENAL',\n",
       " 'NuVew',\n",
       " 'Wrogn',\n",
       " 'Fastrack',\n",
       " 'kingsunglasses',\n",
       " 'Elligator',\n",
       " 'HAMIW COLLECTION',\n",
       " 'Fastrack',\n",
       " 'Singco',\n",
       " 'Fastrack',\n",
       " 'ROYAL SON',\n",
       " 'hipe',\n",
       " 'VINCENT CHASE',\n",
       " 'United Colors of Benetton',\n",
       " 'VINCENT CHASE']"
      ]
     },
     "execution_count": 256,
     "metadata": {},
     "output_type": "execute_result"
    }
   ],
   "source": [
    "brand = []\n",
    "for i in page_url[1:4]:\n",
    "    driver.get(i)\n",
    "    brand_name = driver.find_elements_by_xpath(\"//div[@class='_2WkVRV']\")\n",
    "    for i in brand_name:\n",
    "        brand.append(i.text)\n",
    "BRAND = brand[:100]\n",
    "BRAND"
   ]
  },
  {
   "cell_type": "code",
   "execution_count": 258,
   "metadata": {},
   "outputs": [
    {
     "name": "stdout",
     "output_type": "stream",
     "text": [
      "100\n"
     ]
    }
   ],
   "source": [
    "print(len(BRAND))#product_des = driver.find_elements_by_xpath(\"//a[@class='IRpwTa']\")\n",
    "#product_des"
   ]
  },
  {
   "cell_type": "code",
   "execution_count": 259,
   "metadata": {},
   "outputs": [
    {
     "data": {
      "text/plain": [
       "['UV Protection, Riding Glasses Rectangular Sunglasses (F...',\n",
       " 'Mirrored Round Sunglasses (53)',\n",
       " 'UV Protection Wayfarer Sunglasses (53)',\n",
       " 'Mirrored Wayfarer Sunglasses (51)',\n",
       " 'Gradient, UV Protection Wayfarer Sunglasses (Free Size)',\n",
       " 'Gradient, UV Protection Wayfarer Sunglasses (Free Size)',\n",
       " 'Mirrored, UV Protection, Riding Glasses, Others Wrap-ar...',\n",
       " 'UV Protection Wayfarer, Sports, Shield, Rectangular, Re...',\n",
       " 'UV Protection, Riding Glasses Rectangular, Retro Square...',\n",
       " 'UV Protection Rectangular Sunglasses (59)',\n",
       " 'Mirrored Aviator Sunglasses (53)',\n",
       " 'UV Protection Aviator, Wayfarer Sunglasses (Free Size)',\n",
       " 'UV Protection, Gradient Rectangular Sunglasses (Free Si...',\n",
       " 'UV Protection Wayfarer Sunglasses (Free Size)',\n",
       " 'Polarized, UV Protection Round Sunglasses (49)',\n",
       " 'UV Protection Aviator Sunglasses (Free Size)',\n",
       " 'UV Protection, Riding Glasses Wayfarer Sunglasses (56)',\n",
       " 'UV Protection Aviator Sunglasses (55)',\n",
       " 'Polarized Retro Square Sunglasses (54)',\n",
       " 'UV Protection Retro Square Sunglasses (Free Size)',\n",
       " 'UV Protection, Gradient Wayfarer Sunglasses (55)',\n",
       " 'UV Protection Wayfarer Sunglasses (32)',\n",
       " 'UV Protection Aviator Sunglasses (54)',\n",
       " 'UV Protection Wayfarer Sunglasses (Free Size)',\n",
       " 'Others Retro Square Sunglasses (Free Size)',\n",
       " 'UV Protection Wayfarer Sunglasses (56)',\n",
       " 'UV Protection Over-sized Sunglasses (65)',\n",
       " 'UV Protection, Polarized, Mirrored Round Sunglasses (Fr...',\n",
       " 'UV Protection, Riding Glasses, Mirrored Wayfarer Sungla...',\n",
       " 'UV Protection, Mirrored, Night Vision, Riding Glasses S...',\n",
       " 'UV Protection, Mirrored Aviator Sunglasses (Free Size)',\n",
       " 'UV Protection Sports Sunglasses (Free Size)',\n",
       " 'UV Protection, Gradient Butterfly, Retro Square Sunglas...',\n",
       " 'UV Protection, Mirrored Wayfarer Sunglasses (53)',\n",
       " 'UV Protection, Mirrored Retro Square Sunglasses (Free S...',\n",
       " 'UV Protection, Mirrored Round Sunglasses (54)',\n",
       " 'UV Protection Cat-eye Sunglasses (60)',\n",
       " 'UV Protection, Gradient Butterfly, Retro Square Sunglas...',\n",
       " 'UV Protection Round Sunglasses (53)',\n",
       " 'Mirrored, Riding Glasses, Others Sports Sunglasses (50)',\n",
       " 'UV Protection Wayfarer Sunglasses (Free Size)',\n",
       " 'Mirrored Wayfarer Sunglasses (51)',\n",
       " 'UV Protection Clubmaster Sunglasses (Free Size)',\n",
       " 'Polarized, UV Protection Retro Square Sunglasses (53)',\n",
       " 'UV Protection Aviator Sunglasses (Free Size)',\n",
       " 'UV Protection Rectangular Sunglasses (Free Size)',\n",
       " 'Mirrored, UV Protection Wayfarer, Wayfarer, Wayfarer, W...',\n",
       " 'UV Protection Wayfarer Sunglasses (55)',\n",
       " 'Polarized, UV Protection Round Sunglasses (49)',\n",
       " 'UV Protection Aviator Sunglasses (54)',\n",
       " 'UV Protection Aviator Sunglasses (55)',\n",
       " 'UV Protection Oval Sunglasses (Free Size)',\n",
       " 'Polarized Retro Square Sunglasses (54)',\n",
       " 'UV Protection Aviator Sunglasses (58)',\n",
       " 'UV Protection Sports Sunglasses (Free Size)',\n",
       " 'UV Protection Retro Square Sunglasses (Free Size)',\n",
       " 'UV Protection Over-sized Sunglasses (65)',\n",
       " 'UV Protection, Mirrored Aviator Sunglasses (58)',\n",
       " 'UV Protection Retro Square Sunglasses (58)',\n",
       " 'UV Protection, Gradient, Night Vision Retro Square Sung...',\n",
       " 'UV Protection Aviator Sunglasses (54)',\n",
       " 'UV Protection, Gradient Rectangular Sunglasses (Free Si...',\n",
       " 'UV Protection Aviator Sunglasses (57)',\n",
       " 'Gradient, UV Protection Round, Oval, Cat-eye Sunglasses...',\n",
       " 'UV Protection, Mirrored Aviator Sunglasses (Free Size)',\n",
       " 'UV Protection Oval Sunglasses (56)',\n",
       " 'UV Protection, Gradient Butterfly, Retro Square Sunglas...',\n",
       " 'UV Protection Sports Sunglasses (73)',\n",
       " 'UV Protection Aviator Sunglasses (60)',\n",
       " 'UV Protection Aviator Sunglasses (Free Size)',\n",
       " 'UV Protection Round Sunglasses (50)',\n",
       " 'UV Protection, Riding Glasses Rectangular, Retro Square...',\n",
       " 'UV Protection Retro Square Sunglasses (88)',\n",
       " 'UV Protection Aviator Sunglasses (Free Size)',\n",
       " 'UV Protection Wayfarer Sunglasses (Free Size)',\n",
       " 'UV Protection Aviator Sunglasses (Free Size)',\n",
       " 'UV Protection Aviator Sunglasses (54)',\n",
       " 'Riding Glasses, Others, UV Protection Wrap-around Sungl...',\n",
       " 'UV Protection, Gradient, Mirrored Aviator, Round, Wayfa...',\n",
       " 'UV Protection Retro Square Sunglasses (Free Size)',\n",
       " 'Mirrored Wayfarer Sunglasses (51)',\n",
       " 'UV Protection Oval Sunglasses (58)',\n",
       " 'UV Protection, Mirrored Retro Square Sunglasses (53)',\n",
       " 'UV Protection, Mirrored, Night Vision, Riding Glasses S...',\n",
       " 'UV Protection Wayfarer, Sports, Shield, Rectangular, Re...',\n",
       " 'UV Protection Round Sunglasses (52)',\n",
       " 'UV Protection Round Sunglasses (Free Size)',\n",
       " 'UV Protection, Riding Glasses Rectangular, Retro Square...',\n",
       " 'Polarized, UV Protection Round Sunglasses (49)',\n",
       " 'UV Protection Wayfarer Sunglasses (Free Size)',\n",
       " 'UV Protection, Others Aviator Sunglasses (32)',\n",
       " 'UV Protection Aviator Sunglasses (61)',\n",
       " 'Polarized Retro Square Sunglasses (54)',\n",
       " 'UV Protection, Gradient, Riding Glasses Wayfarer Sungla...',\n",
       " 'by Lenskart Polarized, UV Protection Cat-eye Sunglasses...',\n",
       " 'Mirrored Rectangular Sunglasses (53)',\n",
       " 'UV Protection Aviator Sunglasses (54)',\n",
       " 'UV Protection Sports Sunglasses (Free Size)',\n",
       " 'UV Protection Retro Square Sunglasses (Free Size)',\n",
       " 'UV Protection Aviator Sunglasses (Free Size)']"
      ]
     },
     "execution_count": 259,
     "metadata": {},
     "output_type": "execute_result"
    }
   ],
   "source": [
    "pro_des = []\n",
    "for i in page_url[1:4]:\n",
    "    driver.get(i)\n",
    "    pro_desp = driver.find_elements_by_xpath(\"//a[@class='IRpwTa']\")\n",
    "    for i in pro_desp:\n",
    "        pro_des.append(i.text)\n",
    "PRODUCT_DESCRIPTION = pro_des[:100]\n",
    "PRODUCT_DESCRIPTION"
   ]
  },
  {
   "cell_type": "code",
   "execution_count": 260,
   "metadata": {},
   "outputs": [
    {
     "name": "stdout",
     "output_type": "stream",
     "text": [
      "100\n"
     ]
    }
   ],
   "source": [
    "print(len(PRODUCT_DESCRIPTION))"
   ]
  },
  {
   "cell_type": "code",
   "execution_count": 263,
   "metadata": {},
   "outputs": [
    {
     "data": {
      "text/plain": [
       "['₹426',\n",
       " '₹312',\n",
       " '₹246',\n",
       " '₹739',\n",
       " '₹599',\n",
       " '₹529',\n",
       " '₹331',\n",
       " '₹472',\n",
       " '₹398',\n",
       " '₹969',\n",
       " '₹239',\n",
       " '₹799',\n",
       " '₹202',\n",
       " '₹474',\n",
       " '₹669',\n",
       " '₹664',\n",
       " '₹314',\n",
       " '₹232',\n",
       " '₹328',\n",
       " '₹759',\n",
       " '₹269',\n",
       " '₹203',\n",
       " '₹225',\n",
       " '₹799',\n",
       " '₹559',\n",
       " '₹599',\n",
       " '₹579',\n",
       " '₹699',\n",
       " '₹331',\n",
       " '₹229',\n",
       " '₹309',\n",
       " '₹225',\n",
       " '₹319',\n",
       " '₹516',\n",
       " '₹211',\n",
       " '₹219',\n",
       " '₹379',\n",
       " '₹249',\n",
       " '₹425',\n",
       " '₹1,009',\n",
       " '₹282',\n",
       " '₹239',\n",
       " '₹569',\n",
       " '₹739',\n",
       " '₹303',\n",
       " '₹255',\n",
       " '₹609',\n",
       " '₹209',\n",
       " '₹210',\n",
       " '₹299',\n",
       " '₹248',\n",
       " '₹472',\n",
       " '₹225',\n",
       " '₹170',\n",
       " '₹1,479',\n",
       " '₹799',\n",
       " '₹399',\n",
       " '₹599',\n",
       " '₹399',\n",
       " '₹664',\n",
       " '₹188',\n",
       " '₹499',\n",
       " '₹305',\n",
       " '₹759',\n",
       " '₹474',\n",
       " '₹323',\n",
       " '₹699',\n",
       " '₹799',\n",
       " '₹284',\n",
       " '₹487',\n",
       " '₹311',\n",
       " '₹699',\n",
       " '₹1,849',\n",
       " '₹399',\n",
       " '₹398',\n",
       " '₹225',\n",
       " '₹649',\n",
       " '₹599',\n",
       " '₹639',\n",
       " '₹219',\n",
       " '₹293',\n",
       " '₹246',\n",
       " '₹379',\n",
       " '₹739',\n",
       " '₹430',\n",
       " '₹379',\n",
       " '₹393',\n",
       " '₹209',\n",
       " '₹939',\n",
       " '₹349',\n",
       " '₹349',\n",
       " '₹472',\n",
       " '₹569',\n",
       " '₹337',\n",
       " '₹599',\n",
       " '₹799',\n",
       " '₹259',\n",
       " '₹799',\n",
       " '₹1,499',\n",
       " '₹664']"
      ]
     },
     "execution_count": 263,
     "metadata": {},
     "output_type": "execute_result"
    }
   ],
   "source": [
    "pri_ce = []\n",
    "for i in page_url[1:4]:\n",
    "    driver.get(i)\n",
    "    price = driver.find_elements_by_xpath(\"//div[@class='_30jeq3']\")\n",
    "    for i in price:\n",
    "        pri_ce.append(i.text)\n",
    "PRICE = pri_ce[:100]\n",
    "PRICE"
   ]
  },
  {
   "cell_type": "code",
   "execution_count": 264,
   "metadata": {},
   "outputs": [
    {
     "name": "stdout",
     "output_type": "stream",
     "text": [
      "100\n"
     ]
    }
   ],
   "source": [
    "print(len(PRICE))"
   ]
  },
  {
   "cell_type": "code",
   "execution_count": 265,
   "metadata": {},
   "outputs": [
    {
     "data": {
      "text/plain": [
       "['80% off',\n",
       " '87% off',\n",
       " '75% off',\n",
       " '71% off',\n",
       " '25% off',\n",
       " '33% off',\n",
       " '83% off',\n",
       " '71% off',\n",
       " '73% off',\n",
       " '25% off',\n",
       " '76% off',\n",
       " '60% off',\n",
       " '83% off',\n",
       " '78% off',\n",
       " '25% off',\n",
       " '66% off',\n",
       " '80% off',\n",
       " '76% off',\n",
       " '86% off',\n",
       " '60% off',\n",
       " '82% off',\n",
       " '79% off',\n",
       " '85% off',\n",
       " '85% off',\n",
       " '30% off',\n",
       " '20% off',\n",
       " '35% off',\n",
       " '53% off',\n",
       " '80% off',\n",
       " '80% off',\n",
       " '66% off',\n",
       " '78% off',\n",
       " '83% off',\n",
       " '66% off',\n",
       " '78% off',\n",
       " '80% off',\n",
       " '81% off',\n",
       " '79% off',\n",
       " '70% off',\n",
       " '68% off',\n",
       " '87% off',\n",
       " '84% off',\n",
       " '28% off',\n",
       " '71% off',\n",
       " '84% off',\n",
       " '74% off',\n",
       " '32% off',\n",
       " '86% off',\n",
       " '83% off',\n",
       " '80% off',\n",
       " '80% off',\n",
       " '60% off',\n",
       " '85% off',\n",
       " '82% off',\n",
       " '26% off',\n",
       " '66% off',\n",
       " '84% off',\n",
       " '33% off',\n",
       " '81% off',\n",
       " '60% off',\n",
       " '78% off',\n",
       " '66% off',\n",
       " '84% off',\n",
       " '85% off',\n",
       " '76% off',\n",
       " '83% off',\n",
       " '53% off',\n",
       " '53% off',\n",
       " '76% off',\n",
       " '68% off',\n",
       " '75% off',\n",
       " '85% off',\n",
       " '19% off',\n",
       " '73% off',\n",
       " '73% off',\n",
       " '78% off',\n",
       " '27% off',\n",
       " '25% off',\n",
       " '28% off',\n",
       " '68% off',\n",
       " '82% off',\n",
       " '87% off',\n",
       " '81% off',\n",
       " '71% off',\n",
       " '82% off',\n",
       " '81% off',\n",
       " '68% off',\n",
       " '71% off',\n",
       " '27% off',\n",
       " '78% off',\n",
       " '76% off',\n",
       " '86% off',\n",
       " '28% off',\n",
       " '83% off',\n",
       " '33% off',\n",
       " '60% off',\n",
       " '74% off',\n",
       " '60% off',\n",
       " '68% off',\n",
       " '66% off']"
      ]
     },
     "execution_count": 265,
     "metadata": {},
     "output_type": "execute_result"
    }
   ],
   "source": [
    "dis_count = []\n",
    "for i in page_url[1:4]:\n",
    "    driver.get(i)\n",
    "    discount = driver.find_elements_by_xpath(\"//div[@class='_3Ay6Sb']//span\")\n",
    "    for i in discount:\n",
    "        dis_count.append(i.text)\n",
    "DISCOUNT = dis_count[:100]\n",
    "DISCOUNT"
   ]
  },
  {
   "cell_type": "code",
   "execution_count": 266,
   "metadata": {},
   "outputs": [
    {
     "name": "stdout",
     "output_type": "stream",
     "text": [
      "100\n"
     ]
    }
   ],
   "source": [
    "print(len(DISCOUNT))"
   ]
  },
  {
   "cell_type": "code",
   "execution_count": 267,
   "metadata": {},
   "outputs": [
    {
     "data": {
      "text/html": [
       "<div>\n",
       "<style scoped>\n",
       "    .dataframe tbody tr th:only-of-type {\n",
       "        vertical-align: middle;\n",
       "    }\n",
       "\n",
       "    .dataframe tbody tr th {\n",
       "        vertical-align: top;\n",
       "    }\n",
       "\n",
       "    .dataframe thead th {\n",
       "        text-align: right;\n",
       "    }\n",
       "</style>\n",
       "<table border=\"1\" class=\"dataframe\">\n",
       "  <thead>\n",
       "    <tr style=\"text-align: right;\">\n",
       "      <th></th>\n",
       "      <th>BRAND</th>\n",
       "      <th>DESCRIPTION</th>\n",
       "      <th>PRICE</th>\n",
       "      <th>DISCOUNT</th>\n",
       "    </tr>\n",
       "  </thead>\n",
       "  <tbody>\n",
       "    <tr>\n",
       "      <th>0</th>\n",
       "      <td>Fastrack</td>\n",
       "      <td>UV Protection, Riding Glasses Rectangular Sung...</td>\n",
       "      <td>₹426</td>\n",
       "      <td>80% off</td>\n",
       "    </tr>\n",
       "    <tr>\n",
       "      <th>1</th>\n",
       "      <td>Elligator</td>\n",
       "      <td>Mirrored Round Sunglasses (53)</td>\n",
       "      <td>₹312</td>\n",
       "      <td>87% off</td>\n",
       "    </tr>\n",
       "    <tr>\n",
       "      <th>2</th>\n",
       "      <td>PHENOMENAL</td>\n",
       "      <td>UV Protection Wayfarer Sunglasses (53)</td>\n",
       "      <td>₹246</td>\n",
       "      <td>75% off</td>\n",
       "    </tr>\n",
       "    <tr>\n",
       "      <th>3</th>\n",
       "      <td>Wrogn</td>\n",
       "      <td>Mirrored Wayfarer Sunglasses (51)</td>\n",
       "      <td>₹739</td>\n",
       "      <td>71% off</td>\n",
       "    </tr>\n",
       "    <tr>\n",
       "      <th>4</th>\n",
       "      <td>ROZZETTA CRAFT</td>\n",
       "      <td>Gradient, UV Protection Wayfarer Sunglasses (F...</td>\n",
       "      <td>₹599</td>\n",
       "      <td>25% off</td>\n",
       "    </tr>\n",
       "    <tr>\n",
       "      <th>...</th>\n",
       "      <td>...</td>\n",
       "      <td>...</td>\n",
       "      <td>...</td>\n",
       "      <td>...</td>\n",
       "    </tr>\n",
       "    <tr>\n",
       "      <th>95</th>\n",
       "      <td>ROYAL SON</td>\n",
       "      <td>Mirrored Rectangular Sunglasses (53)</td>\n",
       "      <td>₹799</td>\n",
       "      <td>60% off</td>\n",
       "    </tr>\n",
       "    <tr>\n",
       "      <th>96</th>\n",
       "      <td>hipe</td>\n",
       "      <td>UV Protection Aviator Sunglasses (54)</td>\n",
       "      <td>₹259</td>\n",
       "      <td>74% off</td>\n",
       "    </tr>\n",
       "    <tr>\n",
       "      <th>97</th>\n",
       "      <td>VINCENT CHASE</td>\n",
       "      <td>UV Protection Sports Sunglasses (Free Size)</td>\n",
       "      <td>₹799</td>\n",
       "      <td>60% off</td>\n",
       "    </tr>\n",
       "    <tr>\n",
       "      <th>98</th>\n",
       "      <td>United Colors of Benetton</td>\n",
       "      <td>UV Protection Retro Square Sunglasses (Free Size)</td>\n",
       "      <td>₹1,499</td>\n",
       "      <td>68% off</td>\n",
       "    </tr>\n",
       "    <tr>\n",
       "      <th>99</th>\n",
       "      <td>VINCENT CHASE</td>\n",
       "      <td>UV Protection Aviator Sunglasses (Free Size)</td>\n",
       "      <td>₹664</td>\n",
       "      <td>66% off</td>\n",
       "    </tr>\n",
       "  </tbody>\n",
       "</table>\n",
       "<p>100 rows × 4 columns</p>\n",
       "</div>"
      ],
      "text/plain": [
       "                        BRAND  \\\n",
       "0                    Fastrack   \n",
       "1                   Elligator   \n",
       "2                  PHENOMENAL   \n",
       "3                       Wrogn   \n",
       "4              ROZZETTA CRAFT   \n",
       "..                        ...   \n",
       "95                  ROYAL SON   \n",
       "96                       hipe   \n",
       "97              VINCENT CHASE   \n",
       "98  United Colors of Benetton   \n",
       "99              VINCENT CHASE   \n",
       "\n",
       "                                          DESCRIPTION   PRICE DISCOUNT  \n",
       "0   UV Protection, Riding Glasses Rectangular Sung...    ₹426  80% off  \n",
       "1                      Mirrored Round Sunglasses (53)    ₹312  87% off  \n",
       "2              UV Protection Wayfarer Sunglasses (53)    ₹246  75% off  \n",
       "3                   Mirrored Wayfarer Sunglasses (51)    ₹739  71% off  \n",
       "4   Gradient, UV Protection Wayfarer Sunglasses (F...    ₹599  25% off  \n",
       "..                                                ...     ...      ...  \n",
       "95               Mirrored Rectangular Sunglasses (53)    ₹799  60% off  \n",
       "96              UV Protection Aviator Sunglasses (54)    ₹259  74% off  \n",
       "97        UV Protection Sports Sunglasses (Free Size)    ₹799  60% off  \n",
       "98  UV Protection Retro Square Sunglasses (Free Size)  ₹1,499  68% off  \n",
       "99       UV Protection Aviator Sunglasses (Free Size)    ₹664  66% off  \n",
       "\n",
       "[100 rows x 4 columns]"
      ]
     },
     "execution_count": 267,
     "metadata": {},
     "output_type": "execute_result"
    }
   ],
   "source": [
    "Products = pd.DataFrame({})\n",
    "Products[\"BRAND\"]=BRAND\n",
    "Products[\"DESCRIPTION\"]=PRODUCT_DESCRIPTION\n",
    "Products[\"PRICE\"]=PRICE\n",
    "Products[\"DISCOUNT\"]=DISCOUNT\n",
    "\n",
    "Products"
   ]
  },
  {
   "cell_type": "markdown",
   "metadata": {},
   "source": [
    "Q8."
   ]
  },
  {
   "cell_type": "code",
   "execution_count": 423,
   "metadata": {},
   "outputs": [],
   "source": [
    "url = \"https://www.flipkart.com/\"\n",
    "driver.get(url)"
   ]
  },
  {
   "cell_type": "code",
   "execution_count": 424,
   "metadata": {},
   "outputs": [
    {
     "data": {
      "text/plain": [
       "<selenium.webdriver.remote.webelement.WebElement (session=\"ff668bbbc3047ef59ee41fb6294c9f7c\", element=\"d0e1a5f1-0cf0-4a86-9acd-cb9d191322f6\")>"
      ]
     },
     "execution_count": 424,
     "metadata": {},
     "output_type": "execute_result"
    }
   ],
   "source": [
    "search_product = driver.find_element_by_xpath(\"/html/body/div[1]/div/div[1]/div[1]/div[2]/div[2]/form/div/div/input\")\n",
    "search_product"
   ]
  },
  {
   "cell_type": "code",
   "execution_count": 425,
   "metadata": {},
   "outputs": [],
   "source": [
    "search_product.send_keys(\"sneakers\")"
   ]
  },
  {
   "cell_type": "code",
   "execution_count": 426,
   "metadata": {},
   "outputs": [],
   "source": [
    "search_btn = driver.find_element_by_xpath(\"//button[@class='L0Z3Pu']\")\n",
    "search_btn.click()"
   ]
  },
  {
   "cell_type": "code",
   "execution_count": 427,
   "metadata": {},
   "outputs": [
    {
     "data": {
      "text/plain": [
       "['https://www.flipkart.com/search?q=sneakers&otracker=search&otracker1=search&marketplace=FLIPKART&as-show=on&as=off&page=1',\n",
       " 'https://www.flipkart.com/search?q=sneakers&otracker=search&otracker1=search&marketplace=FLIPKART&as-show=on&as=off&page=2',\n",
       " 'https://www.flipkart.com/search?q=sneakers&otracker=search&otracker1=search&marketplace=FLIPKART&as-show=on&as=off&page=3',\n",
       " 'https://www.flipkart.com/search?q=sneakers&otracker=search&otracker1=search&marketplace=FLIPKART&as-show=on&as=off&page=4',\n",
       " 'https://www.flipkart.com/search?q=sneakers&otracker=search&otracker1=search&marketplace=FLIPKART&as-show=on&as=off&page=5',\n",
       " 'https://www.flipkart.com/search?q=sneakers&otracker=search&otracker1=search&marketplace=FLIPKART&as-show=on&as=off&page=6',\n",
       " 'https://www.flipkart.com/search?q=sneakers&otracker=search&otracker1=search&marketplace=FLIPKART&as-show=on&as=off&page=7',\n",
       " 'https://www.flipkart.com/search?q=sneakers&otracker=search&otracker1=search&marketplace=FLIPKART&as-show=on&as=off&page=8',\n",
       " 'https://www.flipkart.com/search?q=sneakers&otracker=search&otracker1=search&marketplace=FLIPKART&as-show=on&as=off&page=9',\n",
       " 'https://www.flipkart.com/search?q=sneakers&otracker=search&otracker1=search&marketplace=FLIPKART&as-show=on&as=off&page=10',\n",
       " 'https://www.flipkart.com/search?q=sneakers&otracker=search&otracker1=search&marketplace=FLIPKART&as-show=on&as=off&page=2']"
      ]
     },
     "execution_count": 427,
     "metadata": {},
     "output_type": "execute_result"
    }
   ],
   "source": [
    "page_url = []\n",
    "url = driver.find_elements_by_xpath(\"//nav[@class='yFHi8N']//a\")\n",
    "for i in url:\n",
    "    page_url.append(i.get_attribute(\"href\"))\n",
    "page_url"
   ]
  },
  {
   "cell_type": "code",
   "execution_count": 429,
   "metadata": {},
   "outputs": [
    {
     "data": {
      "text/plain": [
       "['CALCADOS',\n",
       " 'RODDICK SHOES',\n",
       " 'BIRDE',\n",
       " 'pollachief',\n",
       " 'tigonis',\n",
       " 'Zorth',\n",
       " 'Creer',\n",
       " 'DUCATI',\n",
       " 'Edoeviv',\n",
       " 'Ktiz',\n",
       " 'restinfoot',\n",
       " 'Wrogn',\n",
       " 'Zsyto',\n",
       " 'SPARX',\n",
       " 'World Wear Footwear',\n",
       " 'Numenzo',\n",
       " 'India hub',\n",
       " 'Fzzirok',\n",
       " 'Ktiz',\n",
       " 'BIRDE',\n",
       " 'PUMA',\n",
       " 'SPARX',\n",
       " 'ROCKFIELD',\n",
       " 'Strollin',\n",
       " 'Edoeviv',\n",
       " 'PUMA',\n",
       " 'Labbin',\n",
       " 'bluemaker',\n",
       " 'Zorth',\n",
       " 'Zixer',\n",
       " 'Jack Diamond',\n",
       " 'Echor',\n",
       " 'HOCKWOOD',\n",
       " 'World Wear Footwear',\n",
       " 'Labbin',\n",
       " 'bluemaker',\n",
       " 'PUMA',\n",
       " 'Robbie jones',\n",
       " 'Jokatoo',\n",
       " 'STRANGER BROTHERS',\n",
       " 'ROCKFIELD',\n",
       " 'SPARX',\n",
       " 'D-SNEAKERZ',\n",
       " 'pollachief',\n",
       " 'SPARX',\n",
       " 'Bonexy',\n",
       " 'Numenzo',\n",
       " 'DUCATI',\n",
       " 'SPARX',\n",
       " 'FILA',\n",
       " 'Robbie jones',\n",
       " 'Labbin',\n",
       " 'bluemaker',\n",
       " 'HOTSTYLE',\n",
       " 'PUMA',\n",
       " 'Wrogn',\n",
       " 'ORICUM',\n",
       " 'Magnolia',\n",
       " 'bluemaker',\n",
       " 'Numenzo',\n",
       " 'Nilatin',\n",
       " 'PUMA',\n",
       " 'SPARX',\n",
       " 'Strollin',\n",
       " 'kardam&sons',\n",
       " 'RED TAPE',\n",
       " 'HOCKWOOD',\n",
       " 'bluemaker',\n",
       " 'Rising Wolf',\n",
       " 'mannu',\n",
       " 'ESSENCE',\n",
       " 'bluemaker',\n",
       " 'STRANGER BROTHERS',\n",
       " 'PUMA',\n",
       " 'SPARX',\n",
       " 'Chevit',\n",
       " 'D-SNEAKERZ',\n",
       " 'PUMA',\n",
       " 'Feens',\n",
       " 'Chevit',\n",
       " 'Fzzirok',\n",
       " 'Zsyto',\n",
       " 'Chevit',\n",
       " 'DUCATI',\n",
       " 'Wakefield',\n",
       " 'Robbie jones',\n",
       " 'Zorth',\n",
       " 'Labbin',\n",
       " 'Chevit',\n",
       " 'RODDICK SHOES',\n",
       " 'PUMA',\n",
       " 'Wrogn',\n",
       " 'BIRDE',\n",
       " 'HOTSTYLE',\n",
       " 'PUMA',\n",
       " 'Numenzo',\n",
       " 'ROAR SHOES',\n",
       " 'luxury fashion',\n",
       " 'RED TAPE']"
      ]
     },
     "execution_count": 429,
     "metadata": {},
     "output_type": "execute_result"
    }
   ],
   "source": [
    "brand = []\n",
    "for i in page_url[1:4]:\n",
    "    driver.get(i)\n",
    "    brand_name = driver.find_elements_by_xpath(\"//div[@class='_2WkVRV']\")\n",
    "    for i in brand_name:\n",
    "        brand.append(i.text)\n",
    "BRAND = brand[:99]\n",
    "BRAND"
   ]
  },
  {
   "cell_type": "code",
   "execution_count": 430,
   "metadata": {},
   "outputs": [
    {
     "name": "stdout",
     "output_type": "stream",
     "text": [
      "99\n"
     ]
    }
   ],
   "source": [
    "print(len(BRAND))"
   ]
  },
  {
   "cell_type": "code",
   "execution_count": 421,
   "metadata": {},
   "outputs": [
    {
     "data": {
      "text/plain": [
       "['Fashion Outdoor Canvas Casual Light Weight Lace-up Even...',\n",
       " 'Combo Pack of 4 Casual Shoes Sneakers For Men',\n",
       " 'Casual Sneaker for Men Sneakers For Men',\n",
       " 'Sneakers For Men',\n",
       " 'New Fashion Outdoor Trendy Lightweight Casual,Canvas St...',\n",
       " 'Sneakers For Men',\n",
       " \"Original Luxury Branded Fashionable Men's Casual Walkin...\",\n",
       " \"White Sneaker For Men's/Boy's Sneakers For Men\",\n",
       " 'Casual shoes Sneakers For Men',\n",
       " 'Sneakers For Men',\n",
       " 'Men White Sneakers Sneakers For Men',\n",
       " 'Latest Collection-1227 Stylish Casual Sports Sneakers F...',\n",
       " 'Sneakers For Men',\n",
       " 'Fashionable casual sneakers shoes Sneakers For Men',\n",
       " 'Rockstyle Trending Multicolor Ultralight canvas Sport/ ...',\n",
       " 'Sneakers For Men',\n",
       " 'Puma Smash v2 L Sneakers For Men',\n",
       " 'Canvas Casual Partywear Outdoor Sneakers Shoes For Mens...',\n",
       " 'Sneakers For Men',\n",
       " 'Sneakers For Men',\n",
       " \"Luxury Branded Fashionable Men's Casual Walking Partywe...\",\n",
       " 'Scuderia Ferrari Race IMEVA X-Ray 2 Sneakers For Men',\n",
       " 'Casual Sneakers White Shoes For Men And Boys Sneakers F...',\n",
       " 'Sneakers For Men',\n",
       " 'Sneakers For Men',\n",
       " 'Sneakers For Men',\n",
       " 'Combo Pack of 4 Latest Collection Stylish Casual Loafer...',\n",
       " 'Sneakers For Men',\n",
       " 'MAPF1 X-RAY 2 Sneakers For Men',\n",
       " 'Acrux IDP Sneakers For Men',\n",
       " 'Casual Sneakers Shoes For Men Sneakers For Men',\n",
       " 'Sneakers For Men',\n",
       " 'Modern & Trendy Collection Combo Pack of 02 Shoes for M...',\n",
       " 'Sneakers For Men',\n",
       " 'Casual Sneakers Sneakers For Men',\n",
       " \"Casual , Partywear Sneakers Shoes For Men's And Boys Re...\",\n",
       " 'Casual Sneaker for Men Sneakers For Men',\n",
       " 'Sneakers For Men',\n",
       " 'Sneakers For Men',\n",
       " 'Sneakers For Men',\n",
       " 'SM-322 Sneakers For Men',\n",
       " 'MESTO Sneakers For Men',\n",
       " 'Casual Sneakers White Shoes For Men And Boys Sneakers F...',\n",
       " 'Sneakers For Men',\n",
       " 'casual for men Sneakers For Men',\n",
       " 'Sneakers Sneakers For Men',\n",
       " 'Simha IDP Sneakers For Men',\n",
       " 'Sneakers For Men',\n",
       " 'Combo pack of 2 casual sneaker shoes for men Sneakers F...',\n",
       " 'White Sneakers Sneakers For Men',\n",
       " 'casual for men (black 08) Sneakers For Men',\n",
       " 'Sneakers For Men',\n",
       " 'White Sneaker For Men Sneakers For Men',\n",
       " 'Rigel IDP Sneakers For Men',\n",
       " 'SM-675 Sneakers For Men',\n",
       " 'Sneakers For Men',\n",
       " 'Fashionable casual sneaker shoes Sneakers For Men',\n",
       " 'Sneakers For Men',\n",
       " 'Sneakers For Men',\n",
       " 'High-end PU Sneakers Fashion CasualSports comfortable B...',\n",
       " 'Trendy Sneakers For Men',\n",
       " 'Combo Pack of 4 Casual Sneakers With Sneakers For Men',\n",
       " 'Sneakers For Men',\n",
       " 'Lazy Knit Slip On IDP Sneakers For Men',\n",
       " 'SD-323 Sneakers For Men',\n",
       " 'RS-X Hard Drive Sneakers For Men',\n",
       " \"Casual , Partywear Sneakers Shoes For Men's And Boys Wh...\",\n",
       " 'Puma Rebound LayUp SL Sneakers For Men',\n",
       " 'Stylish & Comfortable Casual Sports Walking Sneakers Fo...',\n",
       " 'Speed Set of 5 Pairs Sneakers Outdoors Casuals for Men ...',\n",
       " 'Chevit Latest Fashion Combo Pack of 2 Pairs Casual Outd...',\n",
       " 'Sneakers For Men',\n",
       " 'Sneakers For Men',\n",
       " 'Casual Sneakers Shoes For Men And Boys Sneakers For Men',\n",
       " 'New Fashion Outdoor Trendy Lightweight Casual,Canvas St...',\n",
       " 'Sneakers For Men',\n",
       " '168 Smart Red Lace-Ups Casuals for Men Sneakers For Men',\n",
       " 'Men & Boys Stylish, Comfortable Mesh Shoes With Soft La...',\n",
       " 'Poise Perf V1 IDP Sneakers For Men',\n",
       " 'Sneakers For Men',\n",
       " 'Combo Pack of 2 Casual Shoes Sneakers For Men',\n",
       " 'Droge IDP Sneakers For Men',\n",
       " 'Sneakers For Men',\n",
       " 'Fashionable casual sneaker shoes Sneakers For Men',\n",
       " 'Sneakers For Men',\n",
       " 'Sneakers For Men',\n",
       " 'Sneakers For Men',\n",
       " 'Combo Pack Of 4 Casual Sneaker Shoes For Men Sneakers F...',\n",
       " 'Rebound JOY Sneakers For Men',\n",
       " 'Sneakers For Men',\n",
       " 'Respin Sneakers For Men',\n",
       " 'Flex Renew SlipOn Sneakers For Men',\n",
       " \"Men's Stylish Casual Shoes Sneakers For Men\",\n",
       " 'Combo Pack of 4 Casual Sneakers With Sneakers For Men',\n",
       " 'Combo Pack of 2 Casual Loafer Sneakers Shoes Sneakers F...',\n",
       " \"Men's Running Shoes Fashion Breathable Sneakers Mesh So...\",\n",
       " 'Sneakers For Men',\n",
       " 'SM-162 Sneakers For Men',\n",
       " 'RS-X Hard Drive Sneakers For Men']"
      ]
     },
     "execution_count": 421,
     "metadata": {},
     "output_type": "execute_result"
    }
   ],
   "source": [
    "pro_des = []\n",
    "for i in page_url[1:4]:\n",
    "    driver.get(i)\n",
    "    pro_desp = driver.find_elements_by_xpath(\"//a[@class='IRpwTa']\")\n",
    "    for i in pro_desp:\n",
    "        pro_des.append(i.text)\n",
    "PRODUCT_DESCRIPTION = pro_des[:200]\n",
    "PRODUCT_DESCRIPTION"
   ]
  },
  {
   "cell_type": "code",
   "execution_count": 422,
   "metadata": {},
   "outputs": [
    {
     "name": "stdout",
     "output_type": "stream",
     "text": [
      "99\n"
     ]
    }
   ],
   "source": [
    "print(len(PRODUCT_DESCRIPTION))"
   ]
  },
  {
   "cell_type": "code",
   "execution_count": 431,
   "metadata": {},
   "outputs": [
    {
     "data": {
      "text/plain": [
       "['₹748',\n",
       " '₹474',\n",
       " '₹624',\n",
       " '₹468',\n",
       " '₹359',\n",
       " '₹450',\n",
       " '₹398',\n",
       " '₹1,289',\n",
       " '₹474',\n",
       " '₹384',\n",
       " '₹341',\n",
       " '₹426',\n",
       " '₹378',\n",
       " '₹625',\n",
       " '₹240',\n",
       " '₹489',\n",
       " '₹449',\n",
       " '₹360',\n",
       " '₹429',\n",
       " '₹489',\n",
       " '₹1,470',\n",
       " '₹629',\n",
       " '₹299',\n",
       " '₹399',\n",
       " '₹449',\n",
       " '₹2,719',\n",
       " '₹399',\n",
       " '₹399',\n",
       " '₹439',\n",
       " '₹555',\n",
       " '₹635',\n",
       " '₹1,209',\n",
       " '₹674',\n",
       " '₹499',\n",
       " '₹449',\n",
       " '₹449',\n",
       " '₹1,350',\n",
       " '₹379',\n",
       " '₹506',\n",
       " '₹3,690',\n",
       " '₹379',\n",
       " '₹946',\n",
       " '₹346',\n",
       " '₹629',\n",
       " '₹424',\n",
       " '₹407',\n",
       " '₹699',\n",
       " '₹845',\n",
       " '₹499',\n",
       " '₹399',\n",
       " '₹267',\n",
       " '₹1,115',\n",
       " '₹398',\n",
       " '₹311',\n",
       " '₹399',\n",
       " '₹407',\n",
       " '₹1,047',\n",
       " '₹699',\n",
       " '₹449',\n",
       " '₹1,299',\n",
       " '₹692',\n",
       " '₹485',\n",
       " '₹378',\n",
       " '₹353',\n",
       " '₹449',\n",
       " '₹1,047',\n",
       " '₹619',\n",
       " '₹384',\n",
       " '₹2,319',\n",
       " '₹283',\n",
       " '₹199',\n",
       " '₹555',\n",
       " '₹474',\n",
       " '₹594',\n",
       " '₹1,330',\n",
       " '₹399',\n",
       " '₹638',\n",
       " '₹378',\n",
       " '₹931',\n",
       " '₹499',\n",
       " '₹360',\n",
       " '₹378',\n",
       " '₹581',\n",
       " '₹218',\n",
       " '₹474',\n",
       " '₹449',\n",
       " '₹211',\n",
       " '₹474',\n",
       " '₹1,322',\n",
       " '₹446',\n",
       " '₹199',\n",
       " '₹1,330',\n",
       " '₹449',\n",
       " '₹379',\n",
       " '₹1,049',\n",
       " '₹498',\n",
       " '₹1,129',\n",
       " '₹1,299',\n",
       " '₹699']"
      ]
     },
     "execution_count": 431,
     "metadata": {},
     "output_type": "execute_result"
    }
   ],
   "source": [
    "pri_ce = []\n",
    "for i in page_url[1:4]:\n",
    "    driver.get(i)\n",
    "    price = driver.find_elements_by_xpath(\"//div[@class='_30jeq3']\")\n",
    "    for i in price:\n",
    "        pri_ce.append(i.text)\n",
    "PRICE = pri_ce[:99]\n",
    "PRICE"
   ]
  },
  {
   "cell_type": "code",
   "execution_count": 432,
   "metadata": {},
   "outputs": [
    {
     "name": "stdout",
     "output_type": "stream",
     "text": [
      "99\n"
     ]
    }
   ],
   "source": [
    "print(len(PRICE))"
   ]
  },
  {
   "cell_type": "code",
   "execution_count": 433,
   "metadata": {},
   "outputs": [
    {
     "data": {
      "text/plain": [
       "['62% off',\n",
       " '52% off',\n",
       " '68% off',\n",
       " '65% off',\n",
       " '80% off',\n",
       " '54% off',\n",
       " '60% off',\n",
       " '69% off',\n",
       " '40% off',\n",
       " '61% off',\n",
       " '65% off',\n",
       " '69% off',\n",
       " '70% off',\n",
       " '16% off',\n",
       " '51% off',\n",
       " '78% off',\n",
       " '85% off',\n",
       " '63% off',\n",
       " '66% off',\n",
       " '70% off',\n",
       " '57% off',\n",
       " '16% off',\n",
       " '70% off',\n",
       " '60% off',\n",
       " '55% off',\n",
       " '66% off',\n",
       " '60% off',\n",
       " '60% off',\n",
       " '56% off',\n",
       " '44% off',\n",
       " '36% off',\n",
       " '40% off',\n",
       " '32% off',\n",
       " '81% off',\n",
       " '55% off',\n",
       " '60% off',\n",
       " '59% off',\n",
       " '62% off',\n",
       " '66% off',\n",
       " '55% off',\n",
       " '62% off',\n",
       " '23% off',\n",
       " '65% off',\n",
       " '53% off',\n",
       " '10% off',\n",
       " '57% off',\n",
       " '59% off',\n",
       " '65% off',\n",
       " '30% off',\n",
       " '68% off',\n",
       " '50% off',\n",
       " '55% off',\n",
       " '60% off',\n",
       " '46% off',\n",
       " '62% off',\n",
       " '69% off',\n",
       " '60% off',\n",
       " '68% off',\n",
       " '60% off',\n",
       " '78% off',\n",
       " '68% off',\n",
       " '62% off',\n",
       " '12% off',\n",
       " '60% off',\n",
       " '77% off',\n",
       " '75% off',\n",
       " '30% off',\n",
       " '60% off',\n",
       " '69% off',\n",
       " '62% off',\n",
       " '64% off',\n",
       " '60% off',\n",
       " '55% off',\n",
       " '65% off',\n",
       " '17% off',\n",
       " '78% off',\n",
       " '61% off',\n",
       " '53% off',\n",
       " '43% off',\n",
       " '72% off',\n",
       " '62% off',\n",
       " '46% off',\n",
       " '53% off',\n",
       " '55% off',\n",
       " '68% off',\n",
       " '52% off',\n",
       " '65% off',\n",
       " '61% off',\n",
       " '52% off',\n",
       " '57% off',\n",
       " '55% off',\n",
       " '55% off',\n",
       " '66% off',\n",
       " '65% off',\n",
       " '78% off',\n",
       " '87% off',\n",
       " '61% off',\n",
       " '61% off',\n",
       " '69% off']"
      ]
     },
     "execution_count": 433,
     "metadata": {},
     "output_type": "execute_result"
    }
   ],
   "source": [
    "dis_count = []\n",
    "for i in page_url[1:4]:\n",
    "    driver.get(i)\n",
    "    discount = driver.find_elements_by_xpath(\"//div[@class='_3Ay6Sb']//span\")\n",
    "    for i in discount:\n",
    "        dis_count.append(i.text)\n",
    "DISCOUNT = dis_count[:99]\n",
    "DISCOUNT"
   ]
  },
  {
   "cell_type": "code",
   "execution_count": 434,
   "metadata": {},
   "outputs": [
    {
     "name": "stdout",
     "output_type": "stream",
     "text": [
      "99\n"
     ]
    }
   ],
   "source": [
    "print(len(DISCOUNT))"
   ]
  },
  {
   "cell_type": "code",
   "execution_count": 435,
   "metadata": {},
   "outputs": [
    {
     "data": {
      "text/html": [
       "<div>\n",
       "<style scoped>\n",
       "    .dataframe tbody tr th:only-of-type {\n",
       "        vertical-align: middle;\n",
       "    }\n",
       "\n",
       "    .dataframe tbody tr th {\n",
       "        vertical-align: top;\n",
       "    }\n",
       "\n",
       "    .dataframe thead th {\n",
       "        text-align: right;\n",
       "    }\n",
       "</style>\n",
       "<table border=\"1\" class=\"dataframe\">\n",
       "  <thead>\n",
       "    <tr style=\"text-align: right;\">\n",
       "      <th></th>\n",
       "      <th>BRAND</th>\n",
       "      <th>DESCRIPTION</th>\n",
       "      <th>PRICE</th>\n",
       "      <th>DISCOUNT</th>\n",
       "    </tr>\n",
       "  </thead>\n",
       "  <tbody>\n",
       "    <tr>\n",
       "      <th>0</th>\n",
       "      <td>CALCADOS</td>\n",
       "      <td>Fashion Outdoor Canvas Casual Light Weight Lac...</td>\n",
       "      <td>₹748</td>\n",
       "      <td>62% off</td>\n",
       "    </tr>\n",
       "    <tr>\n",
       "      <th>1</th>\n",
       "      <td>RODDICK SHOES</td>\n",
       "      <td>Combo Pack of 4 Casual Shoes Sneakers For Men</td>\n",
       "      <td>₹474</td>\n",
       "      <td>52% off</td>\n",
       "    </tr>\n",
       "    <tr>\n",
       "      <th>2</th>\n",
       "      <td>BIRDE</td>\n",
       "      <td>Casual Sneaker for Men Sneakers For Men</td>\n",
       "      <td>₹624</td>\n",
       "      <td>68% off</td>\n",
       "    </tr>\n",
       "    <tr>\n",
       "      <th>3</th>\n",
       "      <td>pollachief</td>\n",
       "      <td>Sneakers For Men</td>\n",
       "      <td>₹468</td>\n",
       "      <td>65% off</td>\n",
       "    </tr>\n",
       "    <tr>\n",
       "      <th>4</th>\n",
       "      <td>tigonis</td>\n",
       "      <td>New Fashion Outdoor Trendy Lightweight Casual,...</td>\n",
       "      <td>₹359</td>\n",
       "      <td>80% off</td>\n",
       "    </tr>\n",
       "    <tr>\n",
       "      <th>...</th>\n",
       "      <td>...</td>\n",
       "      <td>...</td>\n",
       "      <td>...</td>\n",
       "      <td>...</td>\n",
       "    </tr>\n",
       "    <tr>\n",
       "      <th>94</th>\n",
       "      <td>PUMA</td>\n",
       "      <td>Combo Pack of 2 Casual Loafer Sneakers Shoes S...</td>\n",
       "      <td>₹1,049</td>\n",
       "      <td>78% off</td>\n",
       "    </tr>\n",
       "    <tr>\n",
       "      <th>95</th>\n",
       "      <td>Numenzo</td>\n",
       "      <td>Men's Running Shoes Fashion Breathable Sneaker...</td>\n",
       "      <td>₹498</td>\n",
       "      <td>87% off</td>\n",
       "    </tr>\n",
       "    <tr>\n",
       "      <th>96</th>\n",
       "      <td>ROAR SHOES</td>\n",
       "      <td>Sneakers For Men</td>\n",
       "      <td>₹1,129</td>\n",
       "      <td>61% off</td>\n",
       "    </tr>\n",
       "    <tr>\n",
       "      <th>97</th>\n",
       "      <td>luxury fashion</td>\n",
       "      <td>SM-162 Sneakers For Men</td>\n",
       "      <td>₹1,299</td>\n",
       "      <td>61% off</td>\n",
       "    </tr>\n",
       "    <tr>\n",
       "      <th>98</th>\n",
       "      <td>RED TAPE</td>\n",
       "      <td>RS-X Hard Drive Sneakers For Men</td>\n",
       "      <td>₹699</td>\n",
       "      <td>69% off</td>\n",
       "    </tr>\n",
       "  </tbody>\n",
       "</table>\n",
       "<p>99 rows × 4 columns</p>\n",
       "</div>"
      ],
      "text/plain": [
       "             BRAND                                        DESCRIPTION   PRICE  \\\n",
       "0         CALCADOS  Fashion Outdoor Canvas Casual Light Weight Lac...    ₹748   \n",
       "1    RODDICK SHOES      Combo Pack of 4 Casual Shoes Sneakers For Men    ₹474   \n",
       "2            BIRDE            Casual Sneaker for Men Sneakers For Men    ₹624   \n",
       "3       pollachief                                   Sneakers For Men    ₹468   \n",
       "4          tigonis  New Fashion Outdoor Trendy Lightweight Casual,...    ₹359   \n",
       "..             ...                                                ...     ...   \n",
       "94            PUMA  Combo Pack of 2 Casual Loafer Sneakers Shoes S...  ₹1,049   \n",
       "95         Numenzo  Men's Running Shoes Fashion Breathable Sneaker...    ₹498   \n",
       "96      ROAR SHOES                                   Sneakers For Men  ₹1,129   \n",
       "97  luxury fashion                            SM-162 Sneakers For Men  ₹1,299   \n",
       "98        RED TAPE                   RS-X Hard Drive Sneakers For Men    ₹699   \n",
       "\n",
       "   DISCOUNT  \n",
       "0   62% off  \n",
       "1   52% off  \n",
       "2   68% off  \n",
       "3   65% off  \n",
       "4   80% off  \n",
       "..      ...  \n",
       "94  78% off  \n",
       "95  87% off  \n",
       "96  61% off  \n",
       "97  61% off  \n",
       "98  69% off  \n",
       "\n",
       "[99 rows x 4 columns]"
      ]
     },
     "execution_count": 435,
     "metadata": {},
     "output_type": "execute_result"
    }
   ],
   "source": [
    "Products = pd.DataFrame({})\n",
    "Products[\"BRAND\"]=BRAND\n",
    "Products[\"DESCRIPTION\"]=PRODUCT_DESCRIPTION\n",
    "Products[\"PRICE\"]=PRICE\n",
    "Products[\"DISCOUNT\"]=DISCOUNT\n",
    "\n",
    "Products"
   ]
  },
  {
   "cell_type": "markdown",
   "metadata": {},
   "source": [
    "Q9."
   ]
  },
  {
   "cell_type": "code",
   "execution_count": 444,
   "metadata": {},
   "outputs": [],
   "source": [
    "url = \"https://www.myntra.com/shoes\"\n",
    "driver.get(url)"
   ]
  },
  {
   "cell_type": "code",
   "execution_count": 445,
   "metadata": {},
   "outputs": [],
   "source": [
    "price_filter= driver.find_element_by_xpath(\"/html/body/div[2]/div/div[1]/main/div[3]/div[1]/section/div/div[5]/ul/li[2]\")\n",
    "price_filter.click()"
   ]
  },
  {
   "cell_type": "code",
   "execution_count": 446,
   "metadata": {},
   "outputs": [],
   "source": [
    "color_filter = driver.find_element_by_xpath(\"/html/body/div[2]/div/div[1]/main/div[3]/div[1]/section/div/div[6]/ul/li[1]\")\n",
    "color_filter.click()"
   ]
  },
  {
   "cell_type": "code",
   "execution_count": 450,
   "metadata": {},
   "outputs": [
    {
     "data": {
      "text/plain": [
       "['https://www.myntra.com/shoes?f=Color%3ABlack_36454f&plaEnabled=false&rf=Price%3A6392.0_12595.0_6392.0%20TO%2012595.0&p=2',\n",
       " 'https://www.myntra.com/shoes?f=Color%3ABlack_36454f&plaEnabled=false&rf=Price%3A6392.0_12595.0_6392.0%20TO%2012595.0&p=3',\n",
       " 'https://www.myntra.com/shoes?f=Color%3ABlack_36454f&plaEnabled=false&rf=Price%3A6392.0_12595.0_6392.0%20TO%2012595.0&p=4',\n",
       " 'https://www.myntra.com/shoes?f=Color%3ABlack_36454f&plaEnabled=false&rf=Price%3A6392.0_12595.0_6392.0%20TO%2012595.0&p=5',\n",
       " 'https://www.myntra.com/shoes?f=Color%3ABlack_36454f&plaEnabled=false&rf=Price%3A6392.0_12595.0_6392.0%20TO%2012595.0&p=6',\n",
       " 'https://www.myntra.com/shoes?f=Color%3ABlack_36454f&plaEnabled=false&rf=Price%3A6392.0_12595.0_6392.0%20TO%2012595.0&p=7',\n",
       " 'https://www.myntra.com/shoes?f=Color%3ABlack_36454f&plaEnabled=false&rf=Price%3A6392.0_12595.0_6392.0%20TO%2012595.0&p=8',\n",
       " 'https://www.myntra.com/shoes?f=Color%3ABlack_36454f&plaEnabled=false&rf=Price%3A6392.0_12595.0_6392.0%20TO%2012595.0&p=9',\n",
       " 'https://www.myntra.com/shoes?f=Color%3ABlack_36454f&plaEnabled=false&rf=Price%3A6392.0_12595.0_6392.0%20TO%2012595.0&p=10']"
      ]
     },
     "execution_count": 450,
     "metadata": {},
     "output_type": "execute_result"
    }
   ],
   "source": [
    "page_url = []\n",
    "url = driver.find_elements_by_xpath(\"//li[@class='pagination-number']//a\")\n",
    "for i in url:\n",
    "    page_url.append(i.get_attribute(\"href\"))\n",
    "page_url"
   ]
  },
  {
   "cell_type": "code",
   "execution_count": null,
   "metadata": {},
   "outputs": [],
   "source": [
    "brand = []\n",
    "for i in page_url:\n",
    "    driver.get(i)\n",
    "    brand_name = driver.find_elements_by_xpath(\"//div[@class='pdp-title']//h1\")\n",
    "    for i in brand_name:\n",
    "        brand.append(i.text)\n",
    "BRAND = brand[:100]\n",
    "BRAND"
   ]
  },
  {
   "cell_type": "markdown",
   "metadata": {},
   "source": [
    "Q10."
   ]
  },
  {
   "cell_type": "code",
   "execution_count": 473,
   "metadata": {},
   "outputs": [],
   "source": [
    "url = \"https://www.amazon.in/\"\n",
    "driver.get(url)"
   ]
  },
  {
   "cell_type": "code",
   "execution_count": 474,
   "metadata": {},
   "outputs": [
    {
     "data": {
      "text/plain": [
       "<selenium.webdriver.remote.webelement.WebElement (session=\"ff668bbbc3047ef59ee41fb6294c9f7c\", element=\"f5c37a60-c2f4-4860-be43-b03f9dfc90b7\")>"
      ]
     },
     "execution_count": 474,
     "metadata": {},
     "output_type": "execute_result"
    }
   ],
   "source": [
    "search_product = driver.find_element_by_id(\"twotabsearchtextbox\")\n",
    "search_product"
   ]
  },
  {
   "cell_type": "code",
   "execution_count": 475,
   "metadata": {},
   "outputs": [],
   "source": [
    "search_product.send_keys(\"Laptop\")"
   ]
  },
  {
   "cell_type": "code",
   "execution_count": 476,
   "metadata": {},
   "outputs": [],
   "source": [
    "search_btn = driver.find_element_by_id(\"nav-search-submit-button\")\n",
    "search_btn.click()"
   ]
  },
  {
   "cell_type": "code",
   "execution_count": 481,
   "metadata": {},
   "outputs": [],
   "source": [
    "CPU_filter1 = driver.find_element_by_xpath(\"/html/body/div[1]/div[2]/div[1]/div[2]/div/div[3]/span/div[1]/span/div/div/div[5]/ul[17]/li[27]/span/a/div/label/i\")\n",
    "CPU_filter1.click()\n",
    "\n",
    "CPU_filter2 = driver.find_element_by_xpath(\"/html/body/div[1]/div[2]/div[1]/div[2]/div/div[3]/span/div[1]/span/div/div/div[5]/ul[17]/li[28]/span/a/div/label/i\")\n",
    "CPU_filter2.click()"
   ]
  },
  {
   "cell_type": "code",
   "execution_count": 482,
   "metadata": {},
   "outputs": [
    {
     "data": {
      "text/plain": [
       "[<selenium.webdriver.remote.webelement.WebElement (session=\"ff668bbbc3047ef59ee41fb6294c9f7c\", element=\"42556b03-7b11-402b-87c2-2655d513eeb4\")>,\n",
       " <selenium.webdriver.remote.webelement.WebElement (session=\"ff668bbbc3047ef59ee41fb6294c9f7c\", element=\"b1c1d816-2d81-48c2-be1e-03ab3b64b98b\")>,\n",
       " <selenium.webdriver.remote.webelement.WebElement (session=\"ff668bbbc3047ef59ee41fb6294c9f7c\", element=\"73071a11-cc62-4d10-8348-76a060d6233c\")>,\n",
       " <selenium.webdriver.remote.webelement.WebElement (session=\"ff668bbbc3047ef59ee41fb6294c9f7c\", element=\"424d2b82-2abf-4740-a402-ff4828e7eb29\")>,\n",
       " <selenium.webdriver.remote.webelement.WebElement (session=\"ff668bbbc3047ef59ee41fb6294c9f7c\", element=\"5f8a9da2-f3bd-49a1-832b-56583e345c7d\")>,\n",
       " <selenium.webdriver.remote.webelement.WebElement (session=\"ff668bbbc3047ef59ee41fb6294c9f7c\", element=\"af485606-b625-49e6-b3c2-9360354f5f16\")>,\n",
       " <selenium.webdriver.remote.webelement.WebElement (session=\"ff668bbbc3047ef59ee41fb6294c9f7c\", element=\"a2740621-374a-4395-a865-e5ac04955dce\")>,\n",
       " <selenium.webdriver.remote.webelement.WebElement (session=\"ff668bbbc3047ef59ee41fb6294c9f7c\", element=\"96fd8898-a130-4ca4-91eb-728c48877209\")>,\n",
       " <selenium.webdriver.remote.webelement.WebElement (session=\"ff668bbbc3047ef59ee41fb6294c9f7c\", element=\"bf2b808e-382e-44ce-bd19-27401acd080f\")>,\n",
       " <selenium.webdriver.remote.webelement.WebElement (session=\"ff668bbbc3047ef59ee41fb6294c9f7c\", element=\"12ac056d-bc4c-4827-b404-61d337a27e71\")>,\n",
       " <selenium.webdriver.remote.webelement.WebElement (session=\"ff668bbbc3047ef59ee41fb6294c9f7c\", element=\"f589bab9-c50d-46b8-9121-b49cd8954646\")>,\n",
       " <selenium.webdriver.remote.webelement.WebElement (session=\"ff668bbbc3047ef59ee41fb6294c9f7c\", element=\"18a7239d-8f7a-470c-a5f8-69a2c751f127\")>,\n",
       " <selenium.webdriver.remote.webelement.WebElement (session=\"ff668bbbc3047ef59ee41fb6294c9f7c\", element=\"e0d66d0f-0c86-4fd0-9b43-d8bbafaa096b\")>,\n",
       " <selenium.webdriver.remote.webelement.WebElement (session=\"ff668bbbc3047ef59ee41fb6294c9f7c\", element=\"7ffd4121-b751-47a6-9e1d-d493003ac42a\")>,\n",
       " <selenium.webdriver.remote.webelement.WebElement (session=\"ff668bbbc3047ef59ee41fb6294c9f7c\", element=\"3f550f06-f856-4a89-b66d-dcf44bde5d4c\")>,\n",
       " <selenium.webdriver.remote.webelement.WebElement (session=\"ff668bbbc3047ef59ee41fb6294c9f7c\", element=\"ea104a3e-61a8-4a51-8ee3-2c59820f92ab\")>,\n",
       " <selenium.webdriver.remote.webelement.WebElement (session=\"ff668bbbc3047ef59ee41fb6294c9f7c\", element=\"cc7c3b83-714a-42ee-a041-e5c2a51d5a5c\")>,\n",
       " <selenium.webdriver.remote.webelement.WebElement (session=\"ff668bbbc3047ef59ee41fb6294c9f7c\", element=\"307a1f40-baad-4ddd-817e-55125456829f\")>,\n",
       " <selenium.webdriver.remote.webelement.WebElement (session=\"ff668bbbc3047ef59ee41fb6294c9f7c\", element=\"5061f9ae-95c3-4edd-b79b-5d6c301d4029\")>,\n",
       " <selenium.webdriver.remote.webelement.WebElement (session=\"ff668bbbc3047ef59ee41fb6294c9f7c\", element=\"b99e7032-007a-4ff5-af4d-e4abc1f16797\")>,\n",
       " <selenium.webdriver.remote.webelement.WebElement (session=\"ff668bbbc3047ef59ee41fb6294c9f7c\", element=\"b4fcd4ad-f5d9-4cc1-b245-f016b103dfb6\")>,\n",
       " <selenium.webdriver.remote.webelement.WebElement (session=\"ff668bbbc3047ef59ee41fb6294c9f7c\", element=\"82ea2ef2-43d3-440e-aedc-999404588282\")>,\n",
       " <selenium.webdriver.remote.webelement.WebElement (session=\"ff668bbbc3047ef59ee41fb6294c9f7c\", element=\"01a328a3-b2a4-4d1a-9d3a-594d193dede5\")>,\n",
       " <selenium.webdriver.remote.webelement.WebElement (session=\"ff668bbbc3047ef59ee41fb6294c9f7c\", element=\"36e476b4-1416-4424-a9ee-9f7932368522\")>,\n",
       " <selenium.webdriver.remote.webelement.WebElement (session=\"ff668bbbc3047ef59ee41fb6294c9f7c\", element=\"5b9e9b90-a519-4520-8bc8-af99408e7dfe\")>,\n",
       " <selenium.webdriver.remote.webelement.WebElement (session=\"ff668bbbc3047ef59ee41fb6294c9f7c\", element=\"46d25835-2e3e-4467-971d-ad95c65b7ac6\")>,\n",
       " <selenium.webdriver.remote.webelement.WebElement (session=\"ff668bbbc3047ef59ee41fb6294c9f7c\", element=\"cd7a040c-3506-4d6b-be63-0971afe83f8d\")>,\n",
       " <selenium.webdriver.remote.webelement.WebElement (session=\"ff668bbbc3047ef59ee41fb6294c9f7c\", element=\"c368f6c0-6d9f-4053-b9f6-e44f778ec0c0\")>,\n",
       " <selenium.webdriver.remote.webelement.WebElement (session=\"ff668bbbc3047ef59ee41fb6294c9f7c\", element=\"0da18546-2f44-4840-9810-d1981618cc81\")>,\n",
       " <selenium.webdriver.remote.webelement.WebElement (session=\"ff668bbbc3047ef59ee41fb6294c9f7c\", element=\"6ec708d5-5d60-40d4-bf16-3476a136c5f4\")>]"
      ]
     },
     "execution_count": 482,
     "metadata": {},
     "output_type": "execute_result"
    }
   ],
   "source": [
    "title_tags = driver.find_elements_by_xpath(\"//a[@class='a-link-normal a-text-normal']\")\n",
    "title_tags"
   ]
  },
  {
   "cell_type": "code",
   "execution_count": 484,
   "metadata": {},
   "outputs": [
    {
     "data": {
      "text/plain": [
       "['HP Pavilion (2021) Thin & Light 11th Gen Core i7 Laptop, 16 GB RAM, 1TB SSD, Iris Xe Graphics, 14\" (35.56cms) FHD Screen, Windows 10, MS Office, Backlit Keyboard (14-dv0058TU)',\n",
       " 'HP Envy 11th Gen Core i7 Processor 13.3-inch (33.78 cms) FHD Touchscreen Laptop (16GB/1TB SSD/Win 10/NVIDIA MX450 2GB/Natural Silver/1.3 kg), 13-ba1018TX',\n",
       " 'MSI GF65 Thin, Intel i7-10750H, 15.6\" FHD (39.6 cm) IPS-Level 144Hz Panel Laptop (16GB/512GB NVMe SSD/Windows 10 Home/Nvidia GTX1660 Ti 6GB GDDR6/Black/1.86Kg), 10SDR-1280IN',\n",
       " 'HP Pavilion (2021) Thin & Light 11th Gen Core i7 Laptop, 16 GB RAM, 1TB SSD, Iris Xe Graphics, 14\" (35.56cms) FHD Screen, Windows 10, MS Office, Backlit Keyboard (14-dv0058TU)',\n",
       " 'Life Digital Laptop 15.6-inch (39.62 cms) (Intel Core i7, 4GB RAM, 256GB SSD, Windows 10), ZED AIR CX7',\n",
       " 'Mi Notebook Horizon Edition 14 Intel Core i7-10510U 10th Gen 14-inch (35.56 cms) Thin and Light Laptop(8GB/512GB SSD/Windows 10/Nvidia MX350 2GB Graphics/Grey/1.35Kg), XMA1904-AF+Webcam',\n",
       " 'ASUS TUF Gaming F15 (2020), 15.6-inch (39.62 cms) FHD 144Hz, Intel Core i7-10870H 10th Gen, NVIDIA GeForce GTX 1650 4GB Graphics, Gaming Laptop(8GB/512GB SSDWindows 10/Gray/2.3 Kg), FX566LH-HN255T',\n",
       " 'NEXSTGO Primus NX201 NP15N1IN008P 15.6-inch Laptop (Core i7-8550U/8GB/256GBSSD/Windows 10 Pro/Full HD + IR/Finger Print/Integrated Graphics/Thin & Light/1.88KG), Dark Gray',\n",
       " 'Life Digital Laptop 15.6-inch (39.62 cms) (Intel Core i7, 8GB RAM, 512GB SSD, Windows 10), ZED AIR CX7',\n",
       " '(Renewed) Life Digital Laptop 15.6-inch (39.62 cms) (Intel Core i7, 8GB RAM, 512GB SSD, Windows 10), ZED AIR CX7']"
      ]
     },
     "execution_count": 484,
     "metadata": {},
     "output_type": "execute_result"
    }
   ],
   "source": [
    "product_titles = []\n",
    "for i in title_tags:\n",
    "    product_titles.append(i.text)\n",
    "Titles = product_titles[:10]\n",
    "Titles"
   ]
  },
  {
   "cell_type": "code",
   "execution_count": 485,
   "metadata": {},
   "outputs": [
    {
     "name": "stdout",
     "output_type": "stream",
     "text": [
      "10\n"
     ]
    }
   ],
   "source": [
    "print(len(Titles))"
   ]
  },
  {
   "cell_type": "code",
   "execution_count": 498,
   "metadata": {},
   "outputs": [
    {
     "data": {
      "text/plain": [
       "[<selenium.webdriver.remote.webelement.WebElement (session=\"ff668bbbc3047ef59ee41fb6294c9f7c\", element=\"9b82012a-0019-419b-a50f-32050179c732\")>,\n",
       " <selenium.webdriver.remote.webelement.WebElement (session=\"ff668bbbc3047ef59ee41fb6294c9f7c\", element=\"ae197162-599d-4f70-bf18-377ccefaa681\")>,\n",
       " <selenium.webdriver.remote.webelement.WebElement (session=\"ff668bbbc3047ef59ee41fb6294c9f7c\", element=\"82f853f7-af1c-42f4-a819-3dd22d53d099\")>,\n",
       " <selenium.webdriver.remote.webelement.WebElement (session=\"ff668bbbc3047ef59ee41fb6294c9f7c\", element=\"bf0fd8d2-43c4-4464-b1e5-43ca4542d64f\")>,\n",
       " <selenium.webdriver.remote.webelement.WebElement (session=\"ff668bbbc3047ef59ee41fb6294c9f7c\", element=\"3e6a465d-5377-4fa2-938d-7960cbf4bb99\")>,\n",
       " <selenium.webdriver.remote.webelement.WebElement (session=\"ff668bbbc3047ef59ee41fb6294c9f7c\", element=\"80001d1f-10ca-4a73-8028-928ef51222bb\")>,\n",
       " <selenium.webdriver.remote.webelement.WebElement (session=\"ff668bbbc3047ef59ee41fb6294c9f7c\", element=\"491c383d-7281-4dd6-be13-bcfb0d69e64d\")>,\n",
       " <selenium.webdriver.remote.webelement.WebElement (session=\"ff668bbbc3047ef59ee41fb6294c9f7c\", element=\"bce494a2-3391-4cd2-8f16-91d79a79bc43\")>,\n",
       " <selenium.webdriver.remote.webelement.WebElement (session=\"ff668bbbc3047ef59ee41fb6294c9f7c\", element=\"a9662248-7fb7-43df-a2fc-851cbc8be5fc\")>,\n",
       " <selenium.webdriver.remote.webelement.WebElement (session=\"ff668bbbc3047ef59ee41fb6294c9f7c\", element=\"4e2fa608-e475-42bd-a24b-811884f97f32\")>,\n",
       " <selenium.webdriver.remote.webelement.WebElement (session=\"ff668bbbc3047ef59ee41fb6294c9f7c\", element=\"8c577c00-619c-436e-8584-af6fc4207668\")>,\n",
       " <selenium.webdriver.remote.webelement.WebElement (session=\"ff668bbbc3047ef59ee41fb6294c9f7c\", element=\"1eb96510-0fcf-405f-a247-b8f0ab6ca55a\")>,\n",
       " <selenium.webdriver.remote.webelement.WebElement (session=\"ff668bbbc3047ef59ee41fb6294c9f7c\", element=\"da2e4361-e130-4d70-b2a1-4e8ec0e1b209\")>,\n",
       " <selenium.webdriver.remote.webelement.WebElement (session=\"ff668bbbc3047ef59ee41fb6294c9f7c\", element=\"1e1bf122-7bc1-4201-b4c2-96a9a4ec2818\")>,\n",
       " <selenium.webdriver.remote.webelement.WebElement (session=\"ff668bbbc3047ef59ee41fb6294c9f7c\", element=\"059f4980-5416-4266-9c99-20d20edf0f91\")>,\n",
       " <selenium.webdriver.remote.webelement.WebElement (session=\"ff668bbbc3047ef59ee41fb6294c9f7c\", element=\"b2a1d4a3-a0d3-4e57-88f6-c5a424b156a9\")>,\n",
       " <selenium.webdriver.remote.webelement.WebElement (session=\"ff668bbbc3047ef59ee41fb6294c9f7c\", element=\"3f3445d1-7f46-4441-8ff6-d91d38324271\")>,\n",
       " <selenium.webdriver.remote.webelement.WebElement (session=\"ff668bbbc3047ef59ee41fb6294c9f7c\", element=\"7d6a5a0a-7718-41c8-8abe-ac2eac3314e0\")>,\n",
       " <selenium.webdriver.remote.webelement.WebElement (session=\"ff668bbbc3047ef59ee41fb6294c9f7c\", element=\"cee128e7-d54f-4982-9b88-0c557901e7e9\")>,\n",
       " <selenium.webdriver.remote.webelement.WebElement (session=\"ff668bbbc3047ef59ee41fb6294c9f7c\", element=\"8f8203bc-9c78-4667-9ccb-7f538a0e474b\")>,\n",
       " <selenium.webdriver.remote.webelement.WebElement (session=\"ff668bbbc3047ef59ee41fb6294c9f7c\", element=\"cbdafceb-de44-4795-ad4d-c744ea339ab5\")>,\n",
       " <selenium.webdriver.remote.webelement.WebElement (session=\"ff668bbbc3047ef59ee41fb6294c9f7c\", element=\"0a3b00ea-1907-435e-8808-084219b01821\")>,\n",
       " <selenium.webdriver.remote.webelement.WebElement (session=\"ff668bbbc3047ef59ee41fb6294c9f7c\", element=\"5077797d-1e49-40ff-be30-0613da926ba0\")>,\n",
       " <selenium.webdriver.remote.webelement.WebElement (session=\"ff668bbbc3047ef59ee41fb6294c9f7c\", element=\"9f71dc8d-b88a-4adc-8b88-dc9f6223c87c\")>,\n",
       " <selenium.webdriver.remote.webelement.WebElement (session=\"ff668bbbc3047ef59ee41fb6294c9f7c\", element=\"0dfad61d-3ab2-4da7-bdae-2dcfc1f191d3\")>,\n",
       " <selenium.webdriver.remote.webelement.WebElement (session=\"ff668bbbc3047ef59ee41fb6294c9f7c\", element=\"0c0f4e6e-c303-48eb-aac0-d1a362e6065d\")>,\n",
       " <selenium.webdriver.remote.webelement.WebElement (session=\"ff668bbbc3047ef59ee41fb6294c9f7c\", element=\"8d5aa0b7-6892-4dd8-b0fd-b2fa80e1ea2d\")>]"
      ]
     },
     "execution_count": 498,
     "metadata": {},
     "output_type": "execute_result"
    }
   ],
   "source": [
    "price_tags = driver.find_elements_by_xpath(\"//span[@class='a-price-whole']\")\n",
    "price_tags"
   ]
  },
  {
   "cell_type": "code",
   "execution_count": 499,
   "metadata": {},
   "outputs": [
    {
     "data": {
      "text/plain": [
       "['84,990',\n",
       " '99,990',\n",
       " '81,990',\n",
       " '84,990',\n",
       " '29,990',\n",
       " '59,999',\n",
       " '71,990',\n",
       " '56,155',\n",
       " '34,990',\n",
       " '74,990']"
      ]
     },
     "execution_count": 499,
     "metadata": {},
     "output_type": "execute_result"
    }
   ],
   "source": [
    "product_price = []\n",
    "for i in price_tags:\n",
    "    product_price.append(i.text)\n",
    "Price = product_price[:10]\n",
    "Price"
   ]
  },
  {
   "cell_type": "code",
   "execution_count": 500,
   "metadata": {},
   "outputs": [
    {
     "data": {
      "text/html": [
       "<div>\n",
       "<style scoped>\n",
       "    .dataframe tbody tr th:only-of-type {\n",
       "        vertical-align: middle;\n",
       "    }\n",
       "\n",
       "    .dataframe tbody tr th {\n",
       "        vertical-align: top;\n",
       "    }\n",
       "\n",
       "    .dataframe thead th {\n",
       "        text-align: right;\n",
       "    }\n",
       "</style>\n",
       "<table border=\"1\" class=\"dataframe\">\n",
       "  <thead>\n",
       "    <tr style=\"text-align: right;\">\n",
       "      <th></th>\n",
       "      <th>BRAND</th>\n",
       "      <th>PRICE</th>\n",
       "    </tr>\n",
       "  </thead>\n",
       "  <tbody>\n",
       "    <tr>\n",
       "      <th>0</th>\n",
       "      <td>HP Pavilion (2021) Thin &amp; Light 11th Gen Core ...</td>\n",
       "      <td>84,990</td>\n",
       "    </tr>\n",
       "    <tr>\n",
       "      <th>1</th>\n",
       "      <td>HP Envy 11th Gen Core i7 Processor 13.3-inch (...</td>\n",
       "      <td>99,990</td>\n",
       "    </tr>\n",
       "    <tr>\n",
       "      <th>2</th>\n",
       "      <td>MSI GF65 Thin, Intel i7-10750H, 15.6\" FHD (39....</td>\n",
       "      <td>81,990</td>\n",
       "    </tr>\n",
       "    <tr>\n",
       "      <th>3</th>\n",
       "      <td>HP Pavilion (2021) Thin &amp; Light 11th Gen Core ...</td>\n",
       "      <td>84,990</td>\n",
       "    </tr>\n",
       "    <tr>\n",
       "      <th>4</th>\n",
       "      <td>Life Digital Laptop 15.6-inch (39.62 cms) (Int...</td>\n",
       "      <td>29,990</td>\n",
       "    </tr>\n",
       "    <tr>\n",
       "      <th>5</th>\n",
       "      <td>Mi Notebook Horizon Edition 14 Intel Core i7-1...</td>\n",
       "      <td>59,999</td>\n",
       "    </tr>\n",
       "    <tr>\n",
       "      <th>6</th>\n",
       "      <td>ASUS TUF Gaming F15 (2020), 15.6-inch (39.62 c...</td>\n",
       "      <td>71,990</td>\n",
       "    </tr>\n",
       "    <tr>\n",
       "      <th>7</th>\n",
       "      <td>NEXSTGO Primus NX201 NP15N1IN008P 15.6-inch La...</td>\n",
       "      <td>56,155</td>\n",
       "    </tr>\n",
       "    <tr>\n",
       "      <th>8</th>\n",
       "      <td>Life Digital Laptop 15.6-inch (39.62 cms) (Int...</td>\n",
       "      <td>34,990</td>\n",
       "    </tr>\n",
       "    <tr>\n",
       "      <th>9</th>\n",
       "      <td>(Renewed) Life Digital Laptop 15.6-inch (39.62...</td>\n",
       "      <td>74,990</td>\n",
       "    </tr>\n",
       "  </tbody>\n",
       "</table>\n",
       "</div>"
      ],
      "text/plain": [
       "                                               BRAND   PRICE\n",
       "0  HP Pavilion (2021) Thin & Light 11th Gen Core ...  84,990\n",
       "1  HP Envy 11th Gen Core i7 Processor 13.3-inch (...  99,990\n",
       "2  MSI GF65 Thin, Intel i7-10750H, 15.6\" FHD (39....  81,990\n",
       "3  HP Pavilion (2021) Thin & Light 11th Gen Core ...  84,990\n",
       "4  Life Digital Laptop 15.6-inch (39.62 cms) (Int...  29,990\n",
       "5  Mi Notebook Horizon Edition 14 Intel Core i7-1...  59,999\n",
       "6  ASUS TUF Gaming F15 (2020), 15.6-inch (39.62 c...  71,990\n",
       "7  NEXSTGO Primus NX201 NP15N1IN008P 15.6-inch La...  56,155\n",
       "8  Life Digital Laptop 15.6-inch (39.62 cms) (Int...  34,990\n",
       "9  (Renewed) Life Digital Laptop 15.6-inch (39.62...  74,990"
      ]
     },
     "execution_count": 500,
     "metadata": {},
     "output_type": "execute_result"
    }
   ],
   "source": [
    "Products = pd.DataFrame({})\n",
    "Products[\"BRAND\"]=Titles\n",
    "Products[\"PRICE\"]=Price\n",
    "\n",
    "Products"
   ]
  },
  {
   "cell_type": "code",
   "execution_count": null,
   "metadata": {},
   "outputs": [],
   "source": []
  }
 ],
 "metadata": {
  "kernelspec": {
   "display_name": "Python 3",
   "language": "python",
   "name": "python3"
  },
  "language_info": {
   "codemirror_mode": {
    "name": "ipython",
    "version": 3
   },
   "file_extension": ".py",
   "mimetype": "text/x-python",
   "name": "python",
   "nbconvert_exporter": "python",
   "pygments_lexer": "ipython3",
   "version": "3.8.5"
  }
 },
 "nbformat": 4,
 "nbformat_minor": 4
}
