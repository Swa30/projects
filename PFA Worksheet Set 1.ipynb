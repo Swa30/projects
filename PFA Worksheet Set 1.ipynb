{
 "cells": [
  {
   "cell_type": "markdown",
   "metadata": {},
   "source": [
    "# Python Worksheet"
   ]
  },
  {
   "cell_type": "code",
   "execution_count": null,
   "metadata": {},
   "outputs": [],
   "source": [
    "1.Which of the following operators is used to calculate remainder in a division?\n",
    "C) %\n",
    "2. In python 2//3 is equal to?\n",
    "B) 0\n",
    "3. In python, 6<<2 is equal to?\n",
    "C) 24\n",
    "4. In python, 6&2 will give which of the following as output?\n",
    "A) 2\n",
    "5. In python, 6|2 will give which of the following as output?\n",
    "D) 6\n",
    "6. What does the finally keyword denotes in python?\n",
    "B) It encloses the lines of code which will be executed if any error occurs while executing the lines of code in\n",
    "the try block.\n",
    "7. What does raise keyword is used for in python?\n",
    "A) It is used to raise an exception.\n",
    "8. Which of the following is a common use case of yield keyword in python?\n",
    "C) in defining a generator\n",
    "9. Which of the following are the valid variable names?\n",
    "A) _abc C) abc2\n",
    "10. Which of the following are the keywords in python?\n",
    "A) yield B) raise"
   ]
  },
  {
   "cell_type": "code",
   "execution_count": 7,
   "metadata": {},
   "outputs": [
    {
     "name": "stdout",
     "output_type": "stream",
     "text": [
      "Enter the number : 10\n",
      "The factorial of 10 is 3628800\n"
     ]
    }
   ],
   "source": [
    "#Q11.Write a python program to find a factorial of a number\n",
    "num = int(input(\"Enter the number : \"))\n",
    "fact = 1\n",
    "if num < 0 :\n",
    "    print (\"Negative numbers does not have factorials\")\n",
    "    \n",
    "elif num == 0:\n",
    "        print (\"The factorial of 0 is 1\")\n",
    "        \n",
    "else:\n",
    "    for i in range(1,num+1):\n",
    "        fact = fact*i\n",
    "    print(\"The factorial of\",num,\"is\",fact)"
   ]
  },
  {
   "cell_type": "code",
   "execution_count": 17,
   "metadata": {},
   "outputs": [
    {
     "name": "stdout",
     "output_type": "stream",
     "text": [
      "Enter a number: 6\n",
      "6 is a composite number\n"
     ]
    }
   ],
   "source": [
    "#Q12.Write a python program to find whether the number is prime or composite\n",
    "num = int(input(\"Enter a number: \"))  \n",
    "      \n",
    "if num > 1:  \n",
    "    for i in range(2,num):  \n",
    "        if (num % i) == 0:  \n",
    "            print(num,\"is a composite number\")    \n",
    "            break  \n",
    "        else:  \n",
    "            print(num,\"is a prime number\")  \n",
    "            \n",
    "else:  \n",
    "    print(num,\"is not a prime number\")  "
   ]
  },
  {
   "cell_type": "code",
   "execution_count": 2,
   "metadata": {},
   "outputs": [
    {
     "name": "stdout",
     "output_type": "stream",
     "text": [
      "Enter the string : sorry\n",
      "The string is not a palindrome\n"
     ]
    }
   ],
   "source": [
    "#Q13.Write a python program to check whether a given string is palindrome or not\n",
    "string = input(\"Enter the string : \")\n",
    "if (string == string[::-1]):\n",
    "    print (\"The string is a palindrome\")\n",
    "else:\n",
    "    print(\"The string is not a palindrome\")"
   ]
  },
  {
   "cell_type": "code",
   "execution_count": 3,
   "metadata": {},
   "outputs": [
    {
     "name": "stdout",
     "output_type": "stream",
     "text": [
      "Hyp = 6.4031242374328485\n",
      "Adjacent = 4.47213595499958\n",
      "Opposite = 3.3166247903554\n",
      "You got the right answer\n"
     ]
    }
   ],
   "source": [
    "#Q14.Write a python program to get the third side of right - angled triangle from two given sides\n",
    "\n",
    "def pythagoras (oppo_side, adj_side, hyp):\n",
    "    if oppo_side == str(\"x\"):\n",
    "        return(\"Opposite = \"+str(((hyp ** 2) - (adj_side ** 2)) ** 0.5))\n",
    "    elif adj_side == str(\"x\"):\n",
    "        return(\"Adjacent = \"+str(((hyp ** 2) - (oppo_side ** 2)) ** 0.5))\n",
    "    elif hyp == str (\"x\"):\n",
    "        return(\"Hyp = \"+str(((oppo_side ** 2) + (adj_side ** 2)) ** 0.5))\n",
    "    else:\n",
    "        return(\"You got the right answer\")\n",
    "    \n",
    "print(pythagoras(4,5,\"x\"))\n",
    "print(pythagoras(4,\"x\",6))\n",
    "print(pythagoras(\"x\",5,6))\n",
    "print(pythagoras(4,5,6))"
   ]
  },
  {
   "cell_type": "code",
   "execution_count": 6,
   "metadata": {},
   "outputs": [
    {
     "name": "stdout",
     "output_type": "stream",
     "text": [
      "Enter the string : My name is allen\n",
      "Per char frequency in 'My name is allen' is :\n",
      " '{'M': 1, 'y': 1, ' ': 3, 'n': 2, 'a': 2, 'm': 1, 'e': 2, 'i': 1, 's': 1, 'l': 2}'\n"
     ]
    }
   ],
   "source": [
    "#Q15.Write a python program to print the frequency of each of the characters present in a given string\n",
    "\n",
    "string = input(\"Enter the string : \")\n",
    "frequencies = {}\n",
    "\n",
    "for char in string : \n",
    "    if char in frequencies:\n",
    "        frequencies [char] += 1\n",
    "    else:\n",
    "        frequencies [char] = 1\n",
    "        \n",
    "print(\"Per char frequency in '{}' is :\\n '{}'\".format(string,str(frequencies)))"
   ]
  },
  {
   "cell_type": "markdown",
   "metadata": {},
   "source": [
    "# Statistics Worksheet"
   ]
  },
  {
   "cell_type": "code",
   "execution_count": null,
   "metadata": {},
   "outputs": [],
   "source": [
    "1. Bernoulli random variables take (only) the values 1 and 0.\n",
    "a) True\n",
    "2. Which of the following theorem states that the distribution of averages of iid variables, properly\n",
    "normalized, becomes that of a standard normal as the sample size increases?\n",
    "a) Central Limit Theorem\n",
    "3. Which of the following is incorrect with respect to use of Poisson distribution?\n",
    "b) Modeling bounded count data\n",
    "4. Point out the correct statement.\n",
    "d) All of the mentioned\n",
    "5. ______ random variables are used to model rates.\n",
    "c) Poisson\n",
    "6. Usually replacing the standard error by its estimated value does change the CLT.\n",
    "b) False\n",
    "7. Which of the following testing is concerned with making decisions using data?\n",
    "b) Hypothesis\n",
    "8. Normalized data are centered at______and have units equal to standard deviations of the\n",
    "original data.\n",
    "a) 0\n",
    "9. Which of the following statement is incorrect with respect to outliers?\n",
    "c) Outliers cannot conform to the regression relationship"
   ]
  },
  {
   "cell_type": "code",
   "execution_count": null,
   "metadata": {},
   "outputs": [],
   "source": [
    "10. What do you understand by the term Normal Distribution?\n",
    "Ans. A normal distribution is a continuous distribution described by a bell shaped symmetric curve.It is a unimodal distribution\n",
    "and, by symmetry of the distribution, mean = median = mode. The tails of the distribution extend to infinity in both the \n",
    "direction, getting closer and closer but never quite touching. The distribution has two parameters mean and standard deviation.\n",
    "The mean determines where the center of the distribution is located whereas the standdard deviation determines the flatness\n",
    "of the distribution. Position of the center does not change if only standard deviation is changed.\n",
    "11. How do you handle missing data? What imputation techniques do you recommend?\n",
    "Ans. \n",
    "12. What is A/B testing?\n",
    "Ans. A/B testing is basically statistical hypothesis testing, or, statistical inference. \n",
    "It is an analytical method for making decisions that estimates population parameters based on sample statistics.\n",
    "13. Is mean imputation of missing data acceptable practice?\n",
    "Ans. No, its bad practice in general.If just estimating means: mean imputation preserves the mean of the observed data and\n",
    "leads to an underestimate of the standard deviation.Distorts relationships between variables by “pulling” estimates \n",
    "of the correlation toward zero.So if the data are missing completely at random, the estimate of the mean remains unbiased.\n",
    "14. What is linear regression in statistics?\n",
    "Ans. Simple linear regression considers a single regressor or predictor or explanatory variable (X) and a single dependent or \n",
    "response variable (Y). To find the likely form of the relationship, the researcher draws a sample from the population of\n",
    "interest and using the resulting data computes correlation coefficient and plots the scatter diagram.\n",
    "In case, linear relationship is indicated, a simple linear regression model for the population is formed resulting linear\n",
    "equation obtained by substituting the estimated values in place of parameters.\n",
    "15. What are the various branches of statistics?\n",
    "Ans. There are two main branches of statistics that everyone should know is :-\n",
    "    1. Descripitive statistics\n",
    "    2. Inferential statistics"
   ]
  },
  {
   "cell_type": "markdown",
   "metadata": {},
   "source": [
    "# Machine Learning Worksheet"
   ]
  },
  {
   "cell_type": "code",
   "execution_count": null,
   "metadata": {},
   "outputs": [],
   "source": [
    "1. The computational complexity of linear regression is:\n",
    "B) 𝑂(𝑛)\n",
    "2. Which of the following can be used to fit non-linear data?\n",
    "C) Polynomial Regression\n",
    "3. Which of the following can be used to optimize the cost function of Linear Regression?\n",
    "B) Gradient Descent\n",
    "4. Which of the following method does not have closed form solution for its coefficients?\n",
    "C) Lasso\n",
    "5. Which gradient descent algorithm always gives optimal solution?\n",
    "D) All of the above\n",
    "6. Generalization error measures how well a model performs on training data.\n",
    "A) True\n",
    "7. The cost function of linear regression can be given as 𝐽(𝑤0, 𝑤1) =1/2𝑚 ∑ (𝑤0 + 𝑤1𝑥(𝑖) - (𝑖))𝑚 2𝑖=1.\n",
    "The half term at start is due to:\n",
    "B) presence of half makes it easy to do grid search.\n",
    "8. Which of the following will have symmetric relation between dependent variable and independent\n",
    "variable?\n",
    "C) Both of them\n",
    "9. Which of the following is true about Normal Equation used to compute the coefficient of the Linear\n",
    "Regression?\n",
    "A) We don’t have to choose the learning rate.\n",
    "B) It becomes slow when number of features are very large.\n",
    "10. Which of the following statement/s are true if we generated data with the help of polynomial features\n",
    "with 5 degrees of freedom which perfectly fits the data?\n",
    "A) Linear Regression will have high bias and low variance.\n",
    "D) Polynomial with degree 5 will have high bias and low variance.\n",
    "11. Which of the following sentence is false regarding regression?\n",
    "C) It discovers causal relationship."
   ]
  },
  {
   "cell_type": "code",
   "execution_count": null,
   "metadata": {},
   "outputs": [],
   "source": [
    "12. Which Linear Regression training algorithm can we use if we have a training set with millions of\n",
    "features?\n",
    "Ans. If there are lots of features we cannot use Normal Equation so we can use gradient descent.\n",
    "The Gradient Descent suffers from features of different scales, because the model will take a longer time to reach \n",
    "the global maximum. We can always scale the features to eliminate this problem.\n",
    "13. Which algorithms will not suffer or might suffer, if the features in training set have very different scale.\n",
    "Ans. The normal equations method does not require normalizing the features, so it remains unaffected by \n",
    "features in the training set having very different scales."
   ]
  }
 ],
 "metadata": {
  "kernelspec": {
   "display_name": "Python 3",
   "language": "python",
   "name": "python3"
  },
  "language_info": {
   "codemirror_mode": {
    "name": "ipython",
    "version": 3
   },
   "file_extension": ".py",
   "mimetype": "text/x-python",
   "name": "python",
   "nbconvert_exporter": "python",
   "pygments_lexer": "ipython3",
   "version": "3.8.5"
  }
 },
 "nbformat": 4,
 "nbformat_minor": 4
}
